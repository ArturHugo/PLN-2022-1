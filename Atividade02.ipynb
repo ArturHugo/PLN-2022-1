{
  "nbformat": 4,
  "nbformat_minor": 0,
  "metadata": {
    "colab": {
      "name": "Atividade02.ipynb",
      "provenance": [],
      "collapsed_sections": [],
      "authorship_tag": "ABX9TyP3TW7x5k3xUhaDkeTD7P8N",
      "include_colab_link": true
    },
    "kernelspec": {
      "name": "python3",
      "display_name": "Python 3"
    },
    "language_info": {
      "name": "python"
    }
  },
  "cells": [
    {
      "cell_type": "markdown",
      "metadata": {
        "id": "view-in-github",
        "colab_type": "text"
      },
      "source": [
        "<a href=\"https://colab.research.google.com/github/ArturHugo/PLN-2022-1/blob/main/Atividade02.ipynb\" target=\"_parent\"><img src=\"https://colab.research.google.com/assets/colab-badge.svg\" alt=\"Open In Colab\"/></a>"
      ]
    },
    {
      "cell_type": "markdown",
      "source": [
        "# Atividade 01 - Prática de Expressões Regulares\n",
        "Grupo:\n",
        "\n",
        "- Artur Hugo cunha Pereira, 180030400\n",
        "- Gabriel da Silva Corvino Nogueira, 180113330 \n"
      ],
      "metadata": {
        "id": "QOHZl0bgq7bx"
      }
    },
    {
      "cell_type": "code",
      "execution_count": 110,
      "metadata": {
        "id": "ygAmwSR-q3ty"
      },
      "outputs": [],
      "source": [
        "import re\n",
        "import pandas as pd\n",
        "import nltk"
      ]
    },
    {
      "cell_type": "code",
      "source": [
        "df = pd.read_csv('https://raw.githubusercontent.com/viniciusrpb/cic0269_natural_language_processing/main/corpus_tweets/twitter-2013train-A.txt', sep='\\t', names=['id', 'sentiment', 'tweet'])\n",
        "df.values"
      ],
      "metadata": {
        "colab": {
          "base_uri": "https://localhost:8080/"
        },
        "id": "-BO3ckKPrXWB",
        "outputId": "0999b12b-3341-44a9-982b-bc383fa05f88"
      },
      "execution_count": 111,
      "outputs": [
        {
          "output_type": "execute_result",
          "data": {
            "text/plain": [
              "array([[264183816548130816, 'positive',\n",
              "        'Gas by my house hit $3.39!!!! I\\\\u2019m going to Chapel Hill on Sat. :)'],\n",
              "       [263405084770172928, 'negative',\n",
              "        'Theo Walcott is still shit\\\\u002c watch Rafa and Johnny deal with him on Saturday.'],\n",
              "       [262163168678248449, 'negative',\n",
              "        'its not that I\\\\u2019m a GSP fan\\\\u002c i just hate Nick Diaz. can\\\\u2019t wait for february.'],\n",
              "       ...,\n",
              "       [100259220338905089, 'neutral',\n",
              "        'All Blue and White fam, we r meeting at Golden Corral for dinner tonight at 6pm....'],\n",
              "       [104230318525001729, 'positive',\n",
              "        '@DariusButler28   Have a great game agaist Tampa Bay tonight.'],\n",
              "       [100461938533863424, 'negative',\n",
              "        \"I'm pisseeedddd that I missed Kid Cudi's show in Dallas, it was trending worldwide that night, &all Im hearing is positive reviews of lolla\"]],\n",
              "      dtype=object)"
            ]
          },
          "metadata": {},
          "execution_count": 111
        }
      ]
    },
    {
      "cell_type": "code",
      "source": [
        "tweet_df = df['tweet']\n",
        "tweet_df"
      ],
      "metadata": {
        "colab": {
          "base_uri": "https://localhost:8080/"
        },
        "id": "EZ6GNQEysoZw",
        "outputId": "ba2df4d4-574f-4251-d342-ce8392dc7b1f"
      },
      "execution_count": 112,
      "outputs": [
        {
          "output_type": "execute_result",
          "data": {
            "text/plain": [
              "0       Gas by my house hit $3.39!!!! I\\u2019m going t...\n",
              "1       Theo Walcott is still shit\\u002c watch Rafa an...\n",
              "2       its not that I\\u2019m a GSP fan\\u002c i just h...\n",
              "3       Iranian general says Israel\\u2019s Iron Dome c...\n",
              "4       Tehran\\u002c Mon Amour: Obama Tried to Establi...\n",
              "                              ...                        \n",
              "9679    RT @MNFootNg It's monday and Monday Night Foot...\n",
              "9680    All I know is the road for that Lomardi start ...\n",
              "9681    All Blue and White fam, we r meeting at Golden...\n",
              "9682    @DariusButler28   Have a great game agaist Tam...\n",
              "9683    I'm pisseeedddd that I missed Kid Cudi's show ...\n",
              "Name: tweet, Length: 9684, dtype: object"
            ]
          },
          "metadata": {},
          "execution_count": 112
        }
      ]
    },
    {
      "cell_type": "code",
      "source": [
        "# NLTK resources\n",
        "nltk.download('punkt')\n",
        "nltk.download('stopwords')\n",
        "nltk.download('wordnet')\n",
        "nltk.download('omw-1.4')\n",
        "stemmer = nltk.stem.porter.PorterStemmer()"
      ],
      "metadata": {
        "colab": {
          "base_uri": "https://localhost:8080/"
        },
        "id": "peNleru71Qzl",
        "outputId": "9e1c7740-2120-40f4-d6c0-0bab5f6562a8"
      },
      "execution_count": 113,
      "outputs": [
        {
          "output_type": "stream",
          "name": "stderr",
          "text": [
            "[nltk_data] Downloading package punkt to /root/nltk_data...\n",
            "[nltk_data]   Package punkt is already up-to-date!\n",
            "[nltk_data] Downloading package stopwords to /root/nltk_data...\n",
            "[nltk_data]   Package stopwords is already up-to-date!\n",
            "[nltk_data] Downloading package wordnet to /root/nltk_data...\n",
            "[nltk_data]   Package wordnet is already up-to-date!\n",
            "[nltk_data] Downloading package omw-1.4 to /root/nltk_data...\n",
            "[nltk_data]   Package omw-1.4 is already up-to-date!\n"
          ]
        }
      ]
    },
    {
      "cell_type": "code",
      "source": [
        "# Helper functions\n",
        "def tokenize(string):\n",
        "  # Replace happy emotes: :) , :D , xD , etc.\n",
        "  res = re.sub(r'[:Xx][\\)D]', 'happy', string.lower())\n",
        "  # Replace sad emotes: :( , xC , >:\\ , etc.\n",
        "  res = re.sub(r'>?[:Xx][\\(Cc\\\\\\/]', 'sad', res)\n",
        "  # Split string in unicode characters, user handles, apostrophes, \n",
        "  # dollar sign and punctuation (:, . and ,) followed by white space.\n",
        "  res = re.split(r'\\'|@\\w+|\\\\u[0-9a-f]{4}|[\\.:,]\\s|!|\\$', res)\n",
        "  # Runs through nltk tokenizer to finish tokenization\n",
        "  res = nltk.tokenize.word_tokenize(' '.join(res))\n",
        "  return res\n",
        "\n",
        "def filter_stopwords(word_array, stop_list):\n",
        "  # If word is in stop_list it is filtered out\n",
        "  res = [word for word in word_array if word not in stop_list]\n",
        "  return res"
      ],
      "metadata": {
        "id": "fwtJIR0Rwl0_"
      },
      "execution_count": 118,
      "outputs": []
    },
    {
      "cell_type": "code",
      "source": [
        "# Tokenizing\n",
        "tweet_df = tweet_df.apply(tokenize)\n",
        "tweet_df.values[0]"
      ],
      "metadata": {
        "colab": {
          "base_uri": "https://localhost:8080/"
        },
        "id": "D3-xX02PwNnW",
        "outputId": "07e08fc7-3162-4cf3-d444-e4f3b9114195"
      },
      "execution_count": 115,
      "outputs": [
        {
          "output_type": "execute_result",
          "data": {
            "text/plain": [
              "['gas',\n",
              " 'by',\n",
              " 'my',\n",
              " 'house',\n",
              " 'hit',\n",
              " '3.39',\n",
              " 'i',\n",
              " 'm',\n",
              " 'going',\n",
              " 'to',\n",
              " 'chapel',\n",
              " 'hill',\n",
              " 'on',\n",
              " 'sat',\n",
              " 'happy']"
            ]
          },
          "metadata": {},
          "execution_count": 115
        }
      ]
    },
    {
      "cell_type": "code",
      "source": [
        "# Remove stop words\n",
        "stop_list = [element[0] for element in pd.read_csv('https://raw.githubusercontent.com/ravikiranj/twitter-sentiment-analyzer/master/data/feature_list/stopwords.txt', header=None).values]\n",
        "stop_list.extend(['rt', ',']) # Additional stopwords\n",
        "tweet_df = tweet_df.apply(lambda tweet: filter_stopwords(tweet, stop_list))\n",
        "tweet_df"
      ],
      "metadata": {
        "colab": {
          "base_uri": "https://localhost:8080/"
        },
        "id": "tEsud-pizuM3",
        "outputId": "fb4a6cf4-7fcd-4023-a737-9beac897a958"
      },
      "execution_count": 116,
      "outputs": [
        {
          "output_type": "stream",
          "name": "stdout",
          "text": [
            "['a', 'about', 'above', 'across', 'after', 'again', 'against', 'all', 'almost', 'alone', 'along', 'already', 'also', 'although', 'always', 'among', 'an', 'and', 'another', 'any', 'anybody', 'anyone', 'anything', 'anywhere', 'are', 'area', 'areas', 'around', 'as', 'ask', 'asked', 'asking', 'asks', 'at', 'away', 'b', 'back', 'backed', 'backing', 'backs', 'be', 'became', 'because', 'become', 'becomes', 'been', 'before', 'began', 'behind', 'being', 'beings', 'best', 'better', 'between', 'big', 'both', 'but', 'by', 'c', 'came', 'can', 'cannot', 'case', 'cases', 'certain', 'certainly', 'clear', 'clearly', 'come', 'could', 'd', 'did', 'differ', 'different', 'differently', 'do', 'does', 'done', 'down', 'downed', 'downing', 'downs', 'during', 'e', 'each', 'early', 'either', 'end', 'ended', 'ending', 'ends', 'enough', 'even', 'evenly', 'ever', 'every', 'everybody', 'everyone', 'everything', 'everywhere', 'f', 'face', 'faces', 'fact', 'facts', 'far', 'felt', 'few', 'find', 'finds', 'first', 'for', 'four', 'from', 'full', 'fully', 'further', 'furthered', 'furthering', 'furthers', 'g', 'gave', 'general', 'generally', 'get', 'gets', 'give', 'given', 'gives', 'go', 'going', 'good', 'goods', 'got', 'great', 'greater', 'greatest', 'group', 'grouped', 'grouping', 'groups', 'h', 'had', 'has', 'have', 'having', 'he', 'her', 'here', 'herself', 'high', 'higher', 'highest', 'him', 'himself', 'his', 'how', 'however', 'i', 'if', 'important', 'in', 'interest', 'interested', 'interesting', 'interests', 'into', 'is', 'it', 'its', 'itself', 'j', 'just', 'k', 'keep', 'keeps', 'kind', 'knew', 'know', 'known', 'knows', 'l', 'large', 'largely', 'last', 'later', 'latest', 'least', 'less', 'let', 'lets', 'like', 'likely', 'long', 'longer', 'longest', 'm', 'made', 'make', 'making', 'man', 'many', 'may', 'me', 'member', 'members', 'men', 'might', 'more', 'most', 'mostly', 'mr', 'mrs', 'much', 'must', 'my', 'myself', 'n', 'necessary', 'need', 'needed', 'needing', 'needs', 'never', 'new', 'newer', 'newest', 'next', 'no', 'nobody', 'non', 'noone', 'not', 'nothing', 'now', 'nowhere', 'number', 'numbers', 'o', 'of', 'off', 'often', 'old', 'older', 'oldest', 'on', 'once', 'one', 'only', 'open', 'opened', 'opening', 'opens', 'or', 'order', 'ordered', 'ordering', 'orders', 'other', 'others', 'our', 'out', 'over', 'p', 'part', 'parted', 'parting', 'parts', 'per', 'perhaps', 'place', 'places', 'point', 'pointed', 'pointing', 'points', 'possible', 'present', 'presented', 'presenting', 'presents', 'problem', 'problems', 'put', 'puts', 'q', 'quite', 'r', 'rather', 'really', 'right', 'room', 'rooms', 's', 'said', 'same', 'saw', 'say', 'says', 'second', 'seconds', 'see', 'seem', 'seemed', 'seeming', 'seems', 'sees', 'several', 'shall', 'she', 'should', 'show', 'showed', 'showing', 'shows', 'side', 'sides', 'since', 'small', 'smaller', 'smallest', 'so', 'some', 'somebody', 'someone', 'something', 'somewhere', 'state', 'states', 'still', 'such', 'sure', 't', 'take', 'taken', 'than', 'that', 'the', 'their', 'them', 'then', 'there', 'therefore', 'these', 'they', 'thing', 'things', 'think', 'thinks', 'this', 'those', 'though', 'thought', 'thoughts', 'three', 'through', 'thus', 'to', 'today', 'together', 'too', 'took', 'toward', 'turn', 'turned', 'turning', 'turns', 'two', 'u', 'under', 'until', 'up', 'upon', 'us', 'use', 'used', 'uses', 'v', 'very', 'w', 'want', 'wanted', 'wanting', 'wants', 'was', 'way', 'ways', 'we', 'well', 'wells', 'went', 'were', 'what', 'when', 'where', 'whether', 'which', 'while', 'who', 'whole', 'whose', 'why', 'will', 'with', 'within', 'without', 'work', 'worked', 'working', 'works', 'would', 'x', 'y', 'year', 'years', 'yet', 'you', 'young', 'younger', 'youngest', 'your', 'yours', 'z', 'rt', ',']\n"
          ]
        },
        {
          "output_type": "execute_result",
          "data": {
            "text/plain": [
              "0       [gas, house, hit, 3.39, chapel, hill, sat, happy]\n",
              "1       [theo, walcott, shit, watch, rafa, johnny, dea...\n",
              "2         [gsp, fan, hate, nick, diaz, wait, february, .]\n",
              "3       [iranian, israel, iron, dome, deal, missiles, ...\n",
              "4       [tehran, mon, amour, obama, tried, establish, ...\n",
              "                              ...                        \n",
              "9679    [monday, monday, night, football, mind, love, ...\n",
              "9680    [road, lomardi, start, tonight, set, record, p...\n",
              "9681    [blue, white, fam, meeting, golden, corral, di...\n",
              "9682               [game, agaist, tampa, bay, tonight, .]\n",
              "9683    [pisseeedddd, missed, kid, cudi, dallas, trend...\n",
              "Name: tweet, Length: 9684, dtype: object"
            ]
          },
          "metadata": {},
          "execution_count": 116
        }
      ]
    },
    {
      "cell_type": "code",
      "source": [
        "# Stemming\n",
        "tweet_df = tweet_df.apply(lambda tweet: [stemmer.stem(word) for word in tweet])\n",
        "tweet_df"
      ],
      "metadata": {
        "colab": {
          "base_uri": "https://localhost:8080/"
        },
        "id": "jFJLDtSg4ZDt",
        "outputId": "b0852b9f-2c54-4844-8ac9-89fbc82bf9cf"
      },
      "execution_count": 117,
      "outputs": [
        {
          "output_type": "execute_result",
          "data": {
            "text/plain": [
              "0         [ga, hous, hit, 3.39, chapel, hill, sat, happi]\n",
              "1       [theo, walcott, shit, watch, rafa, johnni, dea...\n",
              "2         [gsp, fan, hate, nick, diaz, wait, februari, .]\n",
              "3       [iranian, israel, iron, dome, deal, missil, (,...\n",
              "4       [tehran, mon, amour, obama, tri, establish, ti...\n",
              "                              ...                        \n",
              "9679    [monday, monday, night, footbal, mind, love, f...\n",
              "9680    [road, lomardi, start, tonight, set, record, p...\n",
              "9681    [blue, white, fam, meet, golden, corral, dinne...\n",
              "9682               [game, agaist, tampa, bay, tonight, .]\n",
              "9683    [pisseeedddd, miss, kid, cudi, dalla, trend, w...\n",
              "Name: tweet, Length: 9684, dtype: object"
            ]
          },
          "metadata": {},
          "execution_count": 117
        }
      ]
    }
  ]
}