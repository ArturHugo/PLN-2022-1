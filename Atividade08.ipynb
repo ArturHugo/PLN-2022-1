{
  "nbformat": 4,
  "nbformat_minor": 0,
  "metadata": {
    "colab": {
      "provenance": [],
      "collapsed_sections": [],
      "include_colab_link": true
    },
    "kernelspec": {
      "name": "python3",
      "display_name": "Python 3"
    },
    "language_info": {
      "name": "python"
    },
    "accelerator": "GPU",
    "gpuClass": "standard"
  },
  "cells": [
    {
      "cell_type": "markdown",
      "metadata": {
        "id": "view-in-github",
        "colab_type": "text"
      },
      "source": [
        "<a href=\"https://colab.research.google.com/github/ArturHugo/PLN-2022-1/blob/main/Atividade08.ipynb\" target=\"_parent\"><img src=\"https://colab.research.google.com/assets/colab-badge.svg\" alt=\"Open In Colab\"/></a>"
      ]
    },
    {
      "cell_type": "markdown",
      "source": [
        "# Atividade 08 - RNN"
      ],
      "metadata": {
        "id": "lDf4OFUz-nmQ"
      }
    },
    {
      "cell_type": "code",
      "source": [
        "# !pip install -U tensorflow\n",
        "# !pip install -U keras\n",
        "# !apt install --allow-change-held-packages libcudnn8=8.1.0.77-1+cuda11.2"
      ],
      "metadata": {
        "id": "yaQAUxmSG8Lr",
        "colab": {
          "base_uri": "https://localhost:8080/"
        },
        "outputId": "03c5d6c2-fd3f-416d-83eb-9a71cd6abfe3"
      },
      "execution_count": 66,
      "outputs": [
        {
          "output_type": "stream",
          "name": "stdout",
          "text": [
            "Looking in indexes: https://pypi.org/simple, https://us-python.pkg.dev/colab-wheels/public/simple/\n",
            "Requirement already satisfied: tensorflow in /usr/local/lib/python3.7/dist-packages (2.10.0)\n",
            "Requirement already satisfied: libclang>=13.0.0 in /usr/local/lib/python3.7/dist-packages (from tensorflow) (14.0.6)\n",
            "Requirement already satisfied: tensorflow-estimator<2.11,>=2.10.0 in /usr/local/lib/python3.7/dist-packages (from tensorflow) (2.10.0)\n",
            "Requirement already satisfied: h5py>=2.9.0 in /usr/local/lib/python3.7/dist-packages (from tensorflow) (3.1.0)\n",
            "Requirement already satisfied: protobuf<3.20,>=3.9.2 in /usr/local/lib/python3.7/dist-packages (from tensorflow) (3.17.3)\n",
            "Requirement already satisfied: termcolor>=1.1.0 in /usr/local/lib/python3.7/dist-packages (from tensorflow) (1.1.0)\n",
            "Requirement already satisfied: astunparse>=1.6.0 in /usr/local/lib/python3.7/dist-packages (from tensorflow) (1.6.3)\n",
            "Requirement already satisfied: google-pasta>=0.1.1 in /usr/local/lib/python3.7/dist-packages (from tensorflow) (0.2.0)\n",
            "Requirement already satisfied: tensorflow-io-gcs-filesystem>=0.23.1 in /usr/local/lib/python3.7/dist-packages (from tensorflow) (0.26.0)\n",
            "Requirement already satisfied: setuptools in /usr/local/lib/python3.7/dist-packages (from tensorflow) (57.4.0)\n",
            "Requirement already satisfied: tensorboard<2.11,>=2.10 in /usr/local/lib/python3.7/dist-packages (from tensorflow) (2.10.0)\n",
            "Requirement already satisfied: typing-extensions>=3.6.6 in /usr/local/lib/python3.7/dist-packages (from tensorflow) (4.1.1)\n",
            "Requirement already satisfied: keras-preprocessing>=1.1.1 in /usr/local/lib/python3.7/dist-packages (from tensorflow) (1.1.2)\n",
            "Requirement already satisfied: numpy>=1.20 in /usr/local/lib/python3.7/dist-packages (from tensorflow) (1.21.6)\n",
            "Requirement already satisfied: packaging in /usr/local/lib/python3.7/dist-packages (from tensorflow) (21.3)\n",
            "Requirement already satisfied: flatbuffers>=2.0 in /usr/local/lib/python3.7/dist-packages (from tensorflow) (2.0.7)\n",
            "Requirement already satisfied: six>=1.12.0 in /usr/local/lib/python3.7/dist-packages (from tensorflow) (1.15.0)\n",
            "Requirement already satisfied: grpcio<2.0,>=1.24.3 in /usr/local/lib/python3.7/dist-packages (from tensorflow) (1.47.0)\n",
            "Requirement already satisfied: gast<=0.4.0,>=0.2.1 in /usr/local/lib/python3.7/dist-packages (from tensorflow) (0.4.0)\n",
            "Requirement already satisfied: opt-einsum>=2.3.2 in /usr/local/lib/python3.7/dist-packages (from tensorflow) (3.3.0)\n",
            "Requirement already satisfied: wrapt>=1.11.0 in /usr/local/lib/python3.7/dist-packages (from tensorflow) (1.14.1)\n",
            "Requirement already satisfied: keras<2.11,>=2.10.0 in /usr/local/lib/python3.7/dist-packages (from tensorflow) (2.10.0)\n",
            "Requirement already satisfied: absl-py>=1.0.0 in /usr/local/lib/python3.7/dist-packages (from tensorflow) (1.2.0)\n",
            "Requirement already satisfied: wheel<1.0,>=0.23.0 in /usr/local/lib/python3.7/dist-packages (from astunparse>=1.6.0->tensorflow) (0.37.1)\n",
            "Requirement already satisfied: cached-property in /usr/local/lib/python3.7/dist-packages (from h5py>=2.9.0->tensorflow) (1.5.2)\n",
            "Requirement already satisfied: tensorboard-plugin-wit>=1.6.0 in /usr/local/lib/python3.7/dist-packages (from tensorboard<2.11,>=2.10->tensorflow) (1.8.1)\n",
            "Requirement already satisfied: google-auth-oauthlib<0.5,>=0.4.1 in /usr/local/lib/python3.7/dist-packages (from tensorboard<2.11,>=2.10->tensorflow) (0.4.6)\n",
            "Requirement already satisfied: tensorboard-data-server<0.7.0,>=0.6.0 in /usr/local/lib/python3.7/dist-packages (from tensorboard<2.11,>=2.10->tensorflow) (0.6.1)\n",
            "Requirement already satisfied: markdown>=2.6.8 in /usr/local/lib/python3.7/dist-packages (from tensorboard<2.11,>=2.10->tensorflow) (3.4.1)\n",
            "Requirement already satisfied: requests<3,>=2.21.0 in /usr/local/lib/python3.7/dist-packages (from tensorboard<2.11,>=2.10->tensorflow) (2.23.0)\n",
            "Requirement already satisfied: google-auth<3,>=1.6.3 in /usr/local/lib/python3.7/dist-packages (from tensorboard<2.11,>=2.10->tensorflow) (1.35.0)\n",
            "Requirement already satisfied: werkzeug>=1.0.1 in /usr/local/lib/python3.7/dist-packages (from tensorboard<2.11,>=2.10->tensorflow) (1.0.1)\n",
            "Requirement already satisfied: pyasn1-modules>=0.2.1 in /usr/local/lib/python3.7/dist-packages (from google-auth<3,>=1.6.3->tensorboard<2.11,>=2.10->tensorflow) (0.2.8)\n",
            "Requirement already satisfied: rsa<5,>=3.1.4 in /usr/local/lib/python3.7/dist-packages (from google-auth<3,>=1.6.3->tensorboard<2.11,>=2.10->tensorflow) (4.9)\n",
            "Requirement already satisfied: cachetools<5.0,>=2.0.0 in /usr/local/lib/python3.7/dist-packages (from google-auth<3,>=1.6.3->tensorboard<2.11,>=2.10->tensorflow) (4.2.4)\n",
            "Requirement already satisfied: requests-oauthlib>=0.7.0 in /usr/local/lib/python3.7/dist-packages (from google-auth-oauthlib<0.5,>=0.4.1->tensorboard<2.11,>=2.10->tensorflow) (1.3.1)\n",
            "Requirement already satisfied: importlib-metadata>=4.4 in /usr/local/lib/python3.7/dist-packages (from markdown>=2.6.8->tensorboard<2.11,>=2.10->tensorflow) (4.12.0)\n",
            "Requirement already satisfied: zipp>=0.5 in /usr/local/lib/python3.7/dist-packages (from importlib-metadata>=4.4->markdown>=2.6.8->tensorboard<2.11,>=2.10->tensorflow) (3.8.1)\n",
            "Requirement already satisfied: pyasn1<0.5.0,>=0.4.6 in /usr/local/lib/python3.7/dist-packages (from pyasn1-modules>=0.2.1->google-auth<3,>=1.6.3->tensorboard<2.11,>=2.10->tensorflow) (0.4.8)\n",
            "Requirement already satisfied: chardet<4,>=3.0.2 in /usr/local/lib/python3.7/dist-packages (from requests<3,>=2.21.0->tensorboard<2.11,>=2.10->tensorflow) (3.0.4)\n",
            "Requirement already satisfied: certifi>=2017.4.17 in /usr/local/lib/python3.7/dist-packages (from requests<3,>=2.21.0->tensorboard<2.11,>=2.10->tensorflow) (2022.6.15)\n",
            "Requirement already satisfied: urllib3!=1.25.0,!=1.25.1,<1.26,>=1.21.1 in /usr/local/lib/python3.7/dist-packages (from requests<3,>=2.21.0->tensorboard<2.11,>=2.10->tensorflow) (1.24.3)\n",
            "Requirement already satisfied: idna<3,>=2.5 in /usr/local/lib/python3.7/dist-packages (from requests<3,>=2.21.0->tensorboard<2.11,>=2.10->tensorflow) (2.10)\n",
            "Requirement already satisfied: oauthlib>=3.0.0 in /usr/local/lib/python3.7/dist-packages (from requests-oauthlib>=0.7.0->google-auth-oauthlib<0.5,>=0.4.1->tensorboard<2.11,>=2.10->tensorflow) (3.2.0)\n",
            "Requirement already satisfied: pyparsing!=3.0.5,>=2.0.2 in /usr/local/lib/python3.7/dist-packages (from packaging->tensorflow) (3.0.9)\n",
            "Looking in indexes: https://pypi.org/simple, https://us-python.pkg.dev/colab-wheels/public/simple/\n",
            "Requirement already satisfied: keras in /usr/local/lib/python3.7/dist-packages (2.10.0)\n"
          ]
        }
      ]
    },
    {
      "cell_type": "code",
      "source": [
        "import pandas as pd\n",
        "from sklearn.feature_extraction.text import TfidfVectorizer\n",
        "from tensorflow.keras.optimizers import SGD\n",
        "from tensorflow.keras.preprocessing.text import Tokenizer\n",
        "from tensorflow.keras.utils import pad_sequences\n",
        "from keras.utils.np_utils import to_categorical\n",
        "import matplotlib.pyplot as plt\n",
        "import numpy as np\n",
        "import re"
      ],
      "metadata": {
        "id": "kLa3daEePeVT"
      },
      "execution_count": 67,
      "outputs": []
    },
    {
      "cell_type": "code",
      "source": [
        "import tensorflow_datasets as tfds\n",
        "\n",
        "ds_train = tfds.load('assin2', split='train', shuffle_files=True)\n",
        "ds_valid = tfds.load('assin2', split='validation', shuffle_files=False)\n",
        "ds_test  = tfds.load('assin2', split='test', shuffle_files=False)"
      ],
      "metadata": {
        "id": "xDP7veAGATGm"
      },
      "execution_count": 68,
      "outputs": []
    },
    {
      "cell_type": "code",
      "source": [
        "df_train = tfds.as_dataframe(ds_train)\n",
        "df_valid = tfds.as_dataframe(ds_valid)\n",
        "df_test  = tfds.as_dataframe(ds_test)"
      ],
      "metadata": {
        "id": "anyuL6rRBb9o"
      },
      "execution_count": 69,
      "outputs": []
    },
    {
      "cell_type": "code",
      "source": [
        "df_train[0:5]"
      ],
      "metadata": {
        "colab": {
          "base_uri": "https://localhost:8080/",
          "height": 206
        },
        "id": "vfPNukKyDHHl",
        "outputId": "28a31128-947c-4e84-83d6-ff1daa22d9d9"
      },
      "execution_count": 70,
      "outputs": [
        {
          "output_type": "execute_result",
          "data": {
            "text/plain": [
              "   entailment                                         hypothesis    id  \\\n",
              "0           1  b'O pelo de um gato est\\xc3\\xa1 sendo penteado...  1680   \n",
              "1           1        b'Um grupo de pessoas est\\xc3\\xa1 cantando'  1456   \n",
              "2           0  b'Uma mulher est\\xc3\\xa1 cortando br\\xc3\\xb3co...  4223   \n",
              "3           0  b'Um menino est\\xc3\\xa1 batendo em um homem co...  4093   \n",
              "4           1    b'A pessoa est\\xc3\\xa1 tocando o viol\\xc3\\xa3o'  3017   \n",
              "\n",
              "   similarity                                               text  \n",
              "0         4.8        b'Uma pessoa est\\xc3\\xa1 escovando um gato'  \n",
              "1         4.8                      b'Gente est\\xc3\\xa1 cantando'  \n",
              "2         4.2        b'Uma mulher est\\xc3\\xa1 cortando vegetais'  \n",
              "3         4.1  b'Um menino est\\xc3\\xa1 batendo em um homem co...  \n",
              "4         4.5     b'O homem est\\xc3\\xa1 tocando o viol\\xc3\\xa3o'  "
            ],
            "text/html": [
              "\n",
              "  <div id=\"df-bde7e322-23f7-4c93-946e-d914c53eb914\">\n",
              "    <div class=\"colab-df-container\">\n",
              "      <div>\n",
              "<style scoped>\n",
              "    .dataframe tbody tr th:only-of-type {\n",
              "        vertical-align: middle;\n",
              "    }\n",
              "\n",
              "    .dataframe tbody tr th {\n",
              "        vertical-align: top;\n",
              "    }\n",
              "\n",
              "    .dataframe thead th {\n",
              "        text-align: right;\n",
              "    }\n",
              "</style>\n",
              "<table border=\"1\" class=\"dataframe\">\n",
              "  <thead>\n",
              "    <tr style=\"text-align: right;\">\n",
              "      <th></th>\n",
              "      <th>entailment</th>\n",
              "      <th>hypothesis</th>\n",
              "      <th>id</th>\n",
              "      <th>similarity</th>\n",
              "      <th>text</th>\n",
              "    </tr>\n",
              "  </thead>\n",
              "  <tbody>\n",
              "    <tr>\n",
              "      <th>0</th>\n",
              "      <td>1</td>\n",
              "      <td>b'O pelo de um gato est\\xc3\\xa1 sendo penteado...</td>\n",
              "      <td>1680</td>\n",
              "      <td>4.8</td>\n",
              "      <td>b'Uma pessoa est\\xc3\\xa1 escovando um gato'</td>\n",
              "    </tr>\n",
              "    <tr>\n",
              "      <th>1</th>\n",
              "      <td>1</td>\n",
              "      <td>b'Um grupo de pessoas est\\xc3\\xa1 cantando'</td>\n",
              "      <td>1456</td>\n",
              "      <td>4.8</td>\n",
              "      <td>b'Gente est\\xc3\\xa1 cantando'</td>\n",
              "    </tr>\n",
              "    <tr>\n",
              "      <th>2</th>\n",
              "      <td>0</td>\n",
              "      <td>b'Uma mulher est\\xc3\\xa1 cortando br\\xc3\\xb3co...</td>\n",
              "      <td>4223</td>\n",
              "      <td>4.2</td>\n",
              "      <td>b'Uma mulher est\\xc3\\xa1 cortando vegetais'</td>\n",
              "    </tr>\n",
              "    <tr>\n",
              "      <th>3</th>\n",
              "      <td>0</td>\n",
              "      <td>b'Um menino est\\xc3\\xa1 batendo em um homem co...</td>\n",
              "      <td>4093</td>\n",
              "      <td>4.1</td>\n",
              "      <td>b'Um menino est\\xc3\\xa1 batendo em um homem co...</td>\n",
              "    </tr>\n",
              "    <tr>\n",
              "      <th>4</th>\n",
              "      <td>1</td>\n",
              "      <td>b'A pessoa est\\xc3\\xa1 tocando o viol\\xc3\\xa3o'</td>\n",
              "      <td>3017</td>\n",
              "      <td>4.5</td>\n",
              "      <td>b'O homem est\\xc3\\xa1 tocando o viol\\xc3\\xa3o'</td>\n",
              "    </tr>\n",
              "  </tbody>\n",
              "</table>\n",
              "</div>\n",
              "      <button class=\"colab-df-convert\" onclick=\"convertToInteractive('df-bde7e322-23f7-4c93-946e-d914c53eb914')\"\n",
              "              title=\"Convert this dataframe to an interactive table.\"\n",
              "              style=\"display:none;\">\n",
              "        \n",
              "  <svg xmlns=\"http://www.w3.org/2000/svg\" height=\"24px\"viewBox=\"0 0 24 24\"\n",
              "       width=\"24px\">\n",
              "    <path d=\"M0 0h24v24H0V0z\" fill=\"none\"/>\n",
              "    <path d=\"M18.56 5.44l.94 2.06.94-2.06 2.06-.94-2.06-.94-.94-2.06-.94 2.06-2.06.94zm-11 1L8.5 8.5l.94-2.06 2.06-.94-2.06-.94L8.5 2.5l-.94 2.06-2.06.94zm10 10l.94 2.06.94-2.06 2.06-.94-2.06-.94-.94-2.06-.94 2.06-2.06.94z\"/><path d=\"M17.41 7.96l-1.37-1.37c-.4-.4-.92-.59-1.43-.59-.52 0-1.04.2-1.43.59L10.3 9.45l-7.72 7.72c-.78.78-.78 2.05 0 2.83L4 21.41c.39.39.9.59 1.41.59.51 0 1.02-.2 1.41-.59l7.78-7.78 2.81-2.81c.8-.78.8-2.07 0-2.86zM5.41 20L4 18.59l7.72-7.72 1.47 1.35L5.41 20z\"/>\n",
              "  </svg>\n",
              "      </button>\n",
              "      \n",
              "  <style>\n",
              "    .colab-df-container {\n",
              "      display:flex;\n",
              "      flex-wrap:wrap;\n",
              "      gap: 12px;\n",
              "    }\n",
              "\n",
              "    .colab-df-convert {\n",
              "      background-color: #E8F0FE;\n",
              "      border: none;\n",
              "      border-radius: 50%;\n",
              "      cursor: pointer;\n",
              "      display: none;\n",
              "      fill: #1967D2;\n",
              "      height: 32px;\n",
              "      padding: 0 0 0 0;\n",
              "      width: 32px;\n",
              "    }\n",
              "\n",
              "    .colab-df-convert:hover {\n",
              "      background-color: #E2EBFA;\n",
              "      box-shadow: 0px 1px 2px rgba(60, 64, 67, 0.3), 0px 1px 3px 1px rgba(60, 64, 67, 0.15);\n",
              "      fill: #174EA6;\n",
              "    }\n",
              "\n",
              "    [theme=dark] .colab-df-convert {\n",
              "      background-color: #3B4455;\n",
              "      fill: #D2E3FC;\n",
              "    }\n",
              "\n",
              "    [theme=dark] .colab-df-convert:hover {\n",
              "      background-color: #434B5C;\n",
              "      box-shadow: 0px 1px 3px 1px rgba(0, 0, 0, 0.15);\n",
              "      filter: drop-shadow(0px 1px 2px rgba(0, 0, 0, 0.3));\n",
              "      fill: #FFFFFF;\n",
              "    }\n",
              "  </style>\n",
              "\n",
              "      <script>\n",
              "        const buttonEl =\n",
              "          document.querySelector('#df-bde7e322-23f7-4c93-946e-d914c53eb914 button.colab-df-convert');\n",
              "        buttonEl.style.display =\n",
              "          google.colab.kernel.accessAllowed ? 'block' : 'none';\n",
              "\n",
              "        async function convertToInteractive(key) {\n",
              "          const element = document.querySelector('#df-bde7e322-23f7-4c93-946e-d914c53eb914');\n",
              "          const dataTable =\n",
              "            await google.colab.kernel.invokeFunction('convertToInteractive',\n",
              "                                                     [key], {});\n",
              "          if (!dataTable) return;\n",
              "\n",
              "          const docLinkHtml = 'Like what you see? Visit the ' +\n",
              "            '<a target=\"_blank\" href=https://colab.research.google.com/notebooks/data_table.ipynb>data table notebook</a>'\n",
              "            + ' to learn more about interactive tables.';\n",
              "          element.innerHTML = '';\n",
              "          dataTable['output_type'] = 'display_data';\n",
              "          await google.colab.output.renderOutput(dataTable, element);\n",
              "          const docLink = document.createElement('div');\n",
              "          docLink.innerHTML = docLinkHtml;\n",
              "          element.appendChild(docLink);\n",
              "        }\n",
              "      </script>\n",
              "    </div>\n",
              "  </div>\n",
              "  "
            ]
          },
          "metadata": {},
          "execution_count": 70
        }
      ]
    },
    {
      "cell_type": "code",
      "source": [
        "train_series = [(hypothesis + b' ' + text).decode('utf-8').lower() for (hypothesis, text) in list(zip(df_train['hypothesis'], df_train['text']))]\n",
        "train_labels = df_train['entailment']\n",
        "\n",
        "valid_series = [(hypothesis + b' ' + text).decode('utf-8').lower() for (hypothesis, text) in list(zip(df_valid['hypothesis'], df_valid['text']))]\n",
        "valid_labels = df_valid['entailment']\n",
        "\n",
        "test_series = [(hypothesis + b' ' + text).decode('utf-8').lower() for (hypothesis, text) in list(zip(df_test['hypothesis'], df_test['text']))]\n",
        "test_labels = df_test['entailment']"
      ],
      "metadata": {
        "id": "MWO6bS02PaeH"
      },
      "execution_count": 71,
      "outputs": []
    },
    {
      "cell_type": "code",
      "source": [
        "import nltk\n",
        "nltk.download('stopwords')\n",
        "stopwords = nltk.corpus.stopwords.words('portuguese')\n",
        "\n",
        "def filter_stopwords(string, stop_list):\n",
        "  return [word for word in string.split(' ') if word not in stop_list]"
      ],
      "metadata": {
        "colab": {
          "base_uri": "https://localhost:8080/"
        },
        "id": "onxDtrhuKUF4",
        "outputId": "0d03bbba-fe49-4c2f-8b09-752a158f05e5"
      },
      "execution_count": 72,
      "outputs": [
        {
          "output_type": "stream",
          "name": "stderr",
          "text": [
            "[nltk_data] Downloading package stopwords to /root/nltk_data...\n",
            "[nltk_data]   Package stopwords is already up-to-date!\n"
          ]
        }
      ]
    },
    {
      "cell_type": "code",
      "source": [
        "train_series = [filter_stopwords(sample, stopwords) for sample in train_series]\n",
        "valid_series = [filter_stopwords(sample, stopwords) for sample in valid_series]\n",
        "test_series  = [filter_stopwords(sample, stopwords) for sample in test_series]\n"
      ],
      "metadata": {
        "id": "uX0SSTbMKVNX"
      },
      "execution_count": 73,
      "outputs": []
    },
    {
      "cell_type": "code",
      "source": [
        "df_train = pd.DataFrame()\n",
        "df_train['text'] = train_series\n",
        "df_train['label'] = train_labels\n",
        "\n",
        "df_valid = pd.DataFrame()\n",
        "df_valid['text'] = valid_series\n",
        "df_valid['label'] = valid_labels\n",
        "\n",
        "df_test = pd.DataFrame()\n",
        "df_test['text'] = test_series\n",
        "df_test['label'] = test_labels"
      ],
      "metadata": {
        "id": "Mo-5EHlGGi2G"
      },
      "execution_count": 74,
      "outputs": []
    },
    {
      "cell_type": "code",
      "source": [
        "# Finding out number of words in the vocabulary to use with tokenizer\n",
        "unique_words = set()\n",
        "for sample in df_train['text'].values:\n",
        "  for word in sample:\n",
        "    unique_words.add(word)\n",
        "\n",
        "len(unique_words)"
      ],
      "metadata": {
        "id": "97XcF-5uTk3V",
        "colab": {
          "base_uri": "https://localhost:8080/"
        },
        "outputId": "53b28c75-515d-448d-e3be-d6a88d70945c"
      },
      "execution_count": 75,
      "outputs": [
        {
          "output_type": "execute_result",
          "data": {
            "text/plain": [
              "2361"
            ]
          },
          "metadata": {},
          "execution_count": 75
        }
      ]
    },
    {
      "cell_type": "code",
      "source": [
        "# Finding out apprpriate size for the sequences\n",
        "sample_lengths = df_train['text'].apply(len).values\n",
        "sample_length_hist = np.histogram(sample_lengths, bins=29)\n",
        "length_counts = list(sample_length_hist[0])\n",
        "lengths = list(sample_length_hist[1][:-1])\n",
        "plt.bar(lengths, length_counts)"
      ],
      "metadata": {
        "colab": {
          "base_uri": "https://localhost:8080/",
          "height": 282
        },
        "id": "FS0QWRYGVNfT",
        "outputId": "ac810cd0-78d0-4837-93ef-2c37bfe3220d"
      },
      "execution_count": 76,
      "outputs": [
        {
          "output_type": "execute_result",
          "data": {
            "text/plain": [
              "<BarContainer object of 29 artists>"
            ]
          },
          "metadata": {},
          "execution_count": 76
        },
        {
          "output_type": "display_data",
          "data": {
            "text/plain": [
              "<Figure size 432x288 with 1 Axes>"
            ],
            "image/png": "[encoded data removed]"
          },
          "metadata": {
            "needs_background": "light"
          }
        }
      ]
    },
    {
      "cell_type": "code",
      "source": [
        "num_words = 2024\n",
        "max_len = 24\n",
        "tokenizer = Tokenizer(num_words=num_words, lower=True)\n",
        "tokenizer.fit_on_texts(df_train['text'])\n",
        "df_train['embeds'] = tokenizer.texts_to_sequences(df_train['text'])\n",
        "train_sequences = pad_sequences(df_train['embeds'],\n",
        "                                   maxlen=max_len,\n",
        "                                   padding='post',\n",
        "                                   truncating='post')\n",
        "df_valid['embeds'] = tokenizer.texts_to_sequences(df_valid['text'])\n",
        "valid_sequences = pad_sequences(df_valid['embeds'],\n",
        "                                   maxlen=max_len,\n",
        "                                   padding='post',\n",
        "                                   truncating='post')\n",
        "df_test['embeds'] = tokenizer.texts_to_sequences(df_test['text'])\n",
        "test_sequences = pad_sequences(df_test['embeds'],\n",
        "                                   maxlen=max_len,\n",
        "                                   padding='post',\n",
        "                                   truncating='post')\n",
        "train_sequences"
      ],
      "metadata": {
        "colab": {
          "base_uri": "https://localhost:8080/"
        },
        "id": "kZEKuwv0DnvN",
        "outputId": "a795dd75-ae71-49df-d8c0-5ba9648f8a11"
      },
      "execution_count": 77,
      "outputs": [
        {
          "output_type": "execute_result",
          "data": {
            "text/plain": [
              "array([[  26,    4, 1342, ...,    0,    0,    0],\n",
              "       [  50,   10,   47, ...,    0,    0,    0],\n",
              "       [   2,   17,  547, ...,    0,    0,    0],\n",
              "       ...,\n",
              "       [   3,  343,   13, ...,    0,    0,    0],\n",
              "       [  90,  182,  880, ...,    0,    0,    0],\n",
              "       [  66,    2,   23, ...,    0,    0,    0]], dtype=int32)"
            ]
          },
          "metadata": {},
          "execution_count": 77
        }
      ]
    },
    {
      "cell_type": "code",
      "source": [
        "train_sequences[0]"
      ],
      "metadata": {
        "colab": {
          "base_uri": "https://localhost:8080/"
        },
        "id": "P4fE3yHeTzav",
        "outputId": "b041a70a-10b5-487e-8cae-3e41d5796f3b"
      },
      "execution_count": 78,
      "outputs": [
        {
          "output_type": "execute_result",
          "data": {
            "text/plain": [
              "array([  26,    4, 1342,    6,    6,  182,   26,    0,    0,    0,    0,\n",
              "          0,    0,    0,    0,    0,    0,    0,    0,    0,    0,    0,\n",
              "          0,    0], dtype=int32)"
            ]
          },
          "metadata": {},
          "execution_count": 78
        }
      ]
    },
    {
      "cell_type": "code",
      "source": [
        "df_train['label'] = pd.Categorical(df_train['label'])\n",
        "y_train_int = df_train['label'].cat.codes\n",
        "\n",
        "df_valid['label'] = pd.Categorical(df_valid['label'])\n",
        "y_valid_int = df_valid['label'].cat.codes\n",
        "\n",
        "df_test['label'] = pd.Categorical(df_test['label'])\n",
        "y_test_int = df_test['label'].cat.codes"
      ],
      "metadata": {
        "id": "BrT8ydnGb4Eq"
      },
      "execution_count": 79,
      "outputs": []
    },
    {
      "cell_type": "code",
      "source": [
        "y_train = to_categorical(y_train_int)\n",
        "y_valid = to_categorical(y_valid_int)\n",
        "y_test = to_categorical(y_test_int)"
      ],
      "metadata": {
        "id": "V4Wd20UQdP9z"
      },
      "execution_count": 80,
      "outputs": []
    },
    {
      "cell_type": "code",
      "source": [
        "X_train = train_sequences\n",
        "X_valid = valid_sequences\n",
        "X_test = test_sequences"
      ],
      "metadata": {
        "id": "7jC6GyCRbplq"
      },
      "execution_count": 81,
      "outputs": []
    },
    {
      "cell_type": "code",
      "source": [
        "X_train[0].shape"
      ],
      "metadata": {
        "colab": {
          "base_uri": "https://localhost:8080/"
        },
        "id": "250jnTc6IXB_",
        "outputId": "0685770d-cbc8-4c48-9406-c70965274aec"
      },
      "execution_count": 82,
      "outputs": [
        {
          "output_type": "execute_result",
          "data": {
            "text/plain": [
              "(24,)"
            ]
          },
          "metadata": {},
          "execution_count": 82
        }
      ]
    },
    {
      "cell_type": "code",
      "source": [
        "N = train_sequences.shape[0]\n",
        "print(f'Quantidade de instancias de treinamento {N}')"
      ],
      "metadata": {
        "id": "vKP6m6AsXsql",
        "colab": {
          "base_uri": "https://localhost:8080/"
        },
        "outputId": "16f325bf-c941-4e2f-9afa-ec74e115682e"
      },
      "execution_count": 83,
      "outputs": [
        {
          "output_type": "stream",
          "name": "stdout",
          "text": [
            "Quantidade de instancias de treinamento 6500\n"
          ]
        }
      ]
    },
    {
      "cell_type": "code",
      "source": [
        "from keras.models import Sequential\n",
        "from keras.layers import Input, Dense, SimpleRNN, Embedding, Dropout\n",
        "\n",
        "def build_model(hp):\n",
        "  model = Sequential()\n",
        "  model.add(\n",
        "    Embedding(\n",
        "      num_words,\n",
        "      output_dim=hp.Int(\"embbeding_output_dim\", min_value=32, max_value=128, step=16)\n",
        "    )\n",
        "  )\n",
        "  model.add(\n",
        "    SimpleRNN(\n",
        "      units=hp.Int(\"rnn1_units\", min_value=32, max_value=256, step=32),\n",
        "      return_sequences=True,\n",
        "      activation='relu'\n",
        "    )\n",
        "  )\n",
        "  model.add(Dropout(0.5))\n",
        "  model.add(\n",
        "    SimpleRNN(\n",
        "      units=hp.Int(\"rnn2_units\", min_value=16, max_value=128, step=16),\n",
        "      activation='relu'\n",
        "    )\n",
        "  )\n",
        "  model.add(Dropout(0.5))\n",
        "  model.add(Dense(2, activation='softmax'))\n",
        "  model.compile(\n",
        "    optimizer=\"adam\", loss=\"categorical_crossentropy\", metrics=[\"accuracy\"],\n",
        "  )\n",
        "  return model"
      ],
      "metadata": {
        "id": "O8wG_SLDUv1B"
      },
      "execution_count": 84,
      "outputs": []
    },
    {
      "cell_type": "code",
      "source": [
        "#!pip install keras-tuner -q"
      ],
      "metadata": {
        "id": "hvGCrkuCd3s2"
      },
      "execution_count": 85,
      "outputs": []
    },
    {
      "cell_type": "code",
      "source": [
        "import keras_tuner\n",
        "\n",
        "tuner = keras_tuner.RandomSearch(\n",
        "    hypermodel=build_model,\n",
        "    objective=\"val_accuracy\",\n",
        "    max_trials=3,\n",
        "    executions_per_trial=2,\n",
        "    overwrite=True,\n",
        "    directory=\"./\",\n",
        "    project_name=\"rnn_with_keras_tuner\",\n",
        ")\n",
        "\n",
        "tuner.search_space_summary()"
      ],
      "metadata": {
        "colab": {
          "base_uri": "https://localhost:8080/"
        },
        "id": "kkY_blC2dLhs",
        "outputId": "fe36d594-0918-4738-dad7-6f3284459cf0"
      },
      "execution_count": 86,
      "outputs": [
        {
          "output_type": "stream",
          "name": "stdout",
          "text": [
            "Search space summary\n",
            "Default search space size: 3\n",
            "embbeding_output_dim (Int)\n",
            "{'default': None, 'conditions': [], 'min_value': 32, 'max_value': 128, 'step': 16, 'sampling': None}\n",
            "rnn1_units (Int)\n",
            "{'default': None, 'conditions': [], 'min_value': 32, 'max_value': 256, 'step': 32, 'sampling': None}\n",
            "rnn2_units (Int)\n",
            "{'default': None, 'conditions': [], 'min_value': 16, 'max_value': 128, 'step': 16, 'sampling': None}\n"
          ]
        }
      ]
    },
    {
      "cell_type": "code",
      "source": [
        "tuner.search(X_train, y_train, epochs=2, validation_data=(X_valid, y_valid))"
      ],
      "metadata": {
        "colab": {
          "base_uri": "https://localhost:8080/"
        },
        "id": "aAdqFwOweJF8",
        "outputId": "183302fb-c726-42a0-cbdd-9a8b5b86d9cd"
      },
      "execution_count": 87,
      "outputs": [
        {
          "output_type": "stream",
          "name": "stdout",
          "text": [
            "Trial 3 Complete [00h 01m 08s]\n",
            "val_accuracy: 0.5009999871253967\n",
            "\n",
            "Best val_accuracy So Far: 0.6679999828338623\n",
            "Total elapsed time: 00h 03m 45s\n"
          ]
        }
      ]
    },
    {
      "cell_type": "code",
      "source": [
        "models = tuner.get_best_models(num_models=2)\n",
        "best_model = models[0]"
      ],
      "metadata": {
        "id": "x-ieCFsplDzM"
      },
      "execution_count": 89,
      "outputs": []
    },
    {
      "cell_type": "code",
      "source": [
        "history = best_model.fit(X_train,y_train,validation_data=(X_valid,y_valid),epochs=50)"
      ],
      "metadata": {
        "id": "6f4dinSJbXft",
        "colab": {
          "base_uri": "https://localhost:8080/"
        },
        "outputId": "fded9445-c0ff-4480-f189-0dca19fe3629"
      },
      "execution_count": 90,
      "outputs": [
        {
          "output_type": "stream",
          "name": "stdout",
          "text": [
            "Epoch 1/50\n",
            "204/204 [==============================] - 14s 56ms/step - loss: 0.5653 - accuracy: 0.7074 - val_loss: 0.5649 - val_accuracy: 0.7100\n",
            "Epoch 2/50\n",
            "204/204 [==============================] - 11s 55ms/step - loss: 0.5097 - accuracy: 0.7523 - val_loss: 0.5418 - val_accuracy: 0.7300\n",
            "Epoch 3/50\n",
            "204/204 [==============================] - 12s 58ms/step - loss: 0.4655 - accuracy: 0.7849 - val_loss: 0.5227 - val_accuracy: 0.7440\n",
            "Epoch 4/50\n",
            "204/204 [==============================] - 12s 59ms/step - loss: 0.4428 - accuracy: 0.8022 - val_loss: 0.5259 - val_accuracy: 0.7440\n",
            "Epoch 5/50\n",
            "204/204 [==============================] - 11s 56ms/step - loss: 0.4087 - accuracy: 0.8212 - val_loss: 0.5453 - val_accuracy: 0.7600\n",
            "Epoch 6/50\n",
            "204/204 [==============================] - 11s 56ms/step - loss: 0.3804 - accuracy: 0.8271 - val_loss: 0.5660 - val_accuracy: 0.7640\n",
            "Epoch 7/50\n",
            "204/204 [==============================] - 12s 59ms/step - loss: 0.3446 - accuracy: 0.8409 - val_loss: 0.5045 - val_accuracy: 0.7660\n",
            "Epoch 8/50\n",
            "204/204 [==============================] - 13s 63ms/step - loss: 0.3185 - accuracy: 0.8543 - val_loss: 0.5817 - val_accuracy: 0.7820\n",
            "Epoch 9/50\n",
            "204/204 [==============================] - 11s 56ms/step - loss: 0.3052 - accuracy: 0.8608 - val_loss: 0.5425 - val_accuracy: 0.7660\n",
            "Epoch 10/50\n",
            "204/204 [==============================] - 12s 57ms/step - loss: 0.3040 - accuracy: 0.8583 - val_loss: 0.6131 - val_accuracy: 0.7720\n",
            "Epoch 11/50\n",
            "204/204 [==============================] - 12s 57ms/step - loss: 0.2859 - accuracy: 0.8717 - val_loss: 0.5998 - val_accuracy: 0.7620\n",
            "Epoch 12/50\n",
            "204/204 [==============================] - 12s 58ms/step - loss: 0.2702 - accuracy: 0.8723 - val_loss: 0.5343 - val_accuracy: 0.7540\n",
            "Epoch 13/50\n",
            "204/204 [==============================] - 12s 61ms/step - loss: 0.2482 - accuracy: 0.8866 - val_loss: 0.7262 - val_accuracy: 0.7620\n",
            "Epoch 14/50\n",
            "204/204 [==============================] - 11s 55ms/step - loss: 0.2495 - accuracy: 0.8874 - val_loss: 0.5699 - val_accuracy: 0.7680\n",
            "Epoch 15/50\n",
            "204/204 [==============================] - 11s 55ms/step - loss: 0.2445 - accuracy: 0.8888 - val_loss: 0.7670 - val_accuracy: 0.7700\n",
            "Epoch 16/50\n",
            "204/204 [==============================] - 11s 54ms/step - loss: 0.2438 - accuracy: 0.8865 - val_loss: 0.6313 - val_accuracy: 0.7600\n",
            "Epoch 17/50\n",
            "204/204 [==============================] - 11s 55ms/step - loss: 0.2164 - accuracy: 0.8971 - val_loss: 0.7900 - val_accuracy: 0.7560\n",
            "Epoch 18/50\n",
            "204/204 [==============================] - 11s 54ms/step - loss: 0.2142 - accuracy: 0.9032 - val_loss: 0.8238 - val_accuracy: 0.7620\n",
            "Epoch 19/50\n",
            "204/204 [==============================] - 11s 55ms/step - loss: 0.2002 - accuracy: 0.9072 - val_loss: 0.6333 - val_accuracy: 0.7680\n",
            "Epoch 20/50\n",
            "204/204 [==============================] - 11s 56ms/step - loss: 0.1983 - accuracy: 0.9048 - val_loss: 1.0687 - val_accuracy: 0.7580\n",
            "Epoch 21/50\n",
            "204/204 [==============================] - 11s 56ms/step - loss: 0.1886 - accuracy: 0.9120 - val_loss: 1.1775 - val_accuracy: 0.7620\n",
            "Epoch 22/50\n",
            "204/204 [==============================] - 13s 63ms/step - loss: 0.1973 - accuracy: 0.9062 - val_loss: 0.9803 - val_accuracy: 0.7780\n",
            "Epoch 23/50\n",
            "204/204 [==============================] - 11s 56ms/step - loss: 0.1934 - accuracy: 0.9100 - val_loss: 0.7095 - val_accuracy: 0.7780\n",
            "Epoch 24/50\n",
            "204/204 [==============================] - 16s 77ms/step - loss: 0.1769 - accuracy: 0.9189 - val_loss: 0.7662 - val_accuracy: 0.7720\n",
            "Epoch 25/50\n",
            "204/204 [==============================] - 12s 57ms/step - loss: 0.1602 - accuracy: 0.9232 - val_loss: 1.3240 - val_accuracy: 0.7780\n",
            "Epoch 26/50\n",
            "204/204 [==============================] - 17s 84ms/step - loss: 0.1605 - accuracy: 0.9312 - val_loss: 0.8643 - val_accuracy: 0.7640\n",
            "Epoch 27/50\n",
            "204/204 [==============================] - 11s 55ms/step - loss: 0.1564 - accuracy: 0.9249 - val_loss: 1.2849 - val_accuracy: 0.7580\n",
            "Epoch 28/50\n",
            "204/204 [==============================] - 12s 57ms/step - loss: 0.1931 - accuracy: 0.9146 - val_loss: 0.8520 - val_accuracy: 0.7880\n",
            "Epoch 29/50\n",
            "204/204 [==============================] - 11s 54ms/step - loss: 0.1944 - accuracy: 0.9108 - val_loss: 0.6968 - val_accuracy: 0.7900\n",
            "Epoch 30/50\n",
            "204/204 [==============================] - 11s 54ms/step - loss: 0.1720 - accuracy: 0.9254 - val_loss: 0.8289 - val_accuracy: 0.7840\n",
            "Epoch 31/50\n",
            "204/204 [==============================] - 12s 60ms/step - loss: 0.1563 - accuracy: 0.9328 - val_loss: 1.1439 - val_accuracy: 0.7920\n",
            "Epoch 32/50\n",
            "204/204 [==============================] - 12s 57ms/step - loss: 0.1529 - accuracy: 0.9377 - val_loss: 1.0430 - val_accuracy: 0.7780\n",
            "Epoch 33/50\n",
            "204/204 [==============================] - 11s 54ms/step - loss: 0.1251 - accuracy: 0.9428 - val_loss: 1.0536 - val_accuracy: 0.7900\n",
            "Epoch 34/50\n",
            "204/204 [==============================] - 11s 54ms/step - loss: 0.1319 - accuracy: 0.9400 - val_loss: 1.1317 - val_accuracy: 0.7840\n",
            "Epoch 35/50\n",
            "204/204 [==============================] - 11s 55ms/step - loss: 0.1161 - accuracy: 0.9514 - val_loss: 1.3488 - val_accuracy: 0.7800\n",
            "Epoch 36/50\n",
            "204/204 [==============================] - 11s 54ms/step - loss: 0.1201 - accuracy: 0.9462 - val_loss: 0.8946 - val_accuracy: 0.7840\n",
            "Epoch 37/50\n",
            "204/204 [==============================] - 11s 54ms/step - loss: 0.1338 - accuracy: 0.9431 - val_loss: 2.2084 - val_accuracy: 0.7640\n",
            "Epoch 38/50\n",
            "204/204 [==============================] - 11s 54ms/step - loss: 0.1318 - accuracy: 0.9423 - val_loss: 0.9637 - val_accuracy: 0.7760\n",
            "Epoch 39/50\n",
            "204/204 [==============================] - 11s 55ms/step - loss: 0.1394 - accuracy: 0.9472 - val_loss: 0.7761 - val_accuracy: 0.7840\n",
            "Epoch 40/50\n",
            "204/204 [==============================] - 11s 56ms/step - loss: 0.1126 - accuracy: 0.9554 - val_loss: 1.2477 - val_accuracy: 0.7660\n",
            "Epoch 41/50\n",
            "204/204 [==============================] - 13s 63ms/step - loss: 0.1099 - accuracy: 0.9558 - val_loss: 1.2235 - val_accuracy: 0.7840\n",
            "Epoch 42/50\n",
            "204/204 [==============================] - 12s 60ms/step - loss: 0.1331 - accuracy: 0.9449 - val_loss: 1.2275 - val_accuracy: 0.7740\n",
            "Epoch 43/50\n",
            "204/204 [==============================] - 11s 56ms/step - loss: 0.1209 - accuracy: 0.9540 - val_loss: 1.2646 - val_accuracy: 0.7740\n",
            "Epoch 44/50\n",
            "204/204 [==============================] - 12s 57ms/step - loss: 0.1068 - accuracy: 0.9588 - val_loss: 1.3665 - val_accuracy: 0.7740\n",
            "Epoch 45/50\n",
            "204/204 [==============================] - 12s 57ms/step - loss: 0.1175 - accuracy: 0.9535 - val_loss: 1.0365 - val_accuracy: 0.7720\n",
            "Epoch 46/50\n",
            "204/204 [==============================] - 11s 55ms/step - loss: 0.1004 - accuracy: 0.9575 - val_loss: 1.4665 - val_accuracy: 0.7760\n",
            "Epoch 47/50\n",
            "204/204 [==============================] - 11s 54ms/step - loss: 0.1064 - accuracy: 0.9588 - val_loss: 1.4206 - val_accuracy: 0.7620\n",
            "Epoch 48/50\n",
            "204/204 [==============================] - 11s 55ms/step - loss: 0.1027 - accuracy: 0.9591 - val_loss: 1.6927 - val_accuracy: 0.7700\n",
            "Epoch 49/50\n",
            "204/204 [==============================] - 11s 55ms/step - loss: 0.1024 - accuracy: 0.9585 - val_loss: 1.2900 - val_accuracy: 0.7820\n",
            "Epoch 50/50\n",
            "204/204 [==============================] - 12s 61ms/step - loss: 0.1016 - accuracy: 0.9602 - val_loss: 1.7701 - val_accuracy: 0.7640\n"
          ]
        }
      ]
    },
    {
      "cell_type": "code",
      "source": [
        "plt.plot(history.history['loss'])\n",
        "plt.plot(history.history['val_loss'])\n",
        "plt.title('Model loss')\n",
        "plt.ylabel('Loss')\n",
        "plt.xlabel('Epoch')\n",
        "plt.legend(['Train', 'Validation'], loc='upper left')\n",
        "plt.show()"
      ],
      "metadata": {
        "id": "OJHj7NfRfJrS",
        "colab": {
          "base_uri": "https://localhost:8080/",
          "height": 295
        },
        "outputId": "112e4212-5c2d-4680-82fb-ce061e41c249"
      },
      "execution_count": 91,
      "outputs": [
        {
          "output_type": "display_data",
          "data": {
            "text/plain": [
              "<Figure size 432x288 with 1 Axes>"
            ],
            "image/png": "[encoded data removed]"
          },
          "metadata": {
            "needs_background": "light"
          }
        }
      ]
    },
    {
      "cell_type": "code",
      "source": [
        "plt.plot(history.history['accuracy'])\n",
        "plt.plot(history.history['val_accuracy'])\n",
        "plt.title('Model acc')\n",
        "plt.ylabel('Accuracy')\n",
        "plt.xlabel('Epoch')\n",
        "plt.legend(['Train', 'Validation'], loc='upper left')\n",
        "plt.show()"
      ],
      "metadata": {
        "id": "cUKzQDzCgdVX",
        "colab": {
          "base_uri": "https://localhost:8080/",
          "height": 295
        },
        "outputId": "bf41fbce-e511-4c76-d184-275b60e524ee"
      },
      "execution_count": 92,
      "outputs": [
        {
          "output_type": "display_data",
          "data": {
            "text/plain": [
              "<Figure size 432x288 with 1 Axes>"
            ],
            "image/png": "[encoded data removed]"
          },
          "metadata": {
            "needs_background": "light"
          }
        }
      ]
    },
    {
      "cell_type": "markdown",
      "source": [
        "Avaliação com os Dados de Teste"
      ],
      "metadata": {
        "id": "QP7yxTEPg1Nv"
      }
    },
    {
      "cell_type": "code",
      "source": [
        "y = best_model.evaluate(X_test,y_test)"
      ],
      "metadata": {
        "id": "yM-hXxVtg4J2",
        "colab": {
          "base_uri": "https://localhost:8080/"
        },
        "outputId": "d4c3d971-f503-4e1a-81cb-d75b4979fc04"
      },
      "execution_count": 103,
      "outputs": [
        {
          "output_type": "stream",
          "name": "stdout",
          "text": [
            "77/77 [==============================] - 1s 7ms/step - loss: 11.5877 - accuracy: 0.5878\n"
          ]
        }
      ]
    }
  ]
}