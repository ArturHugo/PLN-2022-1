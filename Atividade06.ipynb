{
  "nbformat": 4,
  "nbformat_minor": 0,
  "metadata": {
    "colab": {
      "name": "Atividade06.ipynb",
      "provenance": [],
      "collapsed_sections": [],
      "include_colab_link": true
    },
    "kernelspec": {
      "name": "python3",
      "display_name": "Python 3"
    },
    "language_info": {
      "name": "python"
    },
    "accelerator": "GPU",
    "gpuClass": "standard"
  },
  "cells": [
    {
      "cell_type": "markdown",
      "metadata": {
        "id": "view-in-github",
        "colab_type": "text"
      },
      "source": [
        "<a href=\"https://colab.research.google.com/github/ArturHugo/PLN-2022-1/blob/main/Atividade06.ipynb\" target=\"_parent\"><img src=\"https://colab.research.google.com/assets/colab-badge.svg\" alt=\"Open In Colab\"/></a>"
      ]
    },
    {
      "cell_type": "code",
      "execution_count": 48,
      "metadata": {
        "id": "8qesw4rNMsde"
      },
      "outputs": [],
      "source": [
        "#!pip install keras\n",
        "#!pip install tensorflow"
      ]
    },
    {
      "cell_type": "code",
      "source": [
        "import pandas as pd\n",
        "from keras.models import Sequential\n",
        "from keras.layers import Dense\n",
        "from sklearn.feature_extraction.text import TfidfVectorizer\n",
        "from tensorflow.keras.optimizers import SGD\n",
        "from keras.utils.np_utils import to_categorical\n",
        "import matplotlib.pyplot as plt"
      ],
      "metadata": {
        "id": "kLa3daEePeVT"
      },
      "execution_count": 49,
      "outputs": []
    },
    {
      "cell_type": "code",
      "source": [
        "path_train = 'https://raw.githubusercontent.com/viniciusrpb/cic0269_natural_language_processing/main/datasets/corpora/tweets_polarity_classification/twitter-2013train-A.txt'\n",
        "path_test = 'https://raw.githubusercontent.com/viniciusrpb/cic0269_natural_language_processing/main/datasets/corpora/tweets_polarity_classification/twitter-2013test-A.txt'\n",
        "path_valid = 'https://raw.githubusercontent.com/viniciusrpb/cic0269_natural_language_processing/main/datasets/corpora/tweets_polarity_classification/twitter-2013dev-A.txt'"
      ],
      "metadata": {
        "id": "kJ8N5yE_Nwm6"
      },
      "execution_count": 50,
      "outputs": []
    },
    {
      "cell_type": "code",
      "source": [
        "df_train = pd.read_csv(path_train,names=['id','polarity','text'],sep='\\t')\n",
        "df_valid = pd.read_csv(path_valid,names=['id','polarity','text'],sep='\\t')\n",
        "df_test = pd.read_csv(path_test,names=['id','polarity','text'],sep='\\t')"
      ],
      "metadata": {
        "id": "MWO6bS02PaeH"
      },
      "execution_count": 51,
      "outputs": []
    },
    {
      "cell_type": "code",
      "source": [
        "df_test"
      ],
      "metadata": {
        "colab": {
          "base_uri": "https://localhost:8080/",
          "height": 424
        },
        "id": "KEfJe3N5Pzpo",
        "outputId": "32565fda-ebee-483e-bb3c-130f2776a6c6"
      },
      "execution_count": 52,
      "outputs": [
        {
          "output_type": "execute_result",
          "data": {
            "text/plain": [
              "                      id  polarity  \\\n",
              "0     264238274963451904  positive   \n",
              "1     218775148495515649  positive   \n",
              "2     258965201766998017   neutral   \n",
              "3     262926411352903682  negative   \n",
              "4     171874368908050432   neutral   \n",
              "...                  ...       ...   \n",
              "3542  264233437060288512  negative   \n",
              "3543  263779058284904448   neutral   \n",
              "3544  250744453831213056  negative   \n",
              "3545  258679974591090688  positive   \n",
              "3546  243018372453916674   neutral   \n",
              "\n",
              "                                                   text  \n",
              "0     @jjuueellzz down in the Atlantic city, ventnor...  \n",
              "1     Musical awareness: Great Big Beautiful Tomorro...  \n",
              "2     On Radio786 100.4fm 7:10 Fri Oct 19 Labour ana...  \n",
              "3     Kapan sih lo ngebuktiin,jan ngomong doang Susa...  \n",
              "4     Excuse the connectivity of this live stream, f...  \n",
              "...                                                 ...  \n",
              "3542  Khaleda Zia's present India visit may have a b...  \n",
              "3543  FYI, golf fans: @jameslepp will join Moj on We...  \n",
              "3544  @__Aniko you think mr.Calle let practice with ...  \n",
              "3545  Don't hide under your desk! It's just a salsa ...  \n",
              "3546  Saturday flashmob on the music of The Runaways...  \n",
              "\n",
              "[3547 rows x 3 columns]"
            ],
            "text/html": [
              "\n",
              "  <div id=\"df-915f2ec5-fc21-4e00-a529-e6bd5ef56ffa\">\n",
              "    <div class=\"colab-df-container\">\n",
              "      <div>\n",
              "<style scoped>\n",
              "    .dataframe tbody tr th:only-of-type {\n",
              "        vertical-align: middle;\n",
              "    }\n",
              "\n",
              "    .dataframe tbody tr th {\n",
              "        vertical-align: top;\n",
              "    }\n",
              "\n",
              "    .dataframe thead th {\n",
              "        text-align: right;\n",
              "    }\n",
              "</style>\n",
              "<table border=\"1\" class=\"dataframe\">\n",
              "  <thead>\n",
              "    <tr style=\"text-align: right;\">\n",
              "      <th></th>\n",
              "      <th>id</th>\n",
              "      <th>polarity</th>\n",
              "      <th>text</th>\n",
              "    </tr>\n",
              "  </thead>\n",
              "  <tbody>\n",
              "    <tr>\n",
              "      <th>0</th>\n",
              "      <td>264238274963451904</td>\n",
              "      <td>positive</td>\n",
              "      <td>@jjuueellzz down in the Atlantic city, ventnor...</td>\n",
              "    </tr>\n",
              "    <tr>\n",
              "      <th>1</th>\n",
              "      <td>218775148495515649</td>\n",
              "      <td>positive</td>\n",
              "      <td>Musical awareness: Great Big Beautiful Tomorro...</td>\n",
              "    </tr>\n",
              "    <tr>\n",
              "      <th>2</th>\n",
              "      <td>258965201766998017</td>\n",
              "      <td>neutral</td>\n",
              "      <td>On Radio786 100.4fm 7:10 Fri Oct 19 Labour ana...</td>\n",
              "    </tr>\n",
              "    <tr>\n",
              "      <th>3</th>\n",
              "      <td>262926411352903682</td>\n",
              "      <td>negative</td>\n",
              "      <td>Kapan sih lo ngebuktiin,jan ngomong doang Susa...</td>\n",
              "    </tr>\n",
              "    <tr>\n",
              "      <th>4</th>\n",
              "      <td>171874368908050432</td>\n",
              "      <td>neutral</td>\n",
              "      <td>Excuse the connectivity of this live stream, f...</td>\n",
              "    </tr>\n",
              "    <tr>\n",
              "      <th>...</th>\n",
              "      <td>...</td>\n",
              "      <td>...</td>\n",
              "      <td>...</td>\n",
              "    </tr>\n",
              "    <tr>\n",
              "      <th>3542</th>\n",
              "      <td>264233437060288512</td>\n",
              "      <td>negative</td>\n",
              "      <td>Khaleda Zia's present India visit may have a b...</td>\n",
              "    </tr>\n",
              "    <tr>\n",
              "      <th>3543</th>\n",
              "      <td>263779058284904448</td>\n",
              "      <td>neutral</td>\n",
              "      <td>FYI, golf fans: @jameslepp will join Moj on We...</td>\n",
              "    </tr>\n",
              "    <tr>\n",
              "      <th>3544</th>\n",
              "      <td>250744453831213056</td>\n",
              "      <td>negative</td>\n",
              "      <td>@__Aniko you think mr.Calle let practice with ...</td>\n",
              "    </tr>\n",
              "    <tr>\n",
              "      <th>3545</th>\n",
              "      <td>258679974591090688</td>\n",
              "      <td>positive</td>\n",
              "      <td>Don't hide under your desk! It's just a salsa ...</td>\n",
              "    </tr>\n",
              "    <tr>\n",
              "      <th>3546</th>\n",
              "      <td>243018372453916674</td>\n",
              "      <td>neutral</td>\n",
              "      <td>Saturday flashmob on the music of The Runaways...</td>\n",
              "    </tr>\n",
              "  </tbody>\n",
              "</table>\n",
              "<p>3547 rows × 3 columns</p>\n",
              "</div>\n",
              "      <button class=\"colab-df-convert\" onclick=\"convertToInteractive('df-915f2ec5-fc21-4e00-a529-e6bd5ef56ffa')\"\n",
              "              title=\"Convert this dataframe to an interactive table.\"\n",
              "              style=\"display:none;\">\n",
              "        \n",
              "  <svg xmlns=\"http://www.w3.org/2000/svg\" height=\"24px\"viewBox=\"0 0 24 24\"\n",
              "       width=\"24px\">\n",
              "    <path d=\"M0 0h24v24H0V0z\" fill=\"none\"/>\n",
              "    <path d=\"M18.56 5.44l.94 2.06.94-2.06 2.06-.94-2.06-.94-.94-2.06-.94 2.06-2.06.94zm-11 1L8.5 8.5l.94-2.06 2.06-.94-2.06-.94L8.5 2.5l-.94 2.06-2.06.94zm10 10l.94 2.06.94-2.06 2.06-.94-2.06-.94-.94-2.06-.94 2.06-2.06.94z\"/><path d=\"M17.41 7.96l-1.37-1.37c-.4-.4-.92-.59-1.43-.59-.52 0-1.04.2-1.43.59L10.3 9.45l-7.72 7.72c-.78.78-.78 2.05 0 2.83L4 21.41c.39.39.9.59 1.41.59.51 0 1.02-.2 1.41-.59l7.78-7.78 2.81-2.81c.8-.78.8-2.07 0-2.86zM5.41 20L4 18.59l7.72-7.72 1.47 1.35L5.41 20z\"/>\n",
              "  </svg>\n",
              "      </button>\n",
              "      \n",
              "  <style>\n",
              "    .colab-df-container {\n",
              "      display:flex;\n",
              "      flex-wrap:wrap;\n",
              "      gap: 12px;\n",
              "    }\n",
              "\n",
              "    .colab-df-convert {\n",
              "      background-color: #E8F0FE;\n",
              "      border: none;\n",
              "      border-radius: 50%;\n",
              "      cursor: pointer;\n",
              "      display: none;\n",
              "      fill: #1967D2;\n",
              "      height: 32px;\n",
              "      padding: 0 0 0 0;\n",
              "      width: 32px;\n",
              "    }\n",
              "\n",
              "    .colab-df-convert:hover {\n",
              "      background-color: #E2EBFA;\n",
              "      box-shadow: 0px 1px 2px rgba(60, 64, 67, 0.3), 0px 1px 3px 1px rgba(60, 64, 67, 0.15);\n",
              "      fill: #174EA6;\n",
              "    }\n",
              "\n",
              "    [theme=dark] .colab-df-convert {\n",
              "      background-color: #3B4455;\n",
              "      fill: #D2E3FC;\n",
              "    }\n",
              "\n",
              "    [theme=dark] .colab-df-convert:hover {\n",
              "      background-color: #434B5C;\n",
              "      box-shadow: 0px 1px 3px 1px rgba(0, 0, 0, 0.15);\n",
              "      filter: drop-shadow(0px 1px 2px rgba(0, 0, 0, 0.3));\n",
              "      fill: #FFFFFF;\n",
              "    }\n",
              "  </style>\n",
              "\n",
              "      <script>\n",
              "        const buttonEl =\n",
              "          document.querySelector('#df-915f2ec5-fc21-4e00-a529-e6bd5ef56ffa button.colab-df-convert');\n",
              "        buttonEl.style.display =\n",
              "          google.colab.kernel.accessAllowed ? 'block' : 'none';\n",
              "\n",
              "        async function convertToInteractive(key) {\n",
              "          const element = document.querySelector('#df-915f2ec5-fc21-4e00-a529-e6bd5ef56ffa');\n",
              "          const dataTable =\n",
              "            await google.colab.kernel.invokeFunction('convertToInteractive',\n",
              "                                                     [key], {});\n",
              "          if (!dataTable) return;\n",
              "\n",
              "          const docLinkHtml = 'Like what you see? Visit the ' +\n",
              "            '<a target=\"_blank\" href=https://colab.research.google.com/notebooks/data_table.ipynb>data table notebook</a>'\n",
              "            + ' to learn more about interactive tables.';\n",
              "          element.innerHTML = '';\n",
              "          dataTable['output_type'] = 'display_data';\n",
              "          await google.colab.output.renderOutput(dataTable, element);\n",
              "          const docLink = document.createElement('div');\n",
              "          docLink.innerHTML = docLinkHtml;\n",
              "          element.appendChild(docLink);\n",
              "        }\n",
              "      </script>\n",
              "    </div>\n",
              "  </div>\n",
              "  "
            ]
          },
          "metadata": {},
          "execution_count": 52
        }
      ]
    },
    {
      "cell_type": "code",
      "source": [
        "print(f'Train size {df_train.shape}')\n",
        "print(f'Valid size {df_valid.shape}')\n",
        "print(f'Test size {df_test.shape}')"
      ],
      "metadata": {
        "colab": {
          "base_uri": "https://localhost:8080/"
        },
        "id": "DSwe3wvLP_xb",
        "outputId": "620e70c5-3c21-4369-9471-f82e1ef445d7"
      },
      "execution_count": 53,
      "outputs": [
        {
          "output_type": "stream",
          "name": "stdout",
          "text": [
            "Train size (9684, 3)\n",
            "Valid size (1654, 3)\n",
            "Test size (3547, 3)\n"
          ]
        }
      ]
    },
    {
      "cell_type": "code",
      "source": [
        "df_train = df_train.drop(labels=['id'],axis=1)\n",
        "df_valid = df_valid.drop(labels=['id'],axis=1)\n",
        "df_test = df_test.drop(labels=['id'],axis=1)"
      ],
      "metadata": {
        "id": "JEEwUpt-Qa-o"
      },
      "execution_count": 54,
      "outputs": []
    },
    {
      "cell_type": "code",
      "source": [
        "vectorizer = TfidfVectorizer(norm=None,lowercase=True,stop_words=\"english\",max_df=0.95,min_df=2)\n",
        "\n",
        "vectorizer.fit(df_train['text'])\n",
        "\n",
        "tfidf_train = vectorizer.transform(df_train['text']).toarray()\n",
        "tfidf_valid = vectorizer.transform(df_valid['text']).toarray()\n",
        "tfidf_test = vectorizer.transform(df_test['text']).toarray()"
      ],
      "metadata": {
        "id": "dbtaZnFlRA8l"
      },
      "execution_count": 55,
      "outputs": []
    },
    {
      "cell_type": "code",
      "source": [
        "df_train['polarity'] = pd.Categorical(df_train['polarity'])\n",
        "y_train_int = df_train['polarity'].cat.codes\n",
        "\n",
        "df_valid['polarity'] = pd.Categorical(df_valid['polarity'])\n",
        "y_valid_int = df_valid['polarity'].cat.codes\n",
        "\n",
        "df_test['polarity'] = pd.Categorical(df_test['polarity'])\n",
        "y_test_int = df_test['polarity'].cat.codes"
      ],
      "metadata": {
        "id": "BrT8ydnGb4Eq"
      },
      "execution_count": 56,
      "outputs": []
    },
    {
      "cell_type": "code",
      "source": [
        "y_train = to_categorical(y_train_int)\n",
        "y_valid = to_categorical(y_valid_int)\n",
        "y_test = to_categorical(y_test_int)"
      ],
      "metadata": {
        "id": "V4Wd20UQdP9z"
      },
      "execution_count": 57,
      "outputs": []
    },
    {
      "cell_type": "code",
      "source": [
        ""
      ],
      "metadata": {
        "id": "9jjAj7fSdyP1"
      },
      "execution_count": 57,
      "outputs": []
    },
    {
      "cell_type": "code",
      "source": [
        "X_train = tfidf_train\n",
        "X_valid = tfidf_valid\n",
        "X_test = tfidf_test"
      ],
      "metadata": {
        "id": "7jC6GyCRbplq"
      },
      "execution_count": 58,
      "outputs": []
    },
    {
      "cell_type": "code",
      "source": [
        "N = tfidf_train.shape[0]\n",
        "vocab_size = tfidf_train.shape[1]\n",
        "print(f'Quantidade de instancias de treinamento {N} e tamanho do vocabulario {vocab_size}')"
      ],
      "metadata": {
        "colab": {
          "base_uri": "https://localhost:8080/"
        },
        "id": "vKP6m6AsXsql",
        "outputId": "730cf6fe-3757-4d02-dc30-596a37fafadb"
      },
      "execution_count": 59,
      "outputs": [
        {
          "output_type": "stream",
          "name": "stdout",
          "text": [
            "Quantidade de instancias de treinamento 9684 e tamanho do vocabulario 7654\n"
          ]
        }
      ]
    },
    {
      "cell_type": "markdown",
      "source": [
        "Arquitetura da Rede Multilayer Perceptron Profunda"
      ],
      "metadata": {
        "id": "8ZBTwtGUR7oW"
      }
    },
    {
      "cell_type": "markdown",
      "source": [
        "Hyperparâmetros da rede"
      ],
      "metadata": {
        "id": "opRBBhsCTuiL"
      }
    },
    {
      "cell_type": "code",
      "source": [
        "number_of_neurons_layer1 = 20\n",
        "number_of_neurons_layer2 = 10\n",
        "number_of_neurons_output = 3\n",
        "lr = 0.01"
      ],
      "metadata": {
        "id": "knTDnztUTtyW"
      },
      "execution_count": 60,
      "outputs": []
    },
    {
      "cell_type": "code",
      "source": [
        "model = Sequential()\n",
        "# Input Layer\n",
        "model.add(Dense(number_of_neurons_layer1,input_dim=vocab_size,activation='sigmoid'))\n",
        "model.add(Dense(number_of_neurons_layer2,activation='sigmoid'))\n",
        "model.add(Dense(number_of_neurons_output,activation='softmax'))\n",
        "model.summary()"
      ],
      "metadata": {
        "colab": {
          "base_uri": "https://localhost:8080/"
        },
        "id": "lFnqMSwQR-C9",
        "outputId": "d4c3e460-b77e-4dcc-96ab-e43965cfd490"
      },
      "execution_count": 61,
      "outputs": [
        {
          "output_type": "stream",
          "name": "stdout",
          "text": [
            "Model: \"sequential_2\"\n",
            "_________________________________________________________________\n",
            " Layer (type)                Output Shape              Param #   \n",
            "=================================================================\n",
            " dense_6 (Dense)             (None, 20)                153100    \n",
            "                                                                 \n",
            " dense_7 (Dense)             (None, 10)                210       \n",
            "                                                                 \n",
            " dense_8 (Dense)             (None, 3)                 33        \n",
            "                                                                 \n",
            "=================================================================\n",
            "Total params: 153,343\n",
            "Trainable params: 153,343\n",
            "Non-trainable params: 0\n",
            "_________________________________________________________________\n"
          ]
        }
      ]
    },
    {
      "cell_type": "code",
      "source": [
        "sgd = SGD(learning_rate=lr)\n",
        "model.compile(optimizer=sgd,loss='categorical_crossentropy',metrics=['accuracy'])"
      ],
      "metadata": {
        "id": "NVCoUJfAZ21I"
      },
      "execution_count": 62,
      "outputs": []
    },
    {
      "cell_type": "code",
      "source": [
        "history = model.fit(X_train,y_train,validation_data=(X_valid,y_valid),epochs=50)"
      ],
      "metadata": {
        "colab": {
          "base_uri": "https://localhost:8080/"
        },
        "id": "6f4dinSJbXft",
        "outputId": "d718eb9b-b14f-4f46-dd73-ef6e973f2e58"
      },
      "execution_count": 63,
      "outputs": [
        {
          "output_type": "stream",
          "name": "stdout",
          "text": [
            "Epoch 1/50\n",
            "303/303 [==============================] - 2s 4ms/step - loss: 1.0392 - accuracy: 0.4365 - val_loss: 1.0581 - val_accuracy: 0.4468\n",
            "Epoch 2/50\n",
            "303/303 [==============================] - 1s 4ms/step - loss: 1.0029 - accuracy: 0.4736 - val_loss: 1.0594 - val_accuracy: 0.4468\n",
            "Epoch 3/50\n",
            "303/303 [==============================] - 1s 4ms/step - loss: 0.9996 - accuracy: 0.4736 - val_loss: 1.0555 - val_accuracy: 0.4468\n",
            "Epoch 4/50\n",
            "303/303 [==============================] - 1s 4ms/step - loss: 0.9963 - accuracy: 0.4737 - val_loss: 1.0543 - val_accuracy: 0.4468\n",
            "Epoch 5/50\n",
            "303/303 [==============================] - 1s 4ms/step - loss: 0.9926 - accuracy: 0.4742 - val_loss: 1.0520 - val_accuracy: 0.4480\n",
            "Epoch 6/50\n",
            "303/303 [==============================] - 1s 4ms/step - loss: 0.9884 - accuracy: 0.4764 - val_loss: 1.0490 - val_accuracy: 0.4547\n",
            "Epoch 7/50\n",
            "303/303 [==============================] - 1s 4ms/step - loss: 0.9838 - accuracy: 0.4835 - val_loss: 1.0456 - val_accuracy: 0.4528\n",
            "Epoch 8/50\n",
            "303/303 [==============================] - 1s 4ms/step - loss: 0.9783 - accuracy: 0.4966 - val_loss: 1.0413 - val_accuracy: 0.4661\n",
            "Epoch 9/50\n",
            "303/303 [==============================] - 1s 4ms/step - loss: 0.9720 - accuracy: 0.5105 - val_loss: 1.0371 - val_accuracy: 0.4903\n",
            "Epoch 10/50\n",
            "303/303 [==============================] - 1s 4ms/step - loss: 0.9646 - accuracy: 0.5424 - val_loss: 1.0305 - val_accuracy: 0.4921\n",
            "Epoch 11/50\n",
            "303/303 [==============================] - 1s 4ms/step - loss: 0.9561 - accuracy: 0.5556 - val_loss: 1.0243 - val_accuracy: 0.5363\n",
            "Epoch 12/50\n",
            "303/303 [==============================] - 1s 4ms/step - loss: 0.9460 - accuracy: 0.5882 - val_loss: 1.0191 - val_accuracy: 0.5423\n",
            "Epoch 13/50\n",
            "303/303 [==============================] - 1s 4ms/step - loss: 0.9345 - accuracy: 0.6077 - val_loss: 1.0099 - val_accuracy: 0.5447\n",
            "Epoch 14/50\n",
            "303/303 [==============================] - 1s 4ms/step - loss: 0.9213 - accuracy: 0.6173 - val_loss: 0.9999 - val_accuracy: 0.5659\n",
            "Epoch 15/50\n",
            "303/303 [==============================] - 1s 4ms/step - loss: 0.9066 - accuracy: 0.6349 - val_loss: 0.9895 - val_accuracy: 0.5683\n",
            "Epoch 16/50\n",
            "303/303 [==============================] - 1s 4ms/step - loss: 0.8902 - accuracy: 0.6452 - val_loss: 0.9799 - val_accuracy: 0.5756\n",
            "Epoch 17/50\n",
            "303/303 [==============================] - 1s 4ms/step - loss: 0.8726 - accuracy: 0.6539 - val_loss: 0.9694 - val_accuracy: 0.5774\n",
            "Epoch 18/50\n",
            "303/303 [==============================] - 1s 4ms/step - loss: 0.8540 - accuracy: 0.6646 - val_loss: 0.9562 - val_accuracy: 0.5786\n",
            "Epoch 19/50\n",
            "303/303 [==============================] - 1s 4ms/step - loss: 0.8342 - accuracy: 0.6731 - val_loss: 0.9446 - val_accuracy: 0.5798\n",
            "Epoch 20/50\n",
            "303/303 [==============================] - 1s 4ms/step - loss: 0.8144 - accuracy: 0.6818 - val_loss: 0.9337 - val_accuracy: 0.5846\n",
            "Epoch 21/50\n",
            "303/303 [==============================] - 1s 4ms/step - loss: 0.7941 - accuracy: 0.6890 - val_loss: 0.9239 - val_accuracy: 0.5889\n",
            "Epoch 22/50\n",
            "303/303 [==============================] - 1s 3ms/step - loss: 0.7734 - accuracy: 0.6954 - val_loss: 0.9110 - val_accuracy: 0.5931\n",
            "Epoch 23/50\n",
            "303/303 [==============================] - 1s 4ms/step - loss: 0.7529 - accuracy: 0.7032 - val_loss: 0.9012 - val_accuracy: 0.5973\n",
            "Epoch 24/50\n",
            "303/303 [==============================] - 1s 4ms/step - loss: 0.7323 - accuracy: 0.7105 - val_loss: 0.8938 - val_accuracy: 0.5967\n",
            "Epoch 25/50\n",
            "303/303 [==============================] - 1s 4ms/step - loss: 0.7123 - accuracy: 0.7177 - val_loss: 0.8840 - val_accuracy: 0.6058\n",
            "Epoch 26/50\n",
            "303/303 [==============================] - 1s 4ms/step - loss: 0.6924 - accuracy: 0.7249 - val_loss: 0.8764 - val_accuracy: 0.6070\n",
            "Epoch 27/50\n",
            "303/303 [==============================] - 1s 4ms/step - loss: 0.6728 - accuracy: 0.7341 - val_loss: 0.8703 - val_accuracy: 0.6094\n",
            "Epoch 28/50\n",
            "303/303 [==============================] - 1s 4ms/step - loss: 0.6534 - accuracy: 0.7419 - val_loss: 0.8634 - val_accuracy: 0.6179\n",
            "Epoch 29/50\n",
            "303/303 [==============================] - 1s 4ms/step - loss: 0.6348 - accuracy: 0.7508 - val_loss: 0.8627 - val_accuracy: 0.6179\n",
            "Epoch 30/50\n",
            "303/303 [==============================] - 1s 4ms/step - loss: 0.6162 - accuracy: 0.7587 - val_loss: 0.8562 - val_accuracy: 0.6233\n",
            "Epoch 31/50\n",
            "303/303 [==============================] - 1s 4ms/step - loss: 0.5979 - accuracy: 0.7682 - val_loss: 0.8544 - val_accuracy: 0.6221\n",
            "Epoch 32/50\n",
            "303/303 [==============================] - 1s 4ms/step - loss: 0.5800 - accuracy: 0.7733 - val_loss: 0.8517 - val_accuracy: 0.6245\n",
            "Epoch 33/50\n",
            "303/303 [==============================] - 1s 4ms/step - loss: 0.5626 - accuracy: 0.7831 - val_loss: 0.8540 - val_accuracy: 0.6245\n",
            "Epoch 34/50\n",
            "303/303 [==============================] - 1s 4ms/step - loss: 0.5453 - accuracy: 0.7897 - val_loss: 0.8519 - val_accuracy: 0.6245\n",
            "Epoch 35/50\n",
            "303/303 [==============================] - 1s 4ms/step - loss: 0.5285 - accuracy: 0.7999 - val_loss: 0.8533 - val_accuracy: 0.6221\n",
            "Epoch 36/50\n",
            "303/303 [==============================] - 1s 4ms/step - loss: 0.5118 - accuracy: 0.8083 - val_loss: 0.8538 - val_accuracy: 0.6227\n",
            "Epoch 37/50\n",
            "303/303 [==============================] - 1s 4ms/step - loss: 0.4954 - accuracy: 0.8156 - val_loss: 0.8559 - val_accuracy: 0.6239\n",
            "Epoch 38/50\n",
            "303/303 [==============================] - 1s 4ms/step - loss: 0.4798 - accuracy: 0.8253 - val_loss: 0.8591 - val_accuracy: 0.6239\n",
            "Epoch 39/50\n",
            "303/303 [==============================] - 1s 4ms/step - loss: 0.4643 - accuracy: 0.8354 - val_loss: 0.8629 - val_accuracy: 0.6288\n",
            "Epoch 40/50\n",
            "303/303 [==============================] - 1s 4ms/step - loss: 0.4490 - accuracy: 0.8423 - val_loss: 0.8685 - val_accuracy: 0.6252\n",
            "Epoch 41/50\n",
            "303/303 [==============================] - 1s 4ms/step - loss: 0.4345 - accuracy: 0.8486 - val_loss: 0.8715 - val_accuracy: 0.6282\n",
            "Epoch 42/50\n",
            "303/303 [==============================] - 1s 4ms/step - loss: 0.4199 - accuracy: 0.8563 - val_loss: 0.8775 - val_accuracy: 0.6312\n",
            "Epoch 43/50\n",
            "303/303 [==============================] - 1s 3ms/step - loss: 0.4063 - accuracy: 0.8633 - val_loss: 0.8868 - val_accuracy: 0.6264\n",
            "Epoch 44/50\n",
            "303/303 [==============================] - 1s 4ms/step - loss: 0.3929 - accuracy: 0.8708 - val_loss: 0.8921 - val_accuracy: 0.6264\n",
            "Epoch 45/50\n",
            "303/303 [==============================] - 1s 4ms/step - loss: 0.3799 - accuracy: 0.8752 - val_loss: 0.9008 - val_accuracy: 0.6233\n",
            "Epoch 46/50\n",
            "303/303 [==============================] - 1s 4ms/step - loss: 0.3672 - accuracy: 0.8832 - val_loss: 0.9088 - val_accuracy: 0.6282\n",
            "Epoch 47/50\n",
            "303/303 [==============================] - 1s 4ms/step - loss: 0.3551 - accuracy: 0.8878 - val_loss: 0.9193 - val_accuracy: 0.6245\n",
            "Epoch 48/50\n",
            "303/303 [==============================] - 1s 4ms/step - loss: 0.3434 - accuracy: 0.8938 - val_loss: 0.9275 - val_accuracy: 0.6252\n",
            "Epoch 49/50\n",
            "303/303 [==============================] - 1s 5ms/step - loss: 0.3320 - accuracy: 0.8977 - val_loss: 0.9411 - val_accuracy: 0.6276\n",
            "Epoch 50/50\n",
            "303/303 [==============================] - 2s 5ms/step - loss: 0.3212 - accuracy: 0.9001 - val_loss: 0.9493 - val_accuracy: 0.6258\n"
          ]
        }
      ]
    },
    {
      "cell_type": "code",
      "source": [
        "plt.plot(history.history['loss'])\n",
        "plt.plot(history.history['val_loss'])\n",
        "plt.title('Model loss')\n",
        "plt.ylabel('Loss')\n",
        "plt.xlabel('Epoch')\n",
        "plt.legend(['Train', 'Validation'], loc='upper left')\n",
        "plt.show()"
      ],
      "metadata": {
        "colab": {
          "base_uri": "https://localhost:8080/",
          "height": 295
        },
        "id": "OJHj7NfRfJrS",
        "outputId": "ea9ae850-8e13-4293-8635-cf97a82675c5"
      },
      "execution_count": 64,
      "outputs": [
        {
          "output_type": "display_data",
          "data": {
            "text/plain": [
              "<Figure size 432x288 with 1 Axes>"
            ],
            "image/png": "[encoded data removed]"
          },
          "metadata": {
            "needs_background": "light"
          }
        }
      ]
    },
    {
      "cell_type": "code",
      "source": [
        "plt.plot(history.history['accuracy'])\n",
        "plt.plot(history.history['val_accuracy'])\n",
        "plt.title('Model acc')\n",
        "plt.ylabel('Accuracy')\n",
        "plt.xlabel('Epoch')\n",
        "plt.legend(['Train', 'Validation'], loc='upper left')\n",
        "plt.show()"
      ],
      "metadata": {
        "colab": {
          "base_uri": "https://localhost:8080/",
          "height": 295
        },
        "id": "cUKzQDzCgdVX",
        "outputId": "bbc6e325-4a73-4fc2-a7e9-31b8a0e9a71b"
      },
      "execution_count": 65,
      "outputs": [
        {
          "output_type": "display_data",
          "data": {
            "text/plain": [
              "<Figure size 432x288 with 1 Axes>"
            ],
            "image/png": "[encoded data removed]"
          },
          "metadata": {
            "needs_background": "light"
          }
        }
      ]
    },
    {
      "cell_type": "markdown",
      "source": [
        "Avaliação com os Dados de Teste"
      ],
      "metadata": {
        "id": "QP7yxTEPg1Nv"
      }
    },
    {
      "cell_type": "code",
      "source": [
        "y = model.evaluate(X_test,y_test)"
      ],
      "metadata": {
        "colab": {
          "base_uri": "https://localhost:8080/"
        },
        "id": "yM-hXxVtg4J2",
        "outputId": "f6edc226-3775-4093-aeab-619658417603"
      },
      "execution_count": 66,
      "outputs": [
        {
          "output_type": "stream",
          "name": "stdout",
          "text": [
            "111/111 [==============================] - 0s 3ms/step - loss: 0.9381 - accuracy: 0.6408\n"
          ]
        }
      ]
    },
    {
      "cell_type": "code",
      "source": [
        "import numpy as np\n",
        "y_prob = model.predict(X_test)\n",
        "y_prob"
      ],
      "metadata": {
        "colab": {
          "base_uri": "https://localhost:8080/"
        },
        "id": "u42IOHfzlCnM",
        "outputId": "194421bf-f359-4ad5-c2b6-3b7f01955f12"
      },
      "execution_count": 67,
      "outputs": [
        {
          "output_type": "execute_result",
          "data": {
            "text/plain": [
              "array([[0.06624601, 0.5197117 , 0.41404232],\n",
              "       [0.0199981 , 0.006618  , 0.9733839 ],\n",
              "       [0.03443187, 0.9140783 , 0.05148987],\n",
              "       ...,\n",
              "       [0.11569069, 0.6493298 , 0.23497958],\n",
              "       [0.27296588, 0.10368748, 0.6233467 ],\n",
              "       [0.1194667 , 0.51182294, 0.3687103 ]], dtype=float32)"
            ]
          },
          "metadata": {},
          "execution_count": 67
        }
      ]
    },
    {
      "cell_type": "code",
      "source": [
        "y_pred = np.argmax(y_prob,axis=1)\n",
        "y_pred"
      ],
      "metadata": {
        "colab": {
          "base_uri": "https://localhost:8080/"
        },
        "id": "zJDx8GlRlyPz",
        "outputId": "965a36ed-a2f8-4a26-c885-f4191ec0ea7c"
      },
      "execution_count": 68,
      "outputs": [
        {
          "output_type": "execute_result",
          "data": {
            "text/plain": [
              "array([1, 2, 1, ..., 1, 2, 1])"
            ]
          },
          "metadata": {},
          "execution_count": 68
        }
      ]
    },
    {
      "cell_type": "code",
      "source": [
        "y_test_int"
      ],
      "metadata": {
        "colab": {
          "base_uri": "https://localhost:8080/"
        },
        "id": "yTsaRqgVllE3",
        "outputId": "f4c5a1a9-ac6e-4642-e8f3-6d70be520091"
      },
      "execution_count": 69,
      "outputs": [
        {
          "output_type": "execute_result",
          "data": {
            "text/plain": [
              "0       2\n",
              "1       2\n",
              "2       1\n",
              "3       0\n",
              "4       1\n",
              "       ..\n",
              "3542    0\n",
              "3543    1\n",
              "3544    0\n",
              "3545    2\n",
              "3546    1\n",
              "Length: 3547, dtype: int8"
            ]
          },
          "metadata": {},
          "execution_count": 69
        }
      ]
    },
    {
      "cell_type": "code",
      "source": [
        "confusion_matrix = np.zeros((3,3))\n",
        "true_0_classified_0 = np.sum((y_test_int == 0)*(y_pred == 0))\n",
        "true_0_classified_1 = np.sum((y_test_int == 0)*(y_pred == 1))\n",
        "true_0_classified_2 = np.sum((y_test_int == 0)*(y_pred == 2))\n",
        "\n",
        "true_1_classified_0 = np.sum((y_test_int == 1)*(y_pred == 0))\n",
        "true_1_classified_1 = np.sum((y_test_int == 1)*(y_pred == 1))\n",
        "true_1_classified_2 = np.sum((y_test_int == 1)*(y_pred == 2))\n",
        "\n",
        "true_2_classified_0 = np.sum((y_test_int == 2)*(y_pred == 0))\n",
        "true_2_classified_1 = np.sum((y_test_int == 2)*(y_pred == 1))\n",
        "true_2_classified_2 = np.sum((y_test_int == 2)*(y_pred == 2))\n",
        "\n",
        "confusion_matrix[0][0] = true_0_classified_0\n",
        "confusion_matrix[0][1] = true_0_classified_1\n",
        "confusion_matrix[0][2] = true_0_classified_2\n",
        "\n",
        "confusion_matrix[1][0] = true_1_classified_0\n",
        "confusion_matrix[1][1] = true_1_classified_1\n",
        "confusion_matrix[1][2] = true_1_classified_2\n",
        "\n",
        "confusion_matrix[2][0] = true_2_classified_0\n",
        "confusion_matrix[2][1] = true_2_classified_1\n",
        "confusion_matrix[2][2] = true_2_classified_2\n",
        "\n",
        "confusion_matrix"
      ],
      "metadata": {
        "colab": {
          "base_uri": "https://localhost:8080/"
        },
        "id": "p28E8U1wzvyH",
        "outputId": "8e7b07e3-a321-42e2-a467-69fb39d2c119"
      },
      "execution_count": 70,
      "outputs": [
        {
          "output_type": "execute_result",
          "data": {
            "text/plain": [
              "array([[ 109.,  320.,  130.],\n",
              "       [  23., 1220.,  270.],\n",
              "       [  35.,  496.,  944.]])"
            ]
          },
          "metadata": {},
          "execution_count": 70
        }
      ]
    },
    {
      "cell_type": "code",
      "source": [
        "confusion_matrix = np.zeros((3,3))\n",
        "for i in range(0,len(y_pred)):\n",
        "  confusion_matrix[y_test_int[i]][y_pred[i]] += 1\n",
        "\n",
        "confusion_matrix"
      ],
      "metadata": {
        "colab": {
          "base_uri": "https://localhost:8080/"
        },
        "id": "WuFA7Ur514EX",
        "outputId": "b3058eba-4749-4796-cff4-90322e34fcb1"
      },
      "execution_count": 73,
      "outputs": [
        {
          "output_type": "execute_result",
          "data": {
            "text/plain": [
              "array([[ 109.,  320.,  130.],\n",
              "       [  23., 1220.,  270.],\n",
              "       [  35.,  496.,  944.]])"
            ]
          },
          "metadata": {},
          "execution_count": 73
        }
      ]
    },
    {
      "cell_type": "code",
      "source": [
        "acc = 0\n",
        "for i in range(0,3):\n",
        "  acc += confusion_matrix[i][i]\n",
        "\n",
        "acc /= np.sum(confusion_matrix)\n",
        "acc"
      ],
      "metadata": {
        "colab": {
          "base_uri": "https://localhost:8080/"
        },
        "id": "9Fj78jy23efg",
        "outputId": "ec04fd61-2336-450d-827f-29fd3f06492a"
      },
      "execution_count": 74,
      "outputs": [
        {
          "output_type": "execute_result",
          "data": {
            "text/plain": [
              "0.6408232308993516"
            ]
          },
          "metadata": {},
          "execution_count": 74
        }
      ]
    },
    {
      "cell_type": "code",
      "source": [
        "def get_precision(confusion_matrix, label):\n",
        "  return np.sum(confusion_matrix[:][label])/np.sum(confusion_matrix)\n",
        "\n",
        "def get_recall(confusion_matrix, label):\n",
        "  return np.sum(confusion_matrix[label][:])/np.sum(confusion_matrix)"
      ],
      "metadata": {
        "id": "X8gYmMJx5-MA"
      },
      "execution_count": 75,
      "outputs": []
    },
    {
      "cell_type": "code",
      "source": [
        "precisions = []\n",
        "for i in range(0,3):\n",
        "  precisions.append(get_precision(confusion_matrix, i))\n",
        "precisions = np.array(precisions)\n",
        "\n",
        "recalls = []\n",
        "for i in range(0,3):\n",
        "  recalls.append(get_recall(confusion_matrix, i))\n",
        "recalls = np.array(recalls)\n",
        "\n",
        "supports = []\n",
        "for i in range(0,3):\n",
        "  supports.append(np.sum(confusion_matrix[i][:]))\n",
        "supports = np.array(supports)\n",
        "\n",
        "print(\"  Precision \\t Recall \\t F1-score \\t Support\")\n",
        "f1_scores = []\n",
        "for i in range(0,3):\n",
        "  f1_scores.append(precisions[i]*recalls[i]/(precisions[i]+recalls[i]))\n",
        "  print(f\"{i}   {precisions[i]:.2f} \\t  {recalls[i]:.2f} \\t\\t   {f1_scores[i]:.2f} \\t   {supports[i]:.0f}\")\n",
        "\n",
        "f1_scores = np.array(f1_scores)"
      ],
      "metadata": {
        "colab": {
          "base_uri": "https://localhost:8080/"
        },
        "id": "WaVm14O370QQ",
        "outputId": "7439a421-92fd-4647-ca0c-6243df2c11b3"
      },
      "execution_count": 94,
      "outputs": [
        {
          "output_type": "stream",
          "name": "stdout",
          "text": [
            "  Precision \t Recall \t F1-score \t Support\n",
            "0   0.16 \t  0.16 \t\t   0.08 \t   559\n",
            "1   0.43 \t  0.43 \t\t   0.21 \t   1513\n",
            "2   0.42 \t  0.42 \t\t   0.21 \t   1475\n"
          ]
        }
      ]
    },
    {
      "cell_type": "code",
      "source": [
        "avg_precision = np.sum(precisions*supports)/np.sum(supports)\n",
        "avg_recall = np.sum(recalls*supports)/np.sum(supports)\n",
        "avg_f1_score = np.sum(f1_scores*supports)/np.sum(supports)\n",
        "\n",
        "print(f\"Average precision: {avg_precision:.2f}\")\n",
        "print(f\"Average recall:    {avg_recall:.2f}\")\n",
        "print(f\"Average f1-score:  {avg_f1_score:.2f}\")"
      ],
      "metadata": {
        "colab": {
          "base_uri": "https://localhost:8080/"
        },
        "id": "307HdHP_9uhQ",
        "outputId": "bb1f2d0f-4092-4ecb-a200-fe1915465d2c"
      },
      "execution_count": 95,
      "outputs": [
        {
          "output_type": "stream",
          "name": "stdout",
          "text": [
            "Average precision: 0.38\n",
            "Average recall:    0.38\n",
            "Average f1-score:  0.19\n"
          ]
        }
      ]
    }
  ]
}