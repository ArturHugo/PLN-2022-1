{
  "nbformat": 4,
  "nbformat_minor": 0,
  "metadata": {
    "colab": {
      "name": "Atividade07.ipynb",
      "provenance": [],
      "collapsed_sections": [],
      "authorship_tag": "ABX9TyNfz1liZGGD1Ed3RE2VXw/H",
      "include_colab_link": true
    },
    "kernelspec": {
      "name": "python3",
      "display_name": "Python 3"
    },
    "language_info": {
      "name": "python"
    },
    "accelerator": "GPU",
    "gpuClass": "standard"
  },
  "cells": [
    {
      "cell_type": "markdown",
      "metadata": {
        "id": "view-in-github",
        "colab_type": "text"
      },
      "source": [
        "<a href=\"https://colab.research.google.com/github/ArturHugo/PLN-2022-1/blob/main/Atividade07.ipynb\" target=\"_parent\"><img src=\"https://colab.research.google.com/assets/colab-badge.svg\" alt=\"Open In Colab\"/></a>"
      ]
    },
    {
      "cell_type": "markdown",
      "source": [
        "# Atividade 07 - CNN"
      ],
      "metadata": {
        "id": "kCCxSN-0r8rJ"
      }
    },
    {
      "cell_type": "code",
      "execution_count": 1,
      "metadata": {
        "id": "UKEpX7cPpC69"
      },
      "outputs": [],
      "source": [
        "import tensorflow as tf\n",
        "from tensorflow.keras.layers import Conv2D, Input, MaxPooling2D, ReLU, BatchNormalization, Dense, Flatten, Dropout, Resizing\n",
        "from tensorflow.keras.models import Sequential\n",
        "from tensorflow.keras.optimizers import SGD\n",
        "from tensorflow.keras.preprocessing.image import ImageDataGenerator\n",
        "from sklearn.model_selection import train_test_split\n",
        "from sklearn.preprocessing import OneHotEncoder, LabelEncoder\n",
        "import pandas as pd\n",
        "import numpy as np\n",
        "import os"
      ]
    },
    {
      "cell_type": "code",
      "source": [
        "model = Sequential()\n",
        "model.add(Resizing(224, 224,\n",
        "                   interpolation=\"bilinear\",\n",
        "                   input_shape=(256,256,3)))\n",
        "model.add(Conv2D(filters=96,\n",
        "                 kernel_size=11,\n",
        "                 strides=(4, 4),\n",
        "                 activation=\"relu\"))\n",
        "model.add(BatchNormalization())\n",
        "model.add(MaxPooling2D(pool_size=(3,3),\n",
        "                       strides=(2,2)))\n",
        "model.add(Conv2D(filters=256,\n",
        "                 kernel_size=5,\n",
        "                 strides=(1, 1),\n",
        "                 padding=\"same\",\n",
        "                 activation=\"relu\"))\n",
        "model.add(BatchNormalization())\n",
        "model.add(MaxPooling2D(pool_size=(3,3),\n",
        "                       strides=(2,2)))\n",
        "model.add(Conv2D(filters=384,\n",
        "                 kernel_size=3,\n",
        "                 strides=(1, 1),\n",
        "                 padding=\"same\",\n",
        "                 activation=\"relu\"))\n",
        "model.add(Conv2D(filters=384,\n",
        "                 kernel_size=3,\n",
        "                 strides=(1, 1),\n",
        "                 padding=\"same\",\n",
        "                 activation=\"relu\"))\n",
        "model.add(Conv2D(filters=256,\n",
        "                 kernel_size=3,\n",
        "                 strides=(1, 1),\n",
        "                 padding=\"same\",\n",
        "                 activation=\"relu\"))\n",
        "model.add(BatchNormalization())\n",
        "model.add(MaxPooling2D(pool_size=(3,3),\n",
        "                       strides=(2,2)))\n",
        "model.add(Flatten())\n",
        "model.add(Dense(4096, activation=\"relu\"))\n",
        "model.add(Dropout(0.5))\n",
        "model.add(Dense(4096, activation=\"relu\"))\n",
        "model.add(Dropout(0.5))\n",
        "model.add(Dense(3, activation=\"softmax\"))"
      ],
      "metadata": {
        "id": "kNt6qDBRKtp2"
      },
      "execution_count": 2,
      "outputs": []
    },
    {
      "cell_type": "code",
      "source": [
        "model.summary()"
      ],
      "metadata": {
        "colab": {
          "base_uri": "https://localhost:8080/"
        },
        "id": "KmWNCe6VR1CV",
        "outputId": "5409ab38-873e-47e1-9e9e-7b834550e30c"
      },
      "execution_count": 3,
      "outputs": [
        {
          "output_type": "stream",
          "name": "stdout",
          "text": [
            "Model: \"sequential\"\n",
            "_________________________________________________________________\n",
            " Layer (type)                Output Shape              Param #   \n",
            "=================================================================\n",
            " resizing (Resizing)         (None, 224, 224, 3)       0         \n",
            "                                                                 \n",
            " conv2d (Conv2D)             (None, 54, 54, 96)        34944     \n",
            "                                                                 \n",
            " batch_normalization (BatchN  (None, 54, 54, 96)       384       \n",
            " ormalization)                                                   \n",
            "                                                                 \n",
            " max_pooling2d (MaxPooling2D  (None, 26, 26, 96)       0         \n",
            " )                                                               \n",
            "                                                                 \n",
            " conv2d_1 (Conv2D)           (None, 26, 26, 256)       614656    \n",
            "                                                                 \n",
            " batch_normalization_1 (Batc  (None, 26, 26, 256)      1024      \n",
            " hNormalization)                                                 \n",
            "                                                                 \n",
            " max_pooling2d_1 (MaxPooling  (None, 12, 12, 256)      0         \n",
            " 2D)                                                             \n",
            "                                                                 \n",
            " conv2d_2 (Conv2D)           (None, 12, 12, 384)       885120    \n",
            "                                                                 \n",
            " conv2d_3 (Conv2D)           (None, 12, 12, 384)       1327488   \n",
            "                                                                 \n",
            " conv2d_4 (Conv2D)           (None, 12, 12, 256)       884992    \n",
            "                                                                 \n",
            " batch_normalization_2 (Batc  (None, 12, 12, 256)      1024      \n",
            " hNormalization)                                                 \n",
            "                                                                 \n",
            " max_pooling2d_2 (MaxPooling  (None, 5, 5, 256)        0         \n",
            " 2D)                                                             \n",
            "                                                                 \n",
            " flatten (Flatten)           (None, 6400)              0         \n",
            "                                                                 \n",
            " dense (Dense)               (None, 4096)              26218496  \n",
            "                                                                 \n",
            " dropout (Dropout)           (None, 4096)              0         \n",
            "                                                                 \n",
            " dense_1 (Dense)             (None, 4096)              16781312  \n",
            "                                                                 \n",
            " dropout_1 (Dropout)         (None, 4096)              0         \n",
            "                                                                 \n",
            " dense_2 (Dense)             (None, 3)                 12291     \n",
            "                                                                 \n",
            "=================================================================\n",
            "Total params: 46,761,731\n",
            "Trainable params: 46,760,515\n",
            "Non-trainable params: 1,216\n",
            "_________________________________________________________________\n"
          ]
        }
      ]
    },
    {
      "cell_type": "code",
      "source": [
        "from google.colab import drive\n",
        "drive.mount('/content/drive/', force_remount=True)"
      ],
      "metadata": {
        "colab": {
          "base_uri": "https://localhost:8080/"
        },
        "id": "VDEjKTelspHC",
        "outputId": "159fdc0d-295c-44fe-d887-864c8fc7120a"
      },
      "execution_count": 4,
      "outputs": [
        {
          "output_type": "stream",
          "name": "stdout",
          "text": [
            "Mounted at /content/drive/\n"
          ]
        }
      ]
    },
    {
      "cell_type": "code",
      "source": [
        "import zipfile\n",
        "with zipfile.ZipFile(\"/content/drive/MyDrive/Colab Notebooks/PLN/full_3.zip\", 'r') as zip_ref:\n",
        "    zip_ref.extractall(\"/content/drive/MyDrive/Colab Notebooks/PLN/\")"
      ],
      "metadata": {
        "id": "YytLcrDIxoQG"
      },
      "execution_count": 5,
      "outputs": []
    },
    {
      "cell_type": "code",
      "source": [
        "path_to_images = \"/content/drive/MyDrive/Colab Notebooks/PLN/full_3/\"\n",
        "image_paths_list = []\n",
        "image_labels_list = []\n",
        "for dir in os.listdir(path_to_images):\n",
        "  for filename in os.listdir(path_to_images + '/' + dir):\n",
        "    image_labels_list.append(dir)\n",
        "    image_paths_list.append(path_to_images + '/' + dir + '/' + filename)"
      ],
      "metadata": {
        "id": "iXK18dPOsuN3"
      },
      "execution_count": 6,
      "outputs": []
    },
    {
      "cell_type": "code",
      "source": [
        "df = pd.DataFrame(columns=['image_path', 'label'])\n",
        "df['image_path'] = image_paths_list\n",
        "df['label'] = image_labels_list\n",
        "df = df.sample(frac=1)\n",
        "df"
      ],
      "metadata": {
        "colab": {
          "base_uri": "https://localhost:8080/",
          "height": 424
        },
        "id": "CwlMGTXO1J5E",
        "outputId": "5963df6c-0801-43b3-e647-0dd3f7a45cc7"
      },
      "execution_count": 7,
      "outputs": [
        {
          "output_type": "execute_result",
          "data": {
            "text/plain": [
              "                                             image_path  \\\n",
              "579   /content/drive/MyDrive/Colab Notebooks/PLN/ful...   \n",
              "1064  /content/drive/MyDrive/Colab Notebooks/PLN/ful...   \n",
              "2664  /content/drive/MyDrive/Colab Notebooks/PLN/ful...   \n",
              "2716  /content/drive/MyDrive/Colab Notebooks/PLN/ful...   \n",
              "1376  /content/drive/MyDrive/Colab Notebooks/PLN/ful...   \n",
              "...                                                 ...   \n",
              "814   /content/drive/MyDrive/Colab Notebooks/PLN/ful...   \n",
              "1615  /content/drive/MyDrive/Colab Notebooks/PLN/ful...   \n",
              "757   /content/drive/MyDrive/Colab Notebooks/PLN/ful...   \n",
              "1733  /content/drive/MyDrive/Colab Notebooks/PLN/ful...   \n",
              "962   /content/drive/MyDrive/Colab Notebooks/PLN/ful...   \n",
              "\n",
              "                        label  \n",
              "579   scientific _publication  \n",
              "1064            advertisement  \n",
              "2664                    email  \n",
              "2716                    email  \n",
              "1376            advertisement  \n",
              "...                       ...  \n",
              "814   scientific _publication  \n",
              "1615            advertisement  \n",
              "757   scientific _publication  \n",
              "1733            advertisement  \n",
              "962   scientific _publication  \n",
              "\n",
              "[2961 rows x 2 columns]"
            ],
            "text/html": [
              "\n",
              "  <div id=\"df-b10b352a-bc7a-40c1-bee5-f9dccbe89693\">\n",
              "    <div class=\"colab-df-container\">\n",
              "      <div>\n",
              "<style scoped>\n",
              "    .dataframe tbody tr th:only-of-type {\n",
              "        vertical-align: middle;\n",
              "    }\n",
              "\n",
              "    .dataframe tbody tr th {\n",
              "        vertical-align: top;\n",
              "    }\n",
              "\n",
              "    .dataframe thead th {\n",
              "        text-align: right;\n",
              "    }\n",
              "</style>\n",
              "<table border=\"1\" class=\"dataframe\">\n",
              "  <thead>\n",
              "    <tr style=\"text-align: right;\">\n",
              "      <th></th>\n",
              "      <th>image_path</th>\n",
              "      <th>label</th>\n",
              "    </tr>\n",
              "  </thead>\n",
              "  <tbody>\n",
              "    <tr>\n",
              "      <th>579</th>\n",
              "      <td>/content/drive/MyDrive/Colab Notebooks/PLN/ful...</td>\n",
              "      <td>scientific _publication</td>\n",
              "    </tr>\n",
              "    <tr>\n",
              "      <th>1064</th>\n",
              "      <td>/content/drive/MyDrive/Colab Notebooks/PLN/ful...</td>\n",
              "      <td>advertisement</td>\n",
              "    </tr>\n",
              "    <tr>\n",
              "      <th>2664</th>\n",
              "      <td>/content/drive/MyDrive/Colab Notebooks/PLN/ful...</td>\n",
              "      <td>email</td>\n",
              "    </tr>\n",
              "    <tr>\n",
              "      <th>2716</th>\n",
              "      <td>/content/drive/MyDrive/Colab Notebooks/PLN/ful...</td>\n",
              "      <td>email</td>\n",
              "    </tr>\n",
              "    <tr>\n",
              "      <th>1376</th>\n",
              "      <td>/content/drive/MyDrive/Colab Notebooks/PLN/ful...</td>\n",
              "      <td>advertisement</td>\n",
              "    </tr>\n",
              "    <tr>\n",
              "      <th>...</th>\n",
              "      <td>...</td>\n",
              "      <td>...</td>\n",
              "    </tr>\n",
              "    <tr>\n",
              "      <th>814</th>\n",
              "      <td>/content/drive/MyDrive/Colab Notebooks/PLN/ful...</td>\n",
              "      <td>scientific _publication</td>\n",
              "    </tr>\n",
              "    <tr>\n",
              "      <th>1615</th>\n",
              "      <td>/content/drive/MyDrive/Colab Notebooks/PLN/ful...</td>\n",
              "      <td>advertisement</td>\n",
              "    </tr>\n",
              "    <tr>\n",
              "      <th>757</th>\n",
              "      <td>/content/drive/MyDrive/Colab Notebooks/PLN/ful...</td>\n",
              "      <td>scientific _publication</td>\n",
              "    </tr>\n",
              "    <tr>\n",
              "      <th>1733</th>\n",
              "      <td>/content/drive/MyDrive/Colab Notebooks/PLN/ful...</td>\n",
              "      <td>advertisement</td>\n",
              "    </tr>\n",
              "    <tr>\n",
              "      <th>962</th>\n",
              "      <td>/content/drive/MyDrive/Colab Notebooks/PLN/ful...</td>\n",
              "      <td>scientific _publication</td>\n",
              "    </tr>\n",
              "  </tbody>\n",
              "</table>\n",
              "<p>2961 rows × 2 columns</p>\n",
              "</div>\n",
              "      <button class=\"colab-df-convert\" onclick=\"convertToInteractive('df-b10b352a-bc7a-40c1-bee5-f9dccbe89693')\"\n",
              "              title=\"Convert this dataframe to an interactive table.\"\n",
              "              style=\"display:none;\">\n",
              "        \n",
              "  <svg xmlns=\"http://www.w3.org/2000/svg\" height=\"24px\"viewBox=\"0 0 24 24\"\n",
              "       width=\"24px\">\n",
              "    <path d=\"M0 0h24v24H0V0z\" fill=\"none\"/>\n",
              "    <path d=\"M18.56 5.44l.94 2.06.94-2.06 2.06-.94-2.06-.94-.94-2.06-.94 2.06-2.06.94zm-11 1L8.5 8.5l.94-2.06 2.06-.94-2.06-.94L8.5 2.5l-.94 2.06-2.06.94zm10 10l.94 2.06.94-2.06 2.06-.94-2.06-.94-.94-2.06-.94 2.06-2.06.94z\"/><path d=\"M17.41 7.96l-1.37-1.37c-.4-.4-.92-.59-1.43-.59-.52 0-1.04.2-1.43.59L10.3 9.45l-7.72 7.72c-.78.78-.78 2.05 0 2.83L4 21.41c.39.39.9.59 1.41.59.51 0 1.02-.2 1.41-.59l7.78-7.78 2.81-2.81c.8-.78.8-2.07 0-2.86zM5.41 20L4 18.59l7.72-7.72 1.47 1.35L5.41 20z\"/>\n",
              "  </svg>\n",
              "      </button>\n",
              "      \n",
              "  <style>\n",
              "    .colab-df-container {\n",
              "      display:flex;\n",
              "      flex-wrap:wrap;\n",
              "      gap: 12px;\n",
              "    }\n",
              "\n",
              "    .colab-df-convert {\n",
              "      background-color: #E8F0FE;\n",
              "      border: none;\n",
              "      border-radius: 50%;\n",
              "      cursor: pointer;\n",
              "      display: none;\n",
              "      fill: #1967D2;\n",
              "      height: 32px;\n",
              "      padding: 0 0 0 0;\n",
              "      width: 32px;\n",
              "    }\n",
              "\n",
              "    .colab-df-convert:hover {\n",
              "      background-color: #E2EBFA;\n",
              "      box-shadow: 0px 1px 2px rgba(60, 64, 67, 0.3), 0px 1px 3px 1px rgba(60, 64, 67, 0.15);\n",
              "      fill: #174EA6;\n",
              "    }\n",
              "\n",
              "    [theme=dark] .colab-df-convert {\n",
              "      background-color: #3B4455;\n",
              "      fill: #D2E3FC;\n",
              "    }\n",
              "\n",
              "    [theme=dark] .colab-df-convert:hover {\n",
              "      background-color: #434B5C;\n",
              "      box-shadow: 0px 1px 3px 1px rgba(0, 0, 0, 0.15);\n",
              "      filter: drop-shadow(0px 1px 2px rgba(0, 0, 0, 0.3));\n",
              "      fill: #FFFFFF;\n",
              "    }\n",
              "  </style>\n",
              "\n",
              "      <script>\n",
              "        const buttonEl =\n",
              "          document.querySelector('#df-b10b352a-bc7a-40c1-bee5-f9dccbe89693 button.colab-df-convert');\n",
              "        buttonEl.style.display =\n",
              "          google.colab.kernel.accessAllowed ? 'block' : 'none';\n",
              "\n",
              "        async function convertToInteractive(key) {\n",
              "          const element = document.querySelector('#df-b10b352a-bc7a-40c1-bee5-f9dccbe89693');\n",
              "          const dataTable =\n",
              "            await google.colab.kernel.invokeFunction('convertToInteractive',\n",
              "                                                     [key], {});\n",
              "          if (!dataTable) return;\n",
              "\n",
              "          const docLinkHtml = 'Like what you see? Visit the ' +\n",
              "            '<a target=\"_blank\" href=https://colab.research.google.com/notebooks/data_table.ipynb>data table notebook</a>'\n",
              "            + ' to learn more about interactive tables.';\n",
              "          element.innerHTML = '';\n",
              "          dataTable['output_type'] = 'display_data';\n",
              "          await google.colab.output.renderOutput(dataTable, element);\n",
              "          const docLink = document.createElement('div');\n",
              "          docLink.innerHTML = docLinkHtml;\n",
              "          element.appendChild(docLink);\n",
              "        }\n",
              "      </script>\n",
              "    </div>\n",
              "  </div>\n",
              "  "
            ]
          },
          "metadata": {},
          "execution_count": 7
        }
      ]
    },
    {
      "cell_type": "code",
      "source": [
        "X = df['image_path'].values\n",
        "y = df['label'].values\n",
        "X_train, X_test, y_train, y_test = train_test_split(X, y, test_size=0.3, random_state=42)\n",
        "X_valid, X_test, y_valid, y_test = train_test_split(X_test, y_test, test_size=0.5, random_state=42)"
      ],
      "metadata": {
        "id": "Wd5jLxVczBZM"
      },
      "execution_count": 8,
      "outputs": []
    },
    {
      "cell_type": "code",
      "source": [
        "one_hot_encoder = OneHotEncoder()\n",
        "\n",
        "y_train_one_hot = one_hot_encoder.fit_transform(y_train.reshape(-1, 1)).toarray()\n",
        "y_valid_one_hot = one_hot_encoder.fit_transform(y_valid.reshape(-1, 1)).toarray()\n",
        "y_test_one_hot = one_hot_encoder.fit_transform(y_test.reshape(-1, 1)).toarray()\n",
        "\n",
        "\n",
        "label_enconder = LabelEncoder()\n",
        "\n",
        "y_train_int = label_enconder.fit_transform(y_train)\n",
        "y_valid_int = label_enconder.fit_transform(y_valid)\n",
        "y_test_int = label_enconder.fit_transform(y_test)"
      ],
      "metadata": {
        "id": "K0KxagZA5D5D"
      },
      "execution_count": 9,
      "outputs": []
    },
    {
      "cell_type": "code",
      "source": [
        "df_train = pd.DataFrame(columns=['image_path', 'label'])\n",
        "df_train['image_path'] = X_train\n",
        "df_train['label'] = y_train\n",
        "\n",
        "df_valid = pd.DataFrame(columns=['image_path', 'label'])\n",
        "df_valid['image_path'] = X_valid\n",
        "df_valid['label'] = y_valid\n",
        "\n",
        "df_test = pd.DataFrame(columns=['image_path', 'label'])\n",
        "df_test['image_path'] = X_test\n",
        "df_test['label'] = y_test"
      ],
      "metadata": {
        "id": "CA5l6ihE4Uf7"
      },
      "execution_count": 10,
      "outputs": []
    },
    {
      "cell_type": "code",
      "source": [
        "datagen = ImageDataGenerator(rescale=1./255)\n",
        "train_generator = datagen.flow_from_dataframe(df_train,\n",
        "                                              directory_path=path_to_images,\n",
        "                                              x_col='image_path',\n",
        "                                              y_col='label',\n",
        "                                              class_mode='categorical',\n",
        "                                              shuffle=True)\n",
        "valid_generator = datagen.flow_from_dataframe(df_valid,\n",
        "                                              directory_path=path_to_images,\n",
        "                                              x_col='image_path',\n",
        "                                              y_col='label',\n",
        "                                              class_mode='categorical',\n",
        "                                              shuffle=True)\n",
        "test_generator = datagen.flow_from_dataframe(df_test,\n",
        "                                             directory_path=path_to_images,\n",
        "                                             x_col='image_path',\n",
        "                                             y_col='label',\n",
        "                                             class_mode='categorical',\n",
        "                                             shuffle=True)"
      ],
      "metadata": {
        "colab": {
          "base_uri": "https://localhost:8080/"
        },
        "id": "RD7TdLktypw8",
        "outputId": "2a5f522d-9c27-4245-c3aa-62882dc70730"
      },
      "execution_count": 11,
      "outputs": [
        {
          "output_type": "stream",
          "name": "stdout",
          "text": [
            "Found 2072 validated image filenames belonging to 3 classes.\n",
            "Found 444 validated image filenames belonging to 3 classes.\n",
            "Found 445 validated image filenames belonging to 3 classes.\n"
          ]
        }
      ]
    },
    {
      "cell_type": "code",
      "source": [
        "valid_generator.image_shape"
      ],
      "metadata": {
        "colab": {
          "base_uri": "https://localhost:8080/"
        },
        "id": "PJa4ERNWDVx9",
        "outputId": "2a04e246-543a-4fbd-ff92-fe3c7c8e6878"
      },
      "execution_count": 12,
      "outputs": [
        {
          "output_type": "execute_result",
          "data": {
            "text/plain": [
              "(256, 256, 3)"
            ]
          },
          "metadata": {},
          "execution_count": 12
        }
      ]
    },
    {
      "cell_type": "code",
      "source": [
        "sgd = SGD(learning_rate=0.0001)\n",
        "\n",
        "model.compile(optimizer=sgd,\n",
        "              loss='categorical_crossentropy',\n",
        "              metrics=['accuracy'])\n",
        "\n",
        "model.fit(train_generator,\n",
        "          epochs=70,\n",
        "          batch_size=16,\n",
        "          validation_data=valid_generator)"
      ],
      "metadata": {
        "id": "D1KKH2iX_M14"
      },
      "execution_count": null,
      "outputs": []
    },
    {
      "cell_type": "code",
      "source": [
        "resnet_model = Sequential()\n",
        "\n",
        "pretrained_model= tf.keras.applications.ResNet50(include_top=False,\n",
        "                   input_shape=(256,256,3),\n",
        "                   pooling='avg',classes=3,\n",
        "                   weights='imagenet')\n",
        "for layer in pretrained_model.layers:\n",
        "        layer.trainable=False\n",
        "\n",
        "resnet_model.add(pretrained_model)\n",
        "resnet_model.add(Flatten())\n",
        "resnet_model.add(Dense(1024, activation='relu'))\n",
        "resnet_model.add(Dense(3, activation='softmax'))\n",
        "resnet_model.summary()"
      ],
      "metadata": {
        "colab": {
          "base_uri": "https://localhost:8080/"
        },
        "id": "QRZDZb4Ro12c",
        "outputId": "6cdf7b0f-47ef-423a-f450-4f3e6668ca8a"
      },
      "execution_count": 19,
      "outputs": [
        {
          "output_type": "stream",
          "name": "stdout",
          "text": [
            "Model: \"sequential_4\"\n",
            "_________________________________________________________________\n",
            " Layer (type)                Output Shape              Param #   \n",
            "=================================================================\n",
            " resnet50 (Functional)       (None, 2048)              23587712  \n",
            "                                                                 \n",
            " flatten_3 (Flatten)         (None, 2048)              0         \n",
            "                                                                 \n",
            " dense_7 (Dense)             (None, 1024)              2098176   \n",
            "                                                                 \n",
            " dense_8 (Dense)             (None, 3)                 3075      \n",
            "                                                                 \n",
            "=================================================================\n",
            "Total params: 25,688,963\n",
            "Trainable params: 2,101,251\n",
            "Non-trainable params: 23,587,712\n",
            "_________________________________________________________________\n"
          ]
        }
      ]
    },
    {
      "cell_type": "code",
      "source": [
        "resnet_model.compile(optimizer=sgd,\n",
        "              loss='categorical_crossentropy',\n",
        "              metrics=['accuracy'])\n",
        "\n",
        "resnet_model.fit(train_generator,\n",
        "          epochs=70,\n",
        "          batch_size=16,\n",
        "          validation_data=valid_generator)"
      ],
      "metadata": {
        "colab": {
          "base_uri": "https://localhost:8080/"
        },
        "id": "aJ39qGE0o9DM",
        "outputId": "b481071d-9005-4a72-e1dc-775a62a6b48a"
      },
      "execution_count": 20,
      "outputs": [
        {
          "output_type": "stream",
          "name": "stdout",
          "text": [
            "Epoch 1/70\n",
            "65/65 [==============================] - 18s 230ms/step - loss: 1.1276 - accuracy: 0.3219 - val_loss: 1.0382 - val_accuracy: 0.3423\n",
            "Epoch 2/70\n",
            "65/65 [==============================] - 14s 221ms/step - loss: 1.0104 - accuracy: 0.4995 - val_loss: 0.9857 - val_accuracy: 0.6194\n",
            "Epoch 3/70\n",
            "65/65 [==============================] - 14s 216ms/step - loss: 0.9684 - accuracy: 0.6274 - val_loss: 0.9508 - val_accuracy: 0.6441\n",
            "Epoch 4/70\n",
            "65/65 [==============================] - 14s 216ms/step - loss: 0.9374 - accuracy: 0.6511 - val_loss: 0.9242 - val_accuracy: 0.6644\n",
            "Epoch 5/70\n",
            "65/65 [==============================] - 15s 226ms/step - loss: 0.9127 - accuracy: 0.6892 - val_loss: 0.9027 - val_accuracy: 0.6892\n",
            "Epoch 6/70\n",
            "65/65 [==============================] - 14s 218ms/step - loss: 0.8920 - accuracy: 0.7114 - val_loss: 0.8842 - val_accuracy: 0.7342\n",
            "Epoch 7/70\n",
            "65/65 [==============================] - 14s 216ms/step - loss: 0.8738 - accuracy: 0.7379 - val_loss: 0.8695 - val_accuracy: 0.7883\n",
            "Epoch 8/70\n",
            "65/65 [==============================] - 14s 215ms/step - loss: 0.8581 - accuracy: 0.7992 - val_loss: 0.8534 - val_accuracy: 0.7185\n",
            "Epoch 9/70\n",
            "65/65 [==============================] - 14s 213ms/step - loss: 0.8444 - accuracy: 0.7640 - val_loss: 0.8412 - val_accuracy: 0.7838\n",
            "Epoch 10/70\n",
            "65/65 [==============================] - 14s 212ms/step - loss: 0.8320 - accuracy: 0.7930 - val_loss: 0.8291 - val_accuracy: 0.7883\n",
            "Epoch 11/70\n",
            "65/65 [==============================] - 14s 214ms/step - loss: 0.8199 - accuracy: 0.8016 - val_loss: 0.8176 - val_accuracy: 0.7635\n",
            "Epoch 12/70\n",
            "65/65 [==============================] - 14s 215ms/step - loss: 0.8091 - accuracy: 0.7939 - val_loss: 0.8081 - val_accuracy: 0.8153\n",
            "Epoch 13/70\n",
            "65/65 [==============================] - 15s 222ms/step - loss: 0.7988 - accuracy: 0.8118 - val_loss: 0.7987 - val_accuracy: 0.8131\n",
            "Epoch 14/70\n",
            "65/65 [==============================] - 14s 214ms/step - loss: 0.7890 - accuracy: 0.8045 - val_loss: 0.7912 - val_accuracy: 0.8288\n",
            "Epoch 15/70\n",
            "65/65 [==============================] - 14s 213ms/step - loss: 0.7798 - accuracy: 0.8219 - val_loss: 0.7811 - val_accuracy: 0.8266\n",
            "Epoch 16/70\n",
            "65/65 [==============================] - 14s 215ms/step - loss: 0.7715 - accuracy: 0.8214 - val_loss: 0.7731 - val_accuracy: 0.8288\n",
            "Epoch 17/70\n",
            "65/65 [==============================] - 14s 218ms/step - loss: 0.7627 - accuracy: 0.8243 - val_loss: 0.7652 - val_accuracy: 0.8266\n",
            "Epoch 18/70\n",
            "65/65 [==============================] - 14s 219ms/step - loss: 0.7550 - accuracy: 0.8181 - val_loss: 0.7592 - val_accuracy: 0.8378\n",
            "Epoch 19/70\n",
            "65/65 [==============================] - 14s 217ms/step - loss: 0.7477 - accuracy: 0.8287 - val_loss: 0.7508 - val_accuracy: 0.8311\n",
            "Epoch 20/70\n",
            "65/65 [==============================] - 14s 216ms/step - loss: 0.7406 - accuracy: 0.8243 - val_loss: 0.7447 - val_accuracy: 0.8356\n",
            "Epoch 21/70\n",
            "65/65 [==============================] - 15s 225ms/step - loss: 0.7337 - accuracy: 0.8195 - val_loss: 0.7390 - val_accuracy: 0.8311\n",
            "Epoch 22/70\n",
            "65/65 [==============================] - 14s 217ms/step - loss: 0.7279 - accuracy: 0.8316 - val_loss: 0.7316 - val_accuracy: 0.8356\n",
            "Epoch 23/70\n",
            "65/65 [==============================] - 14s 218ms/step - loss: 0.7213 - accuracy: 0.8306 - val_loss: 0.7256 - val_accuracy: 0.8356\n",
            "Epoch 24/70\n",
            "65/65 [==============================] - 14s 222ms/step - loss: 0.7159 - accuracy: 0.8292 - val_loss: 0.7203 - val_accuracy: 0.8311\n",
            "Epoch 25/70\n",
            "65/65 [==============================] - 14s 219ms/step - loss: 0.7094 - accuracy: 0.8156 - val_loss: 0.7176 - val_accuracy: 0.8378\n",
            "Epoch 26/70\n",
            "65/65 [==============================] - 14s 217ms/step - loss: 0.7046 - accuracy: 0.8301 - val_loss: 0.7111 - val_accuracy: 0.8378\n",
            "Epoch 27/70\n",
            "65/65 [==============================] - 14s 216ms/step - loss: 0.6991 - accuracy: 0.8369 - val_loss: 0.7054 - val_accuracy: 0.8423\n",
            "Epoch 28/70\n",
            "65/65 [==============================] - 15s 224ms/step - loss: 0.6940 - accuracy: 0.8335 - val_loss: 0.7004 - val_accuracy: 0.8401\n",
            "Epoch 29/70\n",
            "65/65 [==============================] - 14s 218ms/step - loss: 0.6892 - accuracy: 0.8325 - val_loss: 0.6956 - val_accuracy: 0.8401\n",
            "Epoch 30/70\n",
            "65/65 [==============================] - 14s 214ms/step - loss: 0.6839 - accuracy: 0.8320 - val_loss: 0.6901 - val_accuracy: 0.8356\n",
            "Epoch 31/70\n",
            "65/65 [==============================] - 14s 216ms/step - loss: 0.6798 - accuracy: 0.8306 - val_loss: 0.6857 - val_accuracy: 0.8356\n",
            "Epoch 32/70\n",
            "65/65 [==============================] - 14s 217ms/step - loss: 0.6747 - accuracy: 0.8335 - val_loss: 0.6811 - val_accuracy: 0.8356\n",
            "Epoch 33/70\n",
            "65/65 [==============================] - 14s 218ms/step - loss: 0.6701 - accuracy: 0.8335 - val_loss: 0.6772 - val_accuracy: 0.8401\n",
            "Epoch 34/70\n",
            "65/65 [==============================] - 14s 219ms/step - loss: 0.6653 - accuracy: 0.8287 - val_loss: 0.6728 - val_accuracy: 0.8446\n",
            "Epoch 35/70\n",
            "65/65 [==============================] - 15s 225ms/step - loss: 0.6608 - accuracy: 0.8301 - val_loss: 0.6687 - val_accuracy: 0.8356\n",
            "Epoch 36/70\n",
            "65/65 [==============================] - 14s 217ms/step - loss: 0.6565 - accuracy: 0.8345 - val_loss: 0.6646 - val_accuracy: 0.8378\n",
            "Epoch 37/70\n",
            "65/65 [==============================] - 14s 217ms/step - loss: 0.6522 - accuracy: 0.8349 - val_loss: 0.6610 - val_accuracy: 0.8333\n",
            "Epoch 38/70\n",
            "65/65 [==============================] - 14s 217ms/step - loss: 0.6486 - accuracy: 0.8349 - val_loss: 0.6578 - val_accuracy: 0.8378\n",
            "Epoch 39/70\n",
            "65/65 [==============================] - 14s 217ms/step - loss: 0.6448 - accuracy: 0.8349 - val_loss: 0.6546 - val_accuracy: 0.8378\n",
            "Epoch 40/70\n",
            "65/65 [==============================] - 14s 218ms/step - loss: 0.6412 - accuracy: 0.8349 - val_loss: 0.6500 - val_accuracy: 0.8401\n",
            "Epoch 41/70\n",
            "65/65 [==============================] - 14s 219ms/step - loss: 0.6377 - accuracy: 0.8349 - val_loss: 0.6465 - val_accuracy: 0.8401\n",
            "Epoch 42/70\n",
            "65/65 [==============================] - 14s 219ms/step - loss: 0.6340 - accuracy: 0.8374 - val_loss: 0.6426 - val_accuracy: 0.8378\n",
            "Epoch 43/70\n",
            "65/65 [==============================] - 15s 225ms/step - loss: 0.6309 - accuracy: 0.8330 - val_loss: 0.6405 - val_accuracy: 0.8356\n",
            "Epoch 44/70\n",
            "65/65 [==============================] - 14s 218ms/step - loss: 0.6270 - accuracy: 0.8359 - val_loss: 0.6355 - val_accuracy: 0.8333\n",
            "Epoch 45/70\n",
            "65/65 [==============================] - 14s 221ms/step - loss: 0.6232 - accuracy: 0.8374 - val_loss: 0.6330 - val_accuracy: 0.8356\n",
            "Epoch 46/70\n",
            "65/65 [==============================] - 14s 219ms/step - loss: 0.6197 - accuracy: 0.8340 - val_loss: 0.6298 - val_accuracy: 0.8356\n",
            "Epoch 47/70\n",
            "65/65 [==============================] - 14s 217ms/step - loss: 0.6167 - accuracy: 0.8388 - val_loss: 0.6263 - val_accuracy: 0.8378\n",
            "Epoch 48/70\n",
            "65/65 [==============================] - 14s 219ms/step - loss: 0.6134 - accuracy: 0.8364 - val_loss: 0.6238 - val_accuracy: 0.8356\n",
            "Epoch 49/70\n",
            "65/65 [==============================] - 14s 218ms/step - loss: 0.6106 - accuracy: 0.8340 - val_loss: 0.6208 - val_accuracy: 0.8356\n",
            "Epoch 50/70\n",
            "65/65 [==============================] - 15s 225ms/step - loss: 0.6078 - accuracy: 0.8369 - val_loss: 0.6182 - val_accuracy: 0.8356\n",
            "Epoch 51/70\n",
            "65/65 [==============================] - 14s 218ms/step - loss: 0.6051 - accuracy: 0.8369 - val_loss: 0.6155 - val_accuracy: 0.8356\n",
            "Epoch 52/70\n",
            "65/65 [==============================] - 14s 217ms/step - loss: 0.6022 - accuracy: 0.8359 - val_loss: 0.6134 - val_accuracy: 0.8356\n",
            "Epoch 53/70\n",
            "65/65 [==============================] - 14s 217ms/step - loss: 0.5995 - accuracy: 0.8378 - val_loss: 0.6102 - val_accuracy: 0.8378\n",
            "Epoch 54/70\n",
            "65/65 [==============================] - 14s 218ms/step - loss: 0.5971 - accuracy: 0.8378 - val_loss: 0.6080 - val_accuracy: 0.8378\n",
            "Epoch 55/70\n",
            "65/65 [==============================] - 14s 218ms/step - loss: 0.5944 - accuracy: 0.8398 - val_loss: 0.6048 - val_accuracy: 0.8356\n",
            "Epoch 56/70\n",
            "65/65 [==============================] - 14s 219ms/step - loss: 0.5917 - accuracy: 0.8374 - val_loss: 0.6035 - val_accuracy: 0.8356\n",
            "Epoch 57/70\n",
            "65/65 [==============================] - 14s 219ms/step - loss: 0.5895 - accuracy: 0.8374 - val_loss: 0.6008 - val_accuracy: 0.8378\n",
            "Epoch 58/70\n",
            "65/65 [==============================] - 15s 227ms/step - loss: 0.5869 - accuracy: 0.8393 - val_loss: 0.5980 - val_accuracy: 0.8356\n",
            "Epoch 59/70\n",
            "65/65 [==============================] - 14s 216ms/step - loss: 0.5845 - accuracy: 0.8364 - val_loss: 0.5960 - val_accuracy: 0.8378\n",
            "Epoch 60/70\n",
            "65/65 [==============================] - 14s 216ms/step - loss: 0.5822 - accuracy: 0.8403 - val_loss: 0.5942 - val_accuracy: 0.8356\n",
            "Epoch 61/70\n",
            "65/65 [==============================] - 14s 218ms/step - loss: 0.5797 - accuracy: 0.8378 - val_loss: 0.5913 - val_accuracy: 0.8378\n",
            "Epoch 62/70\n",
            "65/65 [==============================] - 14s 217ms/step - loss: 0.5776 - accuracy: 0.8398 - val_loss: 0.5893 - val_accuracy: 0.8356\n",
            "Epoch 63/70\n",
            "65/65 [==============================] - 14s 218ms/step - loss: 0.5758 - accuracy: 0.8364 - val_loss: 0.5878 - val_accuracy: 0.8356\n",
            "Epoch 64/70\n",
            "65/65 [==============================] - 14s 217ms/step - loss: 0.5730 - accuracy: 0.8422 - val_loss: 0.5870 - val_accuracy: 0.8356\n",
            "Epoch 65/70\n",
            "65/65 [==============================] - 15s 231ms/step - loss: 0.5711 - accuracy: 0.8412 - val_loss: 0.5855 - val_accuracy: 0.8401\n",
            "Epoch 66/70\n",
            "65/65 [==============================] - 14s 220ms/step - loss: 0.5692 - accuracy: 0.8398 - val_loss: 0.5818 - val_accuracy: 0.8378\n",
            "Epoch 67/70\n",
            "65/65 [==============================] - 15s 222ms/step - loss: 0.5671 - accuracy: 0.8393 - val_loss: 0.5800 - val_accuracy: 0.8356\n",
            "Epoch 68/70\n",
            "65/65 [==============================] - 14s 218ms/step - loss: 0.5652 - accuracy: 0.8422 - val_loss: 0.5789 - val_accuracy: 0.8356\n",
            "Epoch 69/70\n",
            "65/65 [==============================] - 14s 217ms/step - loss: 0.5632 - accuracy: 0.8407 - val_loss: 0.5765 - val_accuracy: 0.8356\n",
            "Epoch 70/70\n",
            "65/65 [==============================] - 14s 217ms/step - loss: 0.5612 - accuracy: 0.8412 - val_loss: 0.5743 - val_accuracy: 0.8333\n"
          ]
        },
        {
          "output_type": "execute_result",
          "data": {
            "text/plain": [
              "<keras.callbacks.History at 0x7f5214336790>"
            ]
          },
          "metadata": {},
          "execution_count": 20
        }
      ]
    },
    {
      "cell_type": "code",
      "source": [
        "alexnet_results = model.evaluate(test_generator)\n",
        "print(f\"AlexNet results: {alexnet_results}\")\n",
        "resnet_results = resnet_model.evaluate(test_generator)\n",
        "print(f\"ResNet results: {resnet_results}\")"
      ],
      "metadata": {
        "colab": {
          "base_uri": "https://localhost:8080/"
        },
        "id": "Xl3gohj_paP9",
        "outputId": "81c154cc-a469-4c97-c8a5-8d8ef543fa55"
      },
      "execution_count": 21,
      "outputs": [
        {
          "output_type": "stream",
          "name": "stdout",
          "text": [
            "14/14 [==============================] - 2s 161ms/step - loss: 0.2919 - accuracy: 0.9169\n",
            "AlexNet results: [0.2918761074542999, 0.9168539047241211]\n",
            "14/14 [==============================] - 3s 171ms/step - loss: 0.5527 - accuracy: 0.8472\n",
            "ResNet results: [0.5527153611183167, 0.8471910357475281]\n"
          ]
        }
      ]
    }
  ]
}