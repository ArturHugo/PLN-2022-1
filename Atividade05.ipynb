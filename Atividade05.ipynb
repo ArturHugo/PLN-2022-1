{
  "nbformat": 4,
  "nbformat_minor": 0,
  "metadata": {
    "colab": {
      "name": "Atividade05.ipynb",
      "provenance": [],
      "authorship_tag": "ABX9TyNJYI9KM9ctawPXv5gdus7w",
      "include_colab_link": true
    },
    "kernelspec": {
      "name": "python3",
      "display_name": "Python 3"
    },
    "language_info": {
      "name": "python"
    }
  },
  "cells": [
    {
      "cell_type": "markdown",
      "metadata": {
        "id": "view-in-github",
        "colab_type": "text"
      },
      "source": [
        "<a href=\"https://colab.research.google.com/github/ArturHugo/PLN-2022-1/blob/main/Atividade05.ipynb\" target=\"_parent\"><img src=\"https://colab.research.google.com/assets/colab-badge.svg\" alt=\"Open In Colab\"/></a>"
      ]
    },
    {
      "cell_type": "markdown",
      "source": [
        "# Atividade 05 - Competição"
      ],
      "metadata": {
        "id": "c4UcnsuQz3W9"
      }
    },
    {
      "cell_type": "code",
      "execution_count": 151,
      "metadata": {
        "id": "xPR_ZmPPz0Aa"
      },
      "outputs": [],
      "source": [
        "import numpy as np\n",
        "import pandas as pd\n",
        "import nltk\n",
        "import collections\n",
        "import math"
      ]
    },
    {
      "cell_type": "code",
      "source": [
        "df = pd.read_csv('https://raw.githubusercontent.com/viniciusrpb/cic0269_natural_language_processing/main/datasets/corpora/training.csv')\n",
        "df = df.sample(frac=1)\n",
        "df"
      ],
      "metadata": {
        "colab": {
          "base_uri": "https://localhost:8080/",
          "height": 424
        },
        "id": "EJFY80wZ04Ad",
        "outputId": "c6a2ffb1-5dda-4ed2-e17e-eaf3bbe82581"
      },
      "execution_count": 152,
      "outputs": [
        {
          "output_type": "execute_result",
          "data": {
            "text/plain": [
              "        Id                                               text  Expected\n",
              "1067  1067  Hotel muito bem localizado próximo ao shopping...         2\n",
              "3067  3067  Possui três torres com variações nas acomodaçõ...         2\n",
              "3369  3369  Com uma localização estratégica no centro de B...         2\n",
              "1924  1924  Fiquei diversos dias lá e vou de novo. Apto co...         2\n",
              "3605  3605  Muito bom. Apenas , faço uma ressalva em relaç...         2\n",
              "...    ...                                                ...       ...\n",
              "3404  3404  Muito bem localizado, ótimo café da manhã e ót...         2\n",
              "2791  2791  As suites são muito amplas, tem boa disponibil...         2\n",
              "477    477  Quartos limpos e silenciosos, atendimento soli...         1\n",
              "2420  2420  O hotel está bem cuidado, tudo aparentemente n...         1\n",
              "2553  2553  Liguei em um número disponível no site do Meli...         1\n",
              "\n",
              "[5000 rows x 3 columns]"
            ],
            "text/html": [
              "\n",
              "  <div id=\"df-28a76b1d-fb9f-4d06-8c7c-2eb48641e2ba\">\n",
              "    <div class=\"colab-df-container\">\n",
              "      <div>\n",
              "<style scoped>\n",
              "    .dataframe tbody tr th:only-of-type {\n",
              "        vertical-align: middle;\n",
              "    }\n",
              "\n",
              "    .dataframe tbody tr th {\n",
              "        vertical-align: top;\n",
              "    }\n",
              "\n",
              "    .dataframe thead th {\n",
              "        text-align: right;\n",
              "    }\n",
              "</style>\n",
              "<table border=\"1\" class=\"dataframe\">\n",
              "  <thead>\n",
              "    <tr style=\"text-align: right;\">\n",
              "      <th></th>\n",
              "      <th>Id</th>\n",
              "      <th>text</th>\n",
              "      <th>Expected</th>\n",
              "    </tr>\n",
              "  </thead>\n",
              "  <tbody>\n",
              "    <tr>\n",
              "      <th>1067</th>\n",
              "      <td>1067</td>\n",
              "      <td>Hotel muito bem localizado próximo ao shopping...</td>\n",
              "      <td>2</td>\n",
              "    </tr>\n",
              "    <tr>\n",
              "      <th>3067</th>\n",
              "      <td>3067</td>\n",
              "      <td>Possui três torres com variações nas acomodaçõ...</td>\n",
              "      <td>2</td>\n",
              "    </tr>\n",
              "    <tr>\n",
              "      <th>3369</th>\n",
              "      <td>3369</td>\n",
              "      <td>Com uma localização estratégica no centro de B...</td>\n",
              "      <td>2</td>\n",
              "    </tr>\n",
              "    <tr>\n",
              "      <th>1924</th>\n",
              "      <td>1924</td>\n",
              "      <td>Fiquei diversos dias lá e vou de novo. Apto co...</td>\n",
              "      <td>2</td>\n",
              "    </tr>\n",
              "    <tr>\n",
              "      <th>3605</th>\n",
              "      <td>3605</td>\n",
              "      <td>Muito bom. Apenas , faço uma ressalva em relaç...</td>\n",
              "      <td>2</td>\n",
              "    </tr>\n",
              "    <tr>\n",
              "      <th>...</th>\n",
              "      <td>...</td>\n",
              "      <td>...</td>\n",
              "      <td>...</td>\n",
              "    </tr>\n",
              "    <tr>\n",
              "      <th>3404</th>\n",
              "      <td>3404</td>\n",
              "      <td>Muito bem localizado, ótimo café da manhã e ót...</td>\n",
              "      <td>2</td>\n",
              "    </tr>\n",
              "    <tr>\n",
              "      <th>2791</th>\n",
              "      <td>2791</td>\n",
              "      <td>As suites são muito amplas, tem boa disponibil...</td>\n",
              "      <td>2</td>\n",
              "    </tr>\n",
              "    <tr>\n",
              "      <th>477</th>\n",
              "      <td>477</td>\n",
              "      <td>Quartos limpos e silenciosos, atendimento soli...</td>\n",
              "      <td>1</td>\n",
              "    </tr>\n",
              "    <tr>\n",
              "      <th>2420</th>\n",
              "      <td>2420</td>\n",
              "      <td>O hotel está bem cuidado, tudo aparentemente n...</td>\n",
              "      <td>1</td>\n",
              "    </tr>\n",
              "    <tr>\n",
              "      <th>2553</th>\n",
              "      <td>2553</td>\n",
              "      <td>Liguei em um número disponível no site do Meli...</td>\n",
              "      <td>1</td>\n",
              "    </tr>\n",
              "  </tbody>\n",
              "</table>\n",
              "<p>5000 rows × 3 columns</p>\n",
              "</div>\n",
              "      <button class=\"colab-df-convert\" onclick=\"convertToInteractive('df-28a76b1d-fb9f-4d06-8c7c-2eb48641e2ba')\"\n",
              "              title=\"Convert this dataframe to an interactive table.\"\n",
              "              style=\"display:none;\">\n",
              "        \n",
              "  <svg xmlns=\"http://www.w3.org/2000/svg\" height=\"24px\"viewBox=\"0 0 24 24\"\n",
              "       width=\"24px\">\n",
              "    <path d=\"M0 0h24v24H0V0z\" fill=\"none\"/>\n",
              "    <path d=\"M18.56 5.44l.94 2.06.94-2.06 2.06-.94-2.06-.94-.94-2.06-.94 2.06-2.06.94zm-11 1L8.5 8.5l.94-2.06 2.06-.94-2.06-.94L8.5 2.5l-.94 2.06-2.06.94zm10 10l.94 2.06.94-2.06 2.06-.94-2.06-.94-.94-2.06-.94 2.06-2.06.94z\"/><path d=\"M17.41 7.96l-1.37-1.37c-.4-.4-.92-.59-1.43-.59-.52 0-1.04.2-1.43.59L10.3 9.45l-7.72 7.72c-.78.78-.78 2.05 0 2.83L4 21.41c.39.39.9.59 1.41.59.51 0 1.02-.2 1.41-.59l7.78-7.78 2.81-2.81c.8-.78.8-2.07 0-2.86zM5.41 20L4 18.59l7.72-7.72 1.47 1.35L5.41 20z\"/>\n",
              "  </svg>\n",
              "      </button>\n",
              "      \n",
              "  <style>\n",
              "    .colab-df-container {\n",
              "      display:flex;\n",
              "      flex-wrap:wrap;\n",
              "      gap: 12px;\n",
              "    }\n",
              "\n",
              "    .colab-df-convert {\n",
              "      background-color: #E8F0FE;\n",
              "      border: none;\n",
              "      border-radius: 50%;\n",
              "      cursor: pointer;\n",
              "      display: none;\n",
              "      fill: #1967D2;\n",
              "      height: 32px;\n",
              "      padding: 0 0 0 0;\n",
              "      width: 32px;\n",
              "    }\n",
              "\n",
              "    .colab-df-convert:hover {\n",
              "      background-color: #E2EBFA;\n",
              "      box-shadow: 0px 1px 2px rgba(60, 64, 67, 0.3), 0px 1px 3px 1px rgba(60, 64, 67, 0.15);\n",
              "      fill: #174EA6;\n",
              "    }\n",
              "\n",
              "    [theme=dark] .colab-df-convert {\n",
              "      background-color: #3B4455;\n",
              "      fill: #D2E3FC;\n",
              "    }\n",
              "\n",
              "    [theme=dark] .colab-df-convert:hover {\n",
              "      background-color: #434B5C;\n",
              "      box-shadow: 0px 1px 3px 1px rgba(0, 0, 0, 0.15);\n",
              "      filter: drop-shadow(0px 1px 2px rgba(0, 0, 0, 0.3));\n",
              "      fill: #FFFFFF;\n",
              "    }\n",
              "  </style>\n",
              "\n",
              "      <script>\n",
              "        const buttonEl =\n",
              "          document.querySelector('#df-28a76b1d-fb9f-4d06-8c7c-2eb48641e2ba button.colab-df-convert');\n",
              "        buttonEl.style.display =\n",
              "          google.colab.kernel.accessAllowed ? 'block' : 'none';\n",
              "\n",
              "        async function convertToInteractive(key) {\n",
              "          const element = document.querySelector('#df-28a76b1d-fb9f-4d06-8c7c-2eb48641e2ba');\n",
              "          const dataTable =\n",
              "            await google.colab.kernel.invokeFunction('convertToInteractive',\n",
              "                                                     [key], {});\n",
              "          if (!dataTable) return;\n",
              "\n",
              "          const docLinkHtml = 'Like what you see? Visit the ' +\n",
              "            '<a target=\"_blank\" href=https://colab.research.google.com/notebooks/data_table.ipynb>data table notebook</a>'\n",
              "            + ' to learn more about interactive tables.';\n",
              "          element.innerHTML = '';\n",
              "          dataTable['output_type'] = 'display_data';\n",
              "          await google.colab.output.renderOutput(dataTable, element);\n",
              "          const docLink = document.createElement('div');\n",
              "          docLink.innerHTML = docLinkHtml;\n",
              "          element.appendChild(docLink);\n",
              "        }\n",
              "      </script>\n",
              "    </div>\n",
              "  </div>\n",
              "  "
            ]
          },
          "metadata": {},
          "execution_count": 152
        }
      ]
    },
    {
      "cell_type": "code",
      "source": [
        "textos = df.text.to_list()"
      ],
      "metadata": {
        "id": "xvC7Y_oe8Vq1"
      },
      "execution_count": 153,
      "outputs": []
    },
    {
      "cell_type": "markdown",
      "source": [
        "## Tagging de classes gramaticais\n"
      ],
      "metadata": {
        "id": "C3isUcIPz-uM"
      }
    },
    {
      "cell_type": "code",
      "source": [
        ""
      ],
      "metadata": {
        "id": "TmzmJ5UV0FgH"
      },
      "execution_count": 153,
      "outputs": []
    },
    {
      "cell_type": "markdown",
      "source": [
        "## Classificação de polaridade usando dicionário"
      ],
      "metadata": {
        "id": "hYHRFelV0Cr8"
      }
    },
    {
      "cell_type": "markdown",
      "source": [
        "### Representação TFIDF"
      ],
      "metadata": {
        "id": "2niCb6Tj8aIe"
      }
    },
    {
      "cell_type": "code",
      "source": [
        "# from nltk.corpus import stopwords\n",
        "# stop_list = stopwords.words('portuguese')\n",
        "# stemmer = nltk.stem.porter.PorterStemmer()\n",
        "# nltk.download('stopwords')\n",
        "# def preproc(text):\n",
        "#   words = text.lower().split()\n",
        "#   words = [word for word in words if word not in stop_list]\n",
        "#   words = [stemmer.stem(word) for word in words]\n",
        "#   return words\n",
        "\n",
        "# preproc(\"A melhor vida que o hotel batatinha EspArrama\")"
      ],
      "metadata": {
        "id": "HRP7XZlA8dy-"
      },
      "execution_count": 154,
      "outputs": []
    },
    {
      "cell_type": "markdown",
      "source": [
        "#### Calculando Bag of Words"
      ],
      "metadata": {
        "id": "lTZc8LqR8fuu"
      }
    },
    {
      "cell_type": "code",
      "source": [
        "# bow_dict = {}\n",
        "# for i,doc in enumerate(textos):\n",
        "#     doc_name = df.Id[i]\n",
        "#     bow_dict[doc_name] = dict()\n",
        "#     for word in preproc(doc):\n",
        "#         bow_dict[doc_name][word] = 1 if word not in bow_dict[doc_name] else bow_dict[doc_name][word]+1\n",
        "        \n",
        "# bow = pd.DataFrame().from_records(bow_dict).fillna(0).T.astype(int)"
      ],
      "metadata": {
        "id": "6GxjvvQN8i3X"
      },
      "execution_count": 155,
      "outputs": []
    },
    {
      "cell_type": "code",
      "source": [
        "# tf = {}\n",
        "\n",
        "# for i, doc in enumerate(textos):\n",
        "\n",
        "#     doc_name = df.Id[i]\n",
        "#     tf[doc_name] = dict()\n",
        "#     words = preproc(doc)\n",
        "\n",
        "#     for word in words:\n",
        "#         tf[doc_name][word] = (1 if  word not in tf[doc_name] \n",
        "#                                     else tf[doc_name][word]+1)\n",
        "#     tf[doc_name] = {word:(freq/len(words)) \n",
        "#                     for word, freq in tf[doc_name].items()}\n",
        "\n",
        "# idf =  {}\n",
        "\n",
        "# vocab = bow.columns\n",
        "# idf =  {}\n",
        "\n",
        "# for word in vocab:\n",
        "#     idf[word] = math.log(len(bow)/len(bow[word][bow[word]!=0]))\n",
        "\n",
        "# tfidf_dict = {}\n",
        "\n",
        "# for doc in tf:\n",
        "#     tfidf_dict[doc] = dict()\n",
        "#     for word in tf[doc]:\n",
        "#         tfidf_dict[doc][word] = tf[doc][word]*idf[word]\n",
        "\n",
        "# tfidf = pd.DataFrame().from_records(tfidf_dict).fillna(0).T"
      ],
      "metadata": {
        "id": "s2QUT-jx8lJI"
      },
      "execution_count": 156,
      "outputs": []
    },
    {
      "cell_type": "code",
      "source": [
        "# tfidf"
      ],
      "metadata": {
        "id": "1FqLDrwz8m8O"
      },
      "execution_count": 157,
      "outputs": []
    },
    {
      "cell_type": "markdown",
      "source": [
        "## TFIDF DE VERDADE"
      ],
      "metadata": {
        "id": "SIeqbjgVIzps"
      }
    },
    {
      "cell_type": "code",
      "source": [
        " from sklearn.feature_extraction.text import TfidfVectorizer"
      ],
      "metadata": {
        "id": "4S3FH4CUI3ro"
      },
      "execution_count": 158,
      "outputs": []
    },
    {
      "cell_type": "code",
      "source": [
        "training = textos[0:1000]\n",
        "validation = textos[-10:]"
      ],
      "metadata": {
        "id": "n-X2Rco6JY9z"
      },
      "execution_count": 159,
      "outputs": []
    },
    {
      "cell_type": "code",
      "source": [
        "vectorizer = TfidfVectorizer()\n",
        "X = vectorizer.fit_transform(training).toarray()"
      ],
      "metadata": {
        "id": "wG8XUXw-JD-K"
      },
      "execution_count": 160,
      "outputs": []
    },
    {
      "cell_type": "code",
      "source": [
        "X_test = vectorizer.transform(validation).toarray()"
      ],
      "metadata": {
        "id": "Q4-hJAUAJQri"
      },
      "execution_count": 161,
      "outputs": []
    },
    {
      "cell_type": "markdown",
      "source": [
        "### KNN"
      ],
      "metadata": {
        "id": "qHEFsqY_8xK-"
      }
    },
    {
      "cell_type": "code",
      "source": [
        "# Cosine similarity\n",
        "def cosine_similarity(v1, v2):\n",
        "  return np.dot(v1, v2) / (np.linalg.norm(v1) * np.linalg.norm(v2))"
      ],
      "metadata": {
        "id": "pjN5io4Z2iaW"
      },
      "execution_count": 162,
      "outputs": []
    },
    {
      "cell_type": "code",
      "source": [
        "# Classify sample based on K neares neighbors\n",
        "def knn_classify(sample_array, dataset_array, dataset_df, K, similarity_function):\n",
        "  indexes = np.arange(dataset_array.shape[0])\n",
        "  similarities = []\n",
        "  for vector in dataset_array:\n",
        "    similarities.append(similarity_function(sample_array, vector))\n",
        "\n",
        "  index_similarities = list(zip(similarities, indexes))\n",
        "  sorted_index_similariteies = sorted(index_similarities, reverse=True)\n",
        "  nearest_neighbors = [ s for _, s in sorted_index_similariteies[:K]]\n",
        "  count_labels = collections.Counter(dataset_df['Expected'][nearest_neighbors])\n",
        "  return max(count_labels, key=count_labels.get)"
      ],
      "metadata": {
        "id": "ggxqzeqh2yol"
      },
      "execution_count": 163,
      "outputs": []
    },
    {
      "cell_type": "code",
      "source": [
        "# training = tfidf.values[0:3500]\n",
        "# validation = tfidf.values[-3]"
      ],
      "metadata": {
        "id": "c530mmyZ_kLX"
      },
      "execution_count": 164,
      "outputs": []
    },
    {
      "cell_type": "code",
      "source": [
        "predictions = [knn_classify(sample, X, df, 10, cosine_similarity) for sample in X_test]"
      ],
      "metadata": {
        "id": "rPez0H1j9XQ2"
      },
      "execution_count": 165,
      "outputs": []
    },
    {
      "cell_type": "code",
      "source": [
        "preds = list(zip(predictions, df['Expected'].values[1000:]))\n",
        "accuracy = [(x==y) for x, y in preds]\n",
        "np.sum(accuracy)/len(accuracy)\n",
        "\n",
        "\n"
      ],
      "metadata": {
        "colab": {
          "base_uri": "https://localhost:8080/"
        },
        "id": "KE6ngRSjEX8A",
        "outputId": "8b2e749a-75b9-4ce6-b491-8b4a66a6db9c"
      },
      "execution_count": 166,
      "outputs": [
        {
          "output_type": "execute_result",
          "data": {
            "text/plain": [
              "0.7"
            ]
          },
          "metadata": {},
          "execution_count": 166
        }
      ]
    },
    {
      "cell_type": "code",
      "source": [
        ""
      ],
      "metadata": {
        "id": "ve3K8S5ONTBA"
      },
      "execution_count": null,
      "outputs": []
    }
  ]
}