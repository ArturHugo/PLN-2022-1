{
  "nbformat": 4,
  "nbformat_minor": 0,
  "metadata": {
    "colab": {
      "name": "Pandafy.ipynb",
      "provenance": [],
      "collapsed_sections": [],
      "include_colab_link": true
    },
    "kernelspec": {
      "name": "python3",
      "display_name": "Python 3"
    },
    "language_info": {
      "name": "python"
    }
  },
  "cells": [
    {
      "cell_type": "markdown",
      "metadata": {
        "id": "view-in-github",
        "colab_type": "text"
      },
      "source": [
        "<a href=\"https://colab.research.google.com/github/ArturHugo/PLN-2022-1/blob/main/Pandafy.ipynb\" target=\"_parent\"><img src=\"https://colab.research.google.com/assets/colab-badge.svg\" alt=\"Open In Colab\"/></a>"
      ]
    },
    {
      "cell_type": "markdown",
      "source": [
        "# Grupo:\n",
        "- Guilherme Coelho\n",
        "- Mayara Chew\n",
        "- Artur Hugo"
      ],
      "metadata": {
        "id": "3uL4U7U2ajWG"
      }
    },
    {
      "cell_type": "code",
      "execution_count": 32,
      "metadata": {
        "colab": {
          "base_uri": "https://localhost:8080/"
        },
        "id": "hBsEf9Ynx0As",
        "outputId": "316fa49a-cbea-4ae2-db05-88ac0a415668"
      },
      "outputs": [
        {
          "output_type": "stream",
          "name": "stdout",
          "text": [
            "Looking in indexes: https://pypi.org/simple, https://us-python.pkg.dev/colab-wheels/public/simple/\n",
            "Requirement already satisfied: krippendorff in /usr/local/lib/python3.7/dist-packages (0.5.1)\n",
            "Requirement already satisfied: numpy in /usr/local/lib/python3.7/dist-packages (from krippendorff) (1.21.6)\n"
          ]
        }
      ],
      "source": [
        "!pip install krippendorff\n",
        "from google.colab import drive\n",
        "import json\n",
        "import os\n",
        "import pandas as pd\n",
        "import regex as re\n",
        "import krippendorff"
      ]
    },
    {
      "cell_type": "code",
      "source": [
        "\n",
        "drive.mount('/content/gdrive')\n",
        "# Mudar path conforme necessario\n",
        "!unzip \"/content/gdrive/MyDrive/Colab Notebooks/PLN/tagtog_Pandafy_three.zip\"\n"
      ],
      "metadata": {
        "id": "PQu48l0E1u3-",
        "colab": {
          "base_uri": "https://localhost:8080/"
        },
        "outputId": "5f169c22-8793-4078-f136-6555b48e93e7"
      },
      "execution_count": 33,
      "outputs": [
        {
          "output_type": "stream",
          "name": "stdout",
          "text": [
            "Drive already mounted at /content/gdrive; to attempt to forcibly remount, call drive.mount(\"/content/gdrive\", force_remount=True).\n",
            "Archive:  /content/gdrive/MyDrive/Colab Notebooks/PLN/tagtog_Pandafy_three.zip\n",
            "replace Pandafy_three/plain.html/pool/aBgH64yLAMM71GdRyey5h93bUyHy-Pandafy.csv_51.plain.html? [y]es, [n]o, [A]ll, [N]one, [r]ename: n\n",
            "replace Pandafy_three/plain.html/pool/ac87kGtPaLueYuff9vw5dbCTOPGe-Pandafy.csv_56.plain.html? [y]es, [n]o, [A]ll, [N]one, [r]ename: N\n"
          ]
        }
      ]
    },
    {
      "cell_type": "code",
      "source": [
        "\n",
        "data = json.load(open('/content/Pandafy_three/ann.json/members/guico3lho/pool/a323dN7fUgvEgfh0ZDjrot9YmUo0-Pandafy.csv_60.ann.json'))\n",
        "\n",
        "# who: data[\"metas\"][\"m_1\"][\"confidence\"][\"who\"]\n",
        "# value: data[\"metas\"][\"m_1\"][\"value\"][0]\n",
        "data"
      ],
      "metadata": {
        "colab": {
          "base_uri": "https://localhost:8080/"
        },
        "id": "d3LmRsqozaQF",
        "outputId": "3d1875b1-73c6-4e54-b25b-1aed98be4785"
      },
      "execution_count": 34,
      "outputs": [
        {
          "output_type": "execute_result",
          "data": {
            "text/plain": [
              "{'anncomplete': True,\n",
              " 'annotatable': {'parts': ['s1s1h1', 's1s1v1', 's1s2h1', 's1s2v1']},\n",
              " 'entities': [],\n",
              " 'metas': {'m_1': {'confidence': {'prob': 1,\n",
              "    'state': 'pre-added',\n",
              "    'who': ['user:guico3lho']},\n",
              "   'value': '4'}},\n",
              " 'relations': [],\n",
              " 'sources': []}"
            ]
          },
          "metadata": {},
          "execution_count": 34
        }
      ]
    },
    {
      "cell_type": "code",
      "source": [
        "# lista turugo\n",
        "labels_turugo = []\n",
        "\n",
        "\n",
        "dir = \"/content/Pandafy_three/ann.json/members/guico3lho/pool\"\n",
        "for filename in os.listdir(dir):\n",
        "  print(filename)\n",
        "  file = open(dir+\"/\"+filename)\n",
        "  data = json.load(file)\n",
        "  labels_turugo.append(data[\"metas\"][\"m_1\"][\"value\"][0])\n"
      ],
      "metadata": {
        "colab": {
          "base_uri": "https://localhost:8080/"
        },
        "id": "CxGDFMl412W-",
        "outputId": "96172fd9-a168-4f35-bddd-f88e49307bf8"
      },
      "execution_count": 35,
      "outputs": [
        {
          "output_type": "stream",
          "name": "stdout",
          "text": [
            "ati7r4Euc6WMHGVJMQvgBB18Gq60-Pandafy.csv_1.ann.json\n",
            "aUdgpFhiq9lEzag8kdGRdA4NtBte-Pandafy.csv_20.ann.json\n",
            "awHDuLDZZYKgP0cJ3eeWs2WEcgnm-Pandafy.csv_55.ann.json\n",
            "ajuKLothiCUQZOVRfn0KwHJnbSNu-Pandafy.csv_61.ann.json\n",
            "aJOmMt5QivoC4ELMrSlsndYU2V1G-Pandafy.csv_5.ann.json\n",
            "adK50j2UyNfa2QDhFyNHtJtun9q8-Pandafy.csv_64.ann.json\n",
            "aPRPjBVBQxcaz3zgb93scNXybFk8-Pandafy.csv_30.ann.json\n",
            "afoI06PTN9.RC1tq9bNviyfO0UpC-Pandafy.csv_3.ann.json\n",
            "a43CsbqhpjwjGPYe2wjNEDfGylrC-Pandafy.csv_91.ann.json\n",
            "aT_UzSp1nOftBjZRElm.Aj3Jje.S-Pandafy.csv_23.ann.json\n",
            "a4UmvMDMHCtW6DB4s7EmrDxvcOPS-Pandafy.csv_50.ann.json\n",
            "acM_ICpwsFLc6tzhzUmMwTu44jYC-Pandafy.csv_74.ann.json\n",
            "a5Bvh2ho3hYJSE4j.2zzzuMgA4u8-Pandafy.csv_62.ann.json\n",
            "amSIQth7GOFqdPEbldcQ.Py8cB1e-Pandafy.csv_73.ann.json\n",
            "auB8LjG6gXGoAOc.Q.ow608Vcvea-Pandafy.csv_92.ann.json\n",
            "ax4ufQw0hMxoJDTlYjOH4g6zM6EC-Pandafy.csv_98.ann.json\n",
            "aPuqSoC5TOD7XMHUGH6wIgWA47me-Pandafy.csv_24.ann.json\n",
            "abP2F6sf_zLseBgvwXSvbjXEbllW-Pandafy.csv_29.ann.json\n",
            "aK.xW8cqeZviGH6pOU3a3Q6diLHK-Pandafy.csv_32.ann.json\n",
            "aeiPcW1N0H6YCvj0wJHrMCkVSblS-Pandafy.csv_7.ann.json\n",
            "ahLhXkX4M0e4Ho01lB9Oc5uivAOe-Pandafy.csv_82.ann.json\n",
            "aMbWD1lsBpW8vblOQYocO7Ezi4Ie-Pandafy.csv_18.ann.json\n",
            "awA.VU_GoG35eQijOL3GndEPCBA0-Pandafy.csv_86.ann.json\n",
            "aDhSNkEXKAHjklqzmjNL711EtAXO-Pandafy.csv_90.ann.json\n",
            "a1_siPiIKxzkrtl5piJXw8EJu2_a-Pandafy.csv_10.ann.json\n",
            "adnHnwrQ0yIq.1Grx0uaQTHzYWFW-Pandafy.csv_85.ann.json\n",
            "awg8ibSxETKZr_GRGqlOVnXWIrB8-Pandafy.csv_66.ann.json\n",
            "aMPc9xjEmc5emn5zo8DnvQJ7ozMm-Pandafy.csv_4.ann.json\n",
            "a5SUvTBQ1Ww8Zm69xh67Ekr88nb0-Pandafy.csv_42.ann.json\n",
            "aKlr89nYfGABMyR3rBt1E7jtp8xa-Pandafy.csv_43.ann.json\n",
            "axgZ68ytgwGBMHLGTeE5qXCrD2xS-Pandafy.csv_40.ann.json\n",
            "aOQQWXkyXHFrGf_pr5gI2t66zTdm-Pandafy.csv_12.ann.json\n",
            "aHleqCQGbGJpBVzT6LiK8b7rmVDy-Pandafy.csv_67.ann.json\n",
            "aF8vFPn_IvpgUhaS245mA6jjPc0W-Pandafy.csv_47.ann.json\n",
            "aBgH64yLAMM71GdRyey5h93bUyHy-Pandafy.csv_51.ann.json\n",
            "ajgQWk2Sx5FY.a6TS1YttxUfG9Gu-Pandafy.csv_80.ann.json\n",
            "ac87kGtPaLueYuff9vw5dbCTOPGe-Pandafy.csv_56.ann.json\n",
            "aWQKGEwbX_aTYrTyvaxs7TwcXbT4-Pandafy.csv_17.ann.json\n",
            "afaQAjnWCw.zmdl3xc1KFrkXm3V8-Pandafy.csv_14.ann.json\n",
            "ac3q4cQdcbIJc8WqTOjdQXVYyG_W-Pandafy.csv_79.ann.json\n",
            "aeyJNcg1gJodPkS5rmS6UvP0rTAa-Pandafy.csv_37.ann.json\n",
            "aeuVsr9MBx_UleQAKAqWoYD.A07u-Pandafy.csv_54.ann.json\n",
            "a38NuAicrJp2ngKM1JFQFdQLNWpC-Pandafy.csv_81.ann.json\n",
            "auxH4k42Q6HVNILGHy_lrS9x6lXa-Pandafy.csv_84.ann.json\n",
            "a6PkgwZHZsmDHW7ZVu5G_ywXnEje-Pandafy.csv_15.ann.json\n",
            "akbGJtbVZjCMX0BPVtXbjUeZQiGa-Pandafy.csv_28.ann.json\n",
            "aaoeg_LCpDL8YSF16CIsNfbOe9LS-Pandafy.csv_99.ann.json\n",
            "aDe_MMFLu0ouz9alCVQlDYc8hHoC-Pandafy.csv_26.ann.json\n",
            "azKBhoBgoL6MYvq2jF0qNMGYaHgK-Pandafy.csv_78.ann.json\n",
            "aHufFc78ILWIjUerwq55a.km2_48-Pandafy.csv_25.ann.json\n",
            "angxDmgv6p_amWdMhZXFsKojVNoW-Pandafy.csv_94.ann.json\n",
            "apODitiJipUs4BvkLZXZk99Fy1KS-Pandafy.csv_22.ann.json\n",
            "az1jpt69yfbaefz5B3UYobU15DNC-Pandafy.csv_88.ann.json\n",
            "a6BBmPNDWeydLkkzq7kvCm8Xcy7C-Pandafy.csv_31.ann.json\n",
            "acdqZ819TRY4aXDdmOguHfM.oLKC-Pandafy.csv_19.ann.json\n",
            "aT8thSHNM4GyeijZ_zUXtIU9ZuRW-Pandafy.csv_36.ann.json\n",
            "aHrPSPgYgAje_a70F6JuF3Li7Ewu-Pandafy.csv_21.ann.json\n",
            "ak976Deg0IUYPQvovRW2ktt1dBqS-Pandafy.csv_39.ann.json\n",
            "aQwmsTAn3q460QIMKMUPZRl0BF68-Pandafy.csv_44.ann.json\n",
            "aFJiBP0I6TcIXWSeWguixUyCdvPq-Pandafy.csv_52.ann.json\n",
            "aFK1qBQ2zobtr.WbcmDQNhGhVXVG-Pandafy.csv_58.ann.json\n",
            "axAP3ViYTCRb_AkXKU8uDP4AplKK-Pandafy.csv_77.ann.json\n",
            "aUktM02X1ENDokMHLIWahJjWayWu-Pandafy.csv_9.ann.json\n",
            "a4vgNS9OX4uE4oXzfT.l0lwTXlBC-Pandafy.csv_59.ann.json\n",
            "ah8jUebh50OsDVYoqlLDhhb_GVYG-Pandafy.csv_93.ann.json\n",
            "aAfOtwbCMsEGTyF6FabY8u.fHVYS-Pandafy.csv_33.ann.json\n",
            "alm8bt0aEwglC_DXvYWWHXGEUFDG-Pandafy.csv_34.ann.json\n",
            "af._77U4AgeAsgorTeNwEIUhRqte-Pandafy.csv_75.ann.json\n",
            "aidwHKP3y_9kAlQiMPFnDA1tjpNi-Pandafy.csv_8.ann.json\n",
            "ajNKoa4RkTJF1FvUnZ5qoQDDnRHy-Pandafy.csv_46.ann.json\n",
            "aLNPLYONKWMzHLHn08b6Onf3huQ4-Pandafy.csv_96.ann.json\n",
            "aTWW9NVJtO.kmQnJHAxTd9xEcf1O-Pandafy.csv_11.ann.json\n",
            "a323dN7fUgvEgfh0ZDjrot9YmUo0-Pandafy.csv_60.ann.json\n",
            "aCQQdvdB0bWXRF7cLsNvy1poNTVG-Pandafy.csv_97.ann.json\n",
            "acBGEHeS1tdVvIrf20wY4xRL4R.i-Pandafy.csv_6.ann.json\n",
            "aiQzguok1nNOoLHMq9r_268zHnsy-Pandafy.csv_38.ann.json\n",
            "aPKACNJJgjuOEeJ5uk8_ESGV70p8-Pandafy.csv_63.ann.json\n",
            "aUroUZ6lUKzTpwNOdBYoUdYfNnSS-Pandafy.csv_72.ann.json\n",
            "aCjIQ2IVRZ4ZMoVPlM5x7.l760ou-Pandafy.csv_41.ann.json\n",
            "ad4wh7ZRJZlvFulgzM3xsdQFJGBm-Pandafy.csv_89.ann.json\n",
            "aldV6BhvnURx.dx091qBoeq7L3n8-Pandafy.csv_100.ann.json\n",
            "aqWb_nfiNVlQKpPHRZBGxpPD3XuK-Pandafy.csv_13.ann.json\n",
            "anwU7QqfONwjXufVd9DYPHexDbM4-Pandafy.csv_48.ann.json\n",
            "ajyIGiNfQxuFdlvvQrIcP4MiOmhy-Pandafy.csv_49.ann.json\n",
            "af9CdlyPejrBlHysdfIBbl7UUBci-Pandafy.csv_95.ann.json\n",
            "aaNWCAA0Y3wNFM1tF4wKNKY3nLT4-Pandafy.csv_57.ann.json\n",
            "an.aWbHmsl.8tP7S0I2DnwrjJuka-Pandafy.csv_70.ann.json\n",
            "ajqa56XZmcs0kW7sRYd6hsW6347y-Pandafy.csv_71.ann.json\n",
            "adawp6W9kVp1Qjp9NfsLM5VDDH1K-Pandafy.csv_27.ann.json\n",
            "aNaSHQnlci4hRmQozc9Uz6UlAiCG-Pandafy.csv_65.ann.json\n",
            "aW9LZ5pgHFiW0D_qT4ObfmkH8WMK-Pandafy.csv_2.ann.json\n",
            "aIB_YxQgTvmPUwlLFJWwSXo4N73e-Pandafy.csv_68.ann.json\n",
            "aHBfeBaCgtvq6u.SWq61yydVt658-Pandafy.csv_87.ann.json\n",
            "arJSX6VDpUse2NL6UK5QK7O9i3Sm-Pandafy.csv_16.ann.json\n",
            "atfP1W3gwLamzP_cU54yFbZyFX9u-Pandafy.csv_83.ann.json\n",
            "a5EduVc_z5riZphjEN.hTwvm8wHa-Pandafy.csv_35.ann.json\n",
            "ahjQJLk1ax0MXQnE.SZQGwtMEVbq-Pandafy.csv_53.ann.json\n",
            "aYzALWL031n6P.zy5ybkxKM3IPue-Pandafy.csv_45.ann.json\n",
            "aQbgcjoWZGzt19XveoeYVQFIX.mq-Pandafy.csv_69.ann.json\n",
            "aYLsHfGdfXI_WkokOA9jeW36w2fW-Pandafy.csv_76.ann.json\n"
          ]
        }
      ]
    },
    {
      "cell_type": "code",
      "source": [
        "# lista mayara\n",
        "labels_mayara = []\n",
        "\n",
        "list_index = []\n",
        "\n",
        "\n",
        "dir = \"/content/Pandafy_three/ann.json/members/mayarachew/pool\"\n",
        "for filename in os.listdir(dir):\n",
        "  file = open(dir+\"/\"+filename)\n",
        "  data = json.load(file)\n",
        "  labels_mayara.append(data[\"metas\"][\"m_1\"][\"value\"][0])\n",
        "  list_index.append(re.search(r'_(\\d*)\\.', filename).group(1))\n"
      ],
      "metadata": {
        "id": "anJFcsiTV8oN"
      },
      "execution_count": 36,
      "outputs": []
    },
    {
      "cell_type": "code",
      "source": [
        "df = pd.DataFrame(index=list_index, columns=['may','turugo'])\n",
        "df['may'] = [int(value) for value in labels_mayara]\n",
        "df['turugo'] = [int(value) for value in labels_turugo]\n",
        "df = df.transpose()\n",
        "df"
      ],
      "metadata": {
        "id": "T5J_Fq7tYQKd",
        "colab": {
          "base_uri": "https://localhost:8080/",
          "height": 141
        },
        "outputId": "71e7839f-228e-41eb-8b14-cf98657ec852"
      },
      "execution_count": 53,
      "outputs": [
        {
          "output_type": "execute_result",
          "data": {
            "text/plain": [
              "        1  20  55  61  5  64  30  3  91  23  ...  2  68  87  16  83  35  53  \\\n",
              "may     2   2   5   4  2   3   5  2   2   2  ...  5   4   5   3   2   5   2   \n",
              "turugo  3   3   5   4  2   3   5  3   2   3  ...  5   4   4   4   3   5   3   \n",
              "\n",
              "        45  69  76  \n",
              "may      3   3   1  \n",
              "turugo   4   3   2  \n",
              "\n",
              "[2 rows x 100 columns]"
            ],
            "text/html": [
              "\n",
              "  <div id=\"df-d838deb3-7564-458f-b238-4b365bf692a3\">\n",
              "    <div class=\"colab-df-container\">\n",
              "      <div>\n",
              "<style scoped>\n",
              "    .dataframe tbody tr th:only-of-type {\n",
              "        vertical-align: middle;\n",
              "    }\n",
              "\n",
              "    .dataframe tbody tr th {\n",
              "        vertical-align: top;\n",
              "    }\n",
              "\n",
              "    .dataframe thead th {\n",
              "        text-align: right;\n",
              "    }\n",
              "</style>\n",
              "<table border=\"1\" class=\"dataframe\">\n",
              "  <thead>\n",
              "    <tr style=\"text-align: right;\">\n",
              "      <th></th>\n",
              "      <th>1</th>\n",
              "      <th>20</th>\n",
              "      <th>55</th>\n",
              "      <th>61</th>\n",
              "      <th>5</th>\n",
              "      <th>64</th>\n",
              "      <th>30</th>\n",
              "      <th>3</th>\n",
              "      <th>91</th>\n",
              "      <th>23</th>\n",
              "      <th>...</th>\n",
              "      <th>2</th>\n",
              "      <th>68</th>\n",
              "      <th>87</th>\n",
              "      <th>16</th>\n",
              "      <th>83</th>\n",
              "      <th>35</th>\n",
              "      <th>53</th>\n",
              "      <th>45</th>\n",
              "      <th>69</th>\n",
              "      <th>76</th>\n",
              "    </tr>\n",
              "  </thead>\n",
              "  <tbody>\n",
              "    <tr>\n",
              "      <th>may</th>\n",
              "      <td>2</td>\n",
              "      <td>2</td>\n",
              "      <td>5</td>\n",
              "      <td>4</td>\n",
              "      <td>2</td>\n",
              "      <td>3</td>\n",
              "      <td>5</td>\n",
              "      <td>2</td>\n",
              "      <td>2</td>\n",
              "      <td>2</td>\n",
              "      <td>...</td>\n",
              "      <td>5</td>\n",
              "      <td>4</td>\n",
              "      <td>5</td>\n",
              "      <td>3</td>\n",
              "      <td>2</td>\n",
              "      <td>5</td>\n",
              "      <td>2</td>\n",
              "      <td>3</td>\n",
              "      <td>3</td>\n",
              "      <td>1</td>\n",
              "    </tr>\n",
              "    <tr>\n",
              "      <th>turugo</th>\n",
              "      <td>3</td>\n",
              "      <td>3</td>\n",
              "      <td>5</td>\n",
              "      <td>4</td>\n",
              "      <td>2</td>\n",
              "      <td>3</td>\n",
              "      <td>5</td>\n",
              "      <td>3</td>\n",
              "      <td>2</td>\n",
              "      <td>3</td>\n",
              "      <td>...</td>\n",
              "      <td>5</td>\n",
              "      <td>4</td>\n",
              "      <td>4</td>\n",
              "      <td>4</td>\n",
              "      <td>3</td>\n",
              "      <td>5</td>\n",
              "      <td>3</td>\n",
              "      <td>4</td>\n",
              "      <td>3</td>\n",
              "      <td>2</td>\n",
              "    </tr>\n",
              "  </tbody>\n",
              "</table>\n",
              "<p>2 rows × 100 columns</p>\n",
              "</div>\n",
              "      <button class=\"colab-df-convert\" onclick=\"convertToInteractive('df-d838deb3-7564-458f-b238-4b365bf692a3')\"\n",
              "              title=\"Convert this dataframe to an interactive table.\"\n",
              "              style=\"display:none;\">\n",
              "        \n",
              "  <svg xmlns=\"http://www.w3.org/2000/svg\" height=\"24px\"viewBox=\"0 0 24 24\"\n",
              "       width=\"24px\">\n",
              "    <path d=\"M0 0h24v24H0V0z\" fill=\"none\"/>\n",
              "    <path d=\"M18.56 5.44l.94 2.06.94-2.06 2.06-.94-2.06-.94-.94-2.06-.94 2.06-2.06.94zm-11 1L8.5 8.5l.94-2.06 2.06-.94-2.06-.94L8.5 2.5l-.94 2.06-2.06.94zm10 10l.94 2.06.94-2.06 2.06-.94-2.06-.94-.94-2.06-.94 2.06-2.06.94z\"/><path d=\"M17.41 7.96l-1.37-1.37c-.4-.4-.92-.59-1.43-.59-.52 0-1.04.2-1.43.59L10.3 9.45l-7.72 7.72c-.78.78-.78 2.05 0 2.83L4 21.41c.39.39.9.59 1.41.59.51 0 1.02-.2 1.41-.59l7.78-7.78 2.81-2.81c.8-.78.8-2.07 0-2.86zM5.41 20L4 18.59l7.72-7.72 1.47 1.35L5.41 20z\"/>\n",
              "  </svg>\n",
              "      </button>\n",
              "      \n",
              "  <style>\n",
              "    .colab-df-container {\n",
              "      display:flex;\n",
              "      flex-wrap:wrap;\n",
              "      gap: 12px;\n",
              "    }\n",
              "\n",
              "    .colab-df-convert {\n",
              "      background-color: #E8F0FE;\n",
              "      border: none;\n",
              "      border-radius: 50%;\n",
              "      cursor: pointer;\n",
              "      display: none;\n",
              "      fill: #1967D2;\n",
              "      height: 32px;\n",
              "      padding: 0 0 0 0;\n",
              "      width: 32px;\n",
              "    }\n",
              "\n",
              "    .colab-df-convert:hover {\n",
              "      background-color: #E2EBFA;\n",
              "      box-shadow: 0px 1px 2px rgba(60, 64, 67, 0.3), 0px 1px 3px 1px rgba(60, 64, 67, 0.15);\n",
              "      fill: #174EA6;\n",
              "    }\n",
              "\n",
              "    [theme=dark] .colab-df-convert {\n",
              "      background-color: #3B4455;\n",
              "      fill: #D2E3FC;\n",
              "    }\n",
              "\n",
              "    [theme=dark] .colab-df-convert:hover {\n",
              "      background-color: #434B5C;\n",
              "      box-shadow: 0px 1px 3px 1px rgba(0, 0, 0, 0.15);\n",
              "      filter: drop-shadow(0px 1px 2px rgba(0, 0, 0, 0.3));\n",
              "      fill: #FFFFFF;\n",
              "    }\n",
              "  </style>\n",
              "\n",
              "      <script>\n",
              "        const buttonEl =\n",
              "          document.querySelector('#df-d838deb3-7564-458f-b238-4b365bf692a3 button.colab-df-convert');\n",
              "        buttonEl.style.display =\n",
              "          google.colab.kernel.accessAllowed ? 'block' : 'none';\n",
              "\n",
              "        async function convertToInteractive(key) {\n",
              "          const element = document.querySelector('#df-d838deb3-7564-458f-b238-4b365bf692a3');\n",
              "          const dataTable =\n",
              "            await google.colab.kernel.invokeFunction('convertToInteractive',\n",
              "                                                     [key], {});\n",
              "          if (!dataTable) return;\n",
              "\n",
              "          const docLinkHtml = 'Like what you see? Visit the ' +\n",
              "            '<a target=\"_blank\" href=https://colab.research.google.com/notebooks/data_table.ipynb>data table notebook</a>'\n",
              "            + ' to learn more about interactive tables.';\n",
              "          element.innerHTML = '';\n",
              "          dataTable['output_type'] = 'display_data';\n",
              "          await google.colab.output.renderOutput(dataTable, element);\n",
              "          const docLink = document.createElement('div');\n",
              "          docLink.innerHTML = docLinkHtml;\n",
              "          element.appendChild(docLink);\n",
              "        }\n",
              "      </script>\n",
              "    </div>\n",
              "  </div>\n",
              "  "
            ]
          },
          "metadata": {},
          "execution_count": 53
        }
      ]
    },
    {
      "cell_type": "code",
      "source": [
        "print(\"Krippendorff's alpha for nominal metric: \", krippendorff.alpha(reliability_data=df.values,\n",
        "                                                                          level_of_measurement=\"nominal\"))\n",
        "print(\"Krippendorff's alpha for interval metric: \", krippendorff.alpha(reliability_data=df.values))\n"
      ],
      "metadata": {
        "colab": {
          "base_uri": "https://localhost:8080/"
        },
        "id": "lBh5N7j8d1bR",
        "outputId": "3664c65e-36e4-4e8d-aac3-3e02424a7f14"
      },
      "execution_count": 54,
      "outputs": [
        {
          "output_type": "stream",
          "name": "stdout",
          "text": [
            "Krippendorff's alpha for nominal metric:  0.5854976241619475\n",
            "Krippendorff's alpha for interval metric:  0.8832073949086641\n"
          ]
        }
      ]
    }
  ]
}