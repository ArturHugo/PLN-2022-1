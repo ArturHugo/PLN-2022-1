{
  "nbformat": 4,
  "nbformat_minor": 0,
  "metadata": {
    "colab": {
      "name": "Atividade04.ipynb",
      "provenance": [],
      "collapsed_sections": [],
      "authorship_tag": "ABX9TyN4xRJaIruDU/jtx3TT7jXg",
      "include_colab_link": true
    },
    "kernelspec": {
      "name": "python3",
      "display_name": "Python 3"
    },
    "language_info": {
      "name": "python"
    }
  },
  "cells": [
    {
      "cell_type": "markdown",
      "metadata": {
        "id": "view-in-github",
        "colab_type": "text"
      },
      "source": [
        "<a href=\"https://colab.research.google.com/github/ArturHugo/PLN-2022-1/blob/main/Atividade04.ipynb\" target=\"_parent\"><img src=\"https://colab.research.google.com/assets/colab-badge.svg\" alt=\"Open In Colab\"/></a>"
      ]
    },
    {
      "cell_type": "markdown",
      "source": [
        "# Atividade 04 - Multilayer Perceptron\n",
        "\n",
        "Grupo:\n",
        "\n",
        "- Artur Hugo cunha Pereira, 180030400\n"
      ],
      "metadata": {
        "id": "QOHZl0bgq7bx"
      }
    },
    {
      "cell_type": "code",
      "source": [
        "import numpy as np"
      ],
      "metadata": {
        "id": "2zQWwv-2jg7n"
      },
      "execution_count": null,
      "outputs": []
    },
    {
      "cell_type": "code",
      "source": [
        "def sigmoid(x):\n",
        "  return 1/(1 + np.exp(-x))"
      ],
      "metadata": {
        "id": "CIZrtnw5jjEv"
      },
      "execution_count": null,
      "outputs": []
    },
    {
      "cell_type": "code",
      "source": [
        "'''\n",
        "  [w11, w12]\n",
        "  [w13, w14]\n",
        "'''\n",
        "weights_l1 = np.array([[0.2, 0.3], [0.5, 0.1]])\n",
        "'''\n",
        "  [w21, w22]\n",
        "'''\n",
        "weights_l2 = np.array([0.8, 0.7])\n",
        "layers = [weights_l1, weights_l2]"
      ],
      "metadata": {
        "id": "L2URf6G-i-ez"
      },
      "execution_count": null,
      "outputs": []
    },
    {
      "cell_type": "code",
      "source": [
        "x = np.array([2, 4])"
      ],
      "metadata": {
        "id": "MNGhHP6wn_cb"
      },
      "execution_count": null,
      "outputs": []
    },
    {
      "cell_type": "markdown",
      "source": [
        "# Forward propagation"
      ],
      "metadata": {
        "id": "zdcXgPnTs3qr"
      }
    },
    {
      "cell_type": "code",
      "source": [
        "def feedforward(x, layers, activation_funct):\n",
        "  '''\n",
        "    [o1, o2] = activation_funct( [x1, x2] X [w11, w12] )\n",
        "                                            [w13, w14] \n",
        "  '''\n",
        "  o = activation_funct(np.matmul(x, layers[0]))\n",
        "\n",
        "  '''\n",
        "    y = activation_funct( [o1, o2] X [w21, w22]' )\n",
        "  '''\n",
        "  y = activation_funct(np.matmul(o, layers[1]))\n",
        "  return o, y"
      ],
      "metadata": {
        "id": "g03xPCU0kGbb"
      },
      "execution_count": null,
      "outputs": []
    },
    {
      "cell_type": "code",
      "source": [
        "# Conferindo resultado\n",
        "x1 = x[0]\n",
        "x2 = x[1]\n",
        "w11 = weights_l1[0][0]\n",
        "w12 = weights_l1[0][1]\n",
        "w13 = weights_l1[1][0]\n",
        "w14 = weights_l1[1][1]\n",
        "w21 = weights_l2[0]\n",
        "w22 = weights_l2[1]\n",
        "o1 = sigmoid(x1*w11+x2*w13)\n",
        "o2 = sigmoid(x1*w12+x2*w14)\n",
        "y = sigmoid(o1*w21+o2*w22)\n",
        "\n",
        "my_o, my_y = feedforward(x, layers, sigmoid)\n",
        "\n",
        "print(\"Expected y:\", y)\n",
        "print(\"My y:      \", my_y)"
      ],
      "metadata": {
        "colab": {
          "base_uri": "https://localhost:8080/"
        },
        "id": "6cjLn7w7mtDz",
        "outputId": "2f28d8c8-e882-4fda-887f-121411056ae2"
      },
      "execution_count": null,
      "outputs": [
        {
          "output_type": "stream",
          "name": "stdout",
          "text": [
            "Expected y: 0.7764683466456008\n",
            "My y:       0.7764683466456008\n"
          ]
        }
      ]
    },
    {
      "cell_type": "markdown",
      "source": [
        "# Back propagation"
      ],
      "metadata": {
        "id": "34orH8fbs68j"
      }
    },
    {
      "cell_type": "code",
      "source": [
        "# Back propagation considerando apenas um sample x de output y\n",
        "def back_propagation(y, o, label, layers, learning_rate):\n",
        "  delta_y = y*(1-y)*(y-label)\n",
        "  '''\n",
        "    [delta_o1, delta_o2] = [o1*(1-o1)*w21*delta_y, o2*(1-o2)*w22*delta_y] \n",
        "  '''\n",
        "  delta_o = o*(1-o)*layers[1]*delta_y\n",
        "  updated_layers = layers\n",
        "  '''\n",
        "    [w11, w12] = [w11 - lr*delta_o1*o1, w12 - lr*delta_o2*o2]\n",
        "    [w13, w14]   [w13 - lr*delta_o1*o1, w14 - lr*delta_o2*o2]\n",
        "  '''\n",
        "  updated_layers[0] -= learning_rate*delta_o*o\n",
        "  '''\n",
        "    [w21, w22] = [w21 - lr*delta_y*y, w22 - lr*delta_y*y]\n",
        "  '''\n",
        "  updated_layers[1] -= learning_rate*delta_y*y\n",
        "  return updated_layers"
      ],
      "metadata": {
        "id": "rGJUl-85s_5q"
      },
      "execution_count": null,
      "outputs": []
    },
    {
      "cell_type": "code",
      "source": [
        "# Conferindo resultado\n",
        "learning_rate = 0.3\n",
        "label = 1\n",
        "delta_y = y*(1-y)*(y-label)\n",
        "delta_o1 = o1*(1-o1)*w21*delta_y\n",
        "delta_o2 = o2*(1-o2)*w22*delta_y\n",
        "w11 -= learning_rate*delta_o1*o1\n",
        "w12 -= learning_rate*delta_o2*o2\n",
        "w13 -= learning_rate*delta_o1*o1\n",
        "w14 -= learning_rate*delta_o2*o2\n",
        "w21 -= learning_rate*delta_y*y\n",
        "w22 -= learning_rate*delta_y*y\n",
        "updated_layers = [np.array([[w11, w12], [w13, w14]]), np.array([w21, w22])]\n",
        "\n",
        "my_updated_layers = back_propagation(my_y, my_o, label, layers, learning_rate)\n",
        "\n",
        "print(\"Expected layer 1:\", updated_layers[0])\n",
        "print(\"My layer 1:      \", my_updated_layers[0])\n",
        "print(\"Expected layer 2:\", updated_layers[1])\n",
        "print(\"My layer 2:      \", my_updated_layers[1])"
      ],
      "metadata": {
        "colab": {
          "base_uri": "https://localhost:8080/"
        },
        "id": "oysOhh-Dhonn",
        "outputId": "c00e9d12-e52c-4c65-dea6-b914e3502e2b"
      },
      "execution_count": null,
      "outputs": [
        {
          "output_type": "stream",
          "name": "stdout",
          "text": [
            "Expected layer 1: [[0.20065098 0.30117107]\n",
            " [0.50065098 0.10117107]]\n",
            "My layer 1:       [[0.20065098 0.30117107]\n",
            " [0.50065098 0.10117107]]\n",
            "Expected layer 2: [0.80903747 0.70903747]\n",
            "My layer 2:       [0.80903747 0.70903747]\n"
          ]
        }
      ]
    }
  ]
}